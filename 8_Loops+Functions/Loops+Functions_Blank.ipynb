{
  "cells": [
    {
      "cell_type": "markdown",
      "metadata": {
        "id": "RXSuwWejonq8"
      },
      "source": [
        "# Loops & Functions\n",
        "\n",
        "[![Open In Colab](https://colab.research.google.com/assets/colab-badge.svg)](https://colab.research.google.com/github/ali-rivera/Python-Support-Hours/blob/main/8_Loops%2BFunctions/Loops%2BFunctions_Blank.ipynb)\n"
      ]
    },
    {
      "cell_type": "code",
      "execution_count": 1,
      "metadata": {
        "id": "qbr2Gsa7onq-"
      },
      "outputs": [],
      "source": [
        "# import packages\n",
        "import random as rand"
      ]
    },
    {
      "cell_type": "markdown",
      "metadata": {
        "id": "-XoROzTUonq_"
      },
      "source": [
        "## Loops\n",
        "Loops are pieces of code that do the same thing repeatedly until a predefinied condition is met. There are 2 kinds of loops: `for` loops and `while` loops, that differ on how that predefined condition is met.<br><br>\n",
        "**1. `for` loops**<br>\n",
        "    for loops will go item by item in a iterable object (like a list) you supply until it reaches the end. They are formatted like this:<br><br>\n",
        "        `for item in list:`<br>\n",
        "            &emsp; `do something`<br><br>\n",
        "    where `item` takes on the value of each item in `list` sequentially. You may want to do something with each item in the `do something` statement, but you don't have to. <br>\n",
        "    *for loops are great for when you know how many times you are going to do something*<br><br>\n",
        "\n",
        "**2. `while` loops**<br>\n",
        "    while loops will continue running *while* the definied condition is true. They are formatted like this: <br><br>\n",
        "        `while i<j:`<br>\n",
        "            &emsp; `do something - change i or j`<br><br>\n",
        "    where `i` and `j` are already defined. Note that using while loops will result in an infinite loop if something in the `do something` statement doesn't change `i` or `j` to eventually make the statement false.<br>\n",
        "    *while loops are great for when you don't know how long your loop will run - but can easily result in an infinite loop that will crash your program. Be careful!*\n",
        "    "
      ]
    },
    {
      "cell_type": "markdown",
      "metadata": {
        "id": "VcSKtRxPonq_"
      },
      "source": [
        "### Practice\n",
        "let's write a (for and while) loop to print the statement \"The best state is _______\" from a list of states."
      ]
    },
    {
      "cell_type": "code",
      "execution_count": 2,
      "metadata": {
        "id": "ZmWoX2QDonq_"
      },
      "outputs": [],
      "source": [
        "state_list = [\"Utah\", \"Alaska\", \"Maine\", \"New Jersey\", \"Virginia\"]"
      ]
    },
    {
      "cell_type": "code",
      "execution_count": 3,
      "metadata": {
        "id": "fFgWTAI5onrA",
        "outputId": "87159baf-5307-4450-e19f-1438fcc71ec8",
        "colab": {
          "base_uri": "https://localhost:8080/"
        }
      },
      "outputs": [
        {
          "output_type": "stream",
          "name": "stdout",
          "text": [
            "the best state is Utah. \n",
            "the best state is Alaska. \n",
            "the best state is Maine. \n",
            "the best state is New Jersey. \n",
            "the best state is Virginia. \n"
          ]
        }
      ],
      "source": [
        "# with a for loop\n",
        "for what in state_list:\n",
        "  print(f\"the best state is {what}. \")\n",
        "  #f formatting allows u to put in the value of whatever\n"
      ]
    },
    {
      "cell_type": "code",
      "execution_count": 5,
      "metadata": {
        "id": "vY9vozZConrA",
        "outputId": "6038b653-dfa2-4593-ff84-275ec39d53e4",
        "colab": {
          "base_uri": "https://localhost:8080/"
        }
      },
      "outputs": [
        {
          "output_type": "stream",
          "name": "stdout",
          "text": [
            "the best state is Utah\n",
            "the best state is Alaska\n",
            "the best state is Maine\n",
            "the best state is New Jersey\n",
            "the best state is Virginia\n"
          ]
        }
      ],
      "source": [
        "# with a while loop\n",
        "i = 0\n",
        "#i=0 is an index\n",
        "while i < len(state_list):  #i is the 0 index so iteration starts with utah\n",
        "  print(f\"the best state is {state_list[i]}\")\n",
        "  i+=1 # going to the next one after index 0, keeps going until it stops meeting the condition\n",
        "\n",
        "\n",
        "   # i += 1 # increase the value of i each time - otherwise we get an infinte loop!\n"
      ]
    },
    {
      "cell_type": "markdown",
      "metadata": {
        "id": "0i2yWF20onrA"
      },
      "source": [
        "dictionaries are also useful in for loops, but can be a little trickier to work with because you have to keep in mind that there are keys and values. Let's look at an example with states and their abbreviations, and print the statement \"__ is the abbreivation for _______ state.\""
      ]
    },
    {
      "cell_type": "code",
      "execution_count": 7,
      "metadata": {
        "id": "b0H0yn2monrB",
        "outputId": "49c80e44-7d8e-4c1d-aaa6-3fc673e6905e",
        "colab": {
          "base_uri": "https://localhost:8080/"
        }
      },
      "outputs": [
        {
          "output_type": "stream",
          "name": "stdout",
          "text": [
            "UT\n",
            "AK\n",
            "ME\n",
            "NJ\n",
            "VA\n"
          ]
        }
      ],
      "source": [
        "state_dict = {\"UT\":\"Utah\", \"AK\":\"Alaska\", \"ME\":\"Maine\", \"NJ\":\"New Jersey\", \"VA\":\"Virginia\"}\n",
        "#key value pairs- key and a value; keys are abbreviation and value is the state name\n",
        "for thing in state_dict: #just looks at keys/ abbreviations first\n",
        "    print(thing)\n",
        "\n",
        "## notice that iterating through the dictionary returns the keys. There are 2 ways we can get the values..."
      ]
    },
    {
      "cell_type": "code",
      "execution_count": 8,
      "metadata": {
        "id": "SLBYjq7PonrB",
        "outputId": "a79de7f7-c8ac-4b4f-cd7f-725e047bbcb3",
        "colab": {
          "base_uri": "https://localhost:8080/"
        }
      },
      "outputs": [
        {
          "output_type": "stream",
          "name": "stdout",
          "text": [
            "UT is the abbreviation for Utah.\n",
            "AK is the abbreviation for Alaska.\n",
            "ME is the abbreviation for Maine.\n",
            "NJ is the abbreviation for New Jersey.\n",
            "VA is the abbreviation for Virginia.\n"
          ]
        }
      ],
      "source": [
        "# We can index the dictionary to the key for each object\n",
        "for state in state_dict:\n",
        "  print(f\"{state} is the abbreviation for {state_dict[state]}.\")\n",
        "  #this is going to give value/ name  after key / abbreviation"
      ]
    },
    {
      "cell_type": "code",
      "execution_count": 9,
      "metadata": {
        "id": "vF9cu4_nonrB",
        "outputId": "6f32b25c-83f3-4631-91fe-a590664c3177",
        "colab": {
          "base_uri": "https://localhost:8080/"
        }
      },
      "outputs": [
        {
          "output_type": "stream",
          "name": "stdout",
          "text": [
            "UT Utah\n",
            "AK Alaska\n",
            "ME Maine\n",
            "NJ New Jersey\n",
            "VA Virginia\n"
          ]
        }
      ],
      "source": [
        "# We can use the .items() function on a dictiorary - which returns the key and value pair.\n",
        "#.items gives key and value as a pair - gives u 2 variabls in for loop\n",
        "for abbv, name in state_dict.items():\n",
        "  print(abbv, name)\n",
        "  #.items always returns values in key, value format\n",
        "\n",
        "\n",
        "## Note that we pass 2 things (abbr and name) after for so each iteration has 2 values - see what happens if you only use one thing, either abbr or name."
      ]
    },
    {
      "cell_type": "code",
      "source": [
        "for abbv, name in state_dict.items():\n",
        "  print(f\"{(abbv)}is the abbreviation for {name}.\")\n",
        ""
      ],
      "metadata": {
        "id": "nqVZWJ3YuABE",
        "outputId": "1b5e3a83-a9f9-40bb-dc04-60532bf939d2",
        "colab": {
          "base_uri": "https://localhost:8080/"
        }
      },
      "execution_count": 10,
      "outputs": [
        {
          "output_type": "stream",
          "name": "stdout",
          "text": [
            "UTis the abbreviation for Utah.\n",
            "AKis the abbreviation for Alaska.\n",
            "MEis the abbreviation for Maine.\n",
            "NJis the abbreviation for New Jersey.\n",
            "VAis the abbreviation for Virginia.\n"
          ]
        }
      ]
    },
    {
      "cell_type": "markdown",
      "metadata": {
        "id": "SPVXJzQ1onrB"
      },
      "source": [
        "### Helpful Hint!!\n",
        "\n",
        "Sometimes you'll want to check that you're getting the right value when looping through an object. After your write your `for item in list` statement, you can always just run `print(item)` to make sure you're getting the values you expect."
      ]
    },
    {
      "cell_type": "markdown",
      "metadata": {
        "id": "dIffTBjmonrB"
      },
      "source": [
        "## Functions\n",
        "Functions are pieces of code that you expect to run frequently throughout your code. They make your code shorter, easier to write, and easier to read.<br> <br>\n",
        "In general, a good funtion will... <br>\n",
        "- Have a short, descriptive name.\n",
        "- Have a docstring that tells the user what the function does, the input, and the output.\n",
        "- Meet one objective. You may need to do several things in a function to do so, but it should have 1 main objctive.\n",
        "<br><br>\n",
        "A function is formatted like this: <br>\n",
        "`def funct_name(paramers):`<br>\n",
        "    &emsp;`do something`<br><br>\n",
        "    &emsp;`return something` # this is optional, but if you want to be able to save a value from a function, you'll need a return statement"
      ]
    },
    {
      "cell_type": "markdown",
      "metadata": {
        "id": "tXwkkzPJonrB"
      },
      "source": [
        "### Practice"
      ]
    },
    {
      "cell_type": "markdown",
      "metadata": {
        "id": "SuWIQyR1onrC"
      },
      "source": [
        "Let's write a function that takes in a list of names and randomly chooses a person from it."
      ]
    },
    {
      "cell_type": "code",
      "execution_count": 23,
      "metadata": {
        "id": "4qiys7ItonrC"
      },
      "outputs": [],
      "source": [
        "names_list = [\"Nadir\", \"Bella\", \"Raymundo\", \"Sara\", \"Gargee\", \"Jake\"]"
      ]
    },
    {
      "cell_type": "code",
      "execution_count": 30,
      "metadata": {
        "id": "G2qj6KnqonrC"
      },
      "outputs": [],
      "source": [
        "def rando_person(list_of_names):\n",
        "  i= rand.randint(0, len(list_of_names)-1)\n",
        "  #list_of_names is a generic formula for any values like eg names_list is a particular value\n",
        "  person= list_of_names[i]\n",
        "  return person\n"
      ]
    },
    {
      "cell_type": "code",
      "execution_count": 31,
      "metadata": {
        "id": "QaH3C39HonrC",
        "outputId": "0e334369-2722-4eae-9649-d1cb4a21d4e3",
        "colab": {
          "base_uri": "https://localhost:8080/",
          "height": 37
        }
      },
      "outputs": [
        {
          "output_type": "execute_result",
          "data": {
            "text/plain": [
              "'Gargee'"
            ],
            "application/vnd.google.colaboratory.intrinsic+json": {
              "type": "string"
            }
          },
          "metadata": {},
          "execution_count": 31
        }
      ],
      "source": [
        "rando_person(names_list)\n",
        "#error as length of list is 6 items but index only upto 5 so when it tries to index to 6 theres nothing, thats why length is just index-1"
      ]
    },
    {
      "cell_type": "code",
      "source": [
        "#dont have to have a return line in function- but return gives u the output and allows u to save value\n",
        "#if u want to find out what i is in the function, error as i only exists inside the function not out of it\n",
        "#same way, person is saved outside of the function and returning it allows us to do so\n",
        "#this is what the return does:\n",
        "our_person=rando_person(names_list)\n",
        "print(our_person)"
      ],
      "metadata": {
        "id": "EhQAei0IxcgB",
        "outputId": "cc14ca3d-f6a4-4e1b-fe2f-4769ae2f3371",
        "colab": {
          "base_uri": "https://localhost:8080/"
        }
      },
      "execution_count": 35,
      "outputs": [
        {
          "output_type": "stream",
          "name": "stdout",
          "text": [
            "Sara\n"
          ]
        }
      ]
    },
    {
      "cell_type": "code",
      "source": [
        "#make a doc string\n",
        "#how the function is built- side notes- and what kind of data type to expect\n",
        "'''\n",
        "#function and code- everything within the quotes is like a comment- comments out doesnt run\n",
        "input: a list of names (list )\n",
        "output: a name (string)\n",
        "description- pick a random person from list\n",
        "'''\n",
        "our_person=rando_person(names_list)\n",
        "print(our_person)\n"
      ],
      "metadata": {
        "id": "Mw8IvlOZyLhi"
      },
      "execution_count": null,
      "outputs": []
    },
    {
      "cell_type": "markdown",
      "metadata": {
        "id": "kyTvIG-RonrC"
      },
      "source": [
        "## Next steps\n",
        "\n",
        "\n",
        "Here are some practice problems on the topics we covered today: <br>\n",
        "- [Loops Practice Problems](https://pynative.com/python-if-else-and-for-loop-exercise-with-solutions/)\n",
        "- [Functions Practice Problems](https://pynative.com/python-functions-exercise-with-solutions/)\n",
        "\n",
        "The best way to learn is by trying things and making mistakes!<br>\n",
        "Open a new code file and try some of these excersices. Remember to look up documentation, focus on the areas that are uncomfortable, and embrace the struggle!\n"
      ]
    },
    {
      "cell_type": "markdown",
      "metadata": {
        "id": "4jY6d90sonrC"
      },
      "source": []
    }
  ],
  "metadata": {
    "kernelspec": {
      "display_name": "base",
      "language": "python",
      "name": "python3"
    },
    "language_info": {
      "codemirror_mode": {
        "name": "ipython",
        "version": 3
      },
      "file_extension": ".py",
      "mimetype": "text/x-python",
      "name": "python",
      "nbconvert_exporter": "python",
      "pygments_lexer": "ipython3",
      "version": "3.11.4"
    },
    "colab": {
      "provenance": []
    }
  },
  "nbformat": 4,
  "nbformat_minor": 0
}