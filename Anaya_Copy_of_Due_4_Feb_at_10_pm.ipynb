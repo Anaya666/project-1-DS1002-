{
  "nbformat": 4,
  "nbformat_minor": 0,
  "metadata": {
    "colab": {
      "provenance": [],
      "include_colab_link": true
    },
    "kernelspec": {
      "name": "python3",
      "display_name": "Python 3"
    },
    "language_info": {
      "name": "python"
    }
  },
  "cells": [
    {
      "cell_type": "markdown",
      "metadata": {
        "id": "view-in-github",
        "colab_type": "text"
      },
      "source": [
        "<a href=\"https://colab.research.google.com/github/Anaya666/project-1-DS1002-/blob/main/Anaya_Copy_of_Due_4_Feb_at_10_pm.ipynb\" target=\"_parent\"><img src=\"https://colab.research.google.com/assets/colab-badge.svg\" alt=\"Open In Colab\"/></a>"
      ]
    },
    {
      "cell_type": "markdown",
      "source": [
        "## DS 1002 homework due Sunday Feb 4 at 10 pm\n"
      ],
      "metadata": {
        "id": "zAw2bmn-TjFJ"
      }
    },
    {
      "cell_type": "markdown",
      "source": [
        "\n",
        "The notebook from Wednesday's class is in my GitHib repository, including the little script we wrote at the end to find mangos in a list of fruit.  The file is called `MorePythonBasics.ipynb`.\n",
        "\n",
        "(By the way I wondered if the correct spelling was \"mangos\" or \"mangoes\" and I found [this](https://www.mango.org/blog-mangos-or-mangoes/)!  Who knew?  There's a National Mango Board!  And they're prepared to adjudicate this and other difficult mango-related questions.)\n",
        "\n",
        "\n"
      ],
      "metadata": {
        "id": "Cmf4xleCSWCu"
      }
    },
    {
      "cell_type": "code",
      "source": [],
      "metadata": {
        "id": "42_70rf683am"
      },
      "execution_count": null,
      "outputs": []
    },
    {
      "cell_type": "markdown",
      "source": [
        "### Problem 1:  finding fruit\n",
        "\n",
        "Adapt the function we wrote in class so that it takes two arguments,\n",
        "\n",
        "`fruit` and `hungryfor` ,\n",
        "\n",
        "and then searches through the list `fruit` for the item `hungryfor`.  The line that calls the function should look like\n",
        "\n",
        "`find_fruit(food, hungryfor)`\n",
        "\n",
        "Make it print out the results in the same way, so for example if `food` is what we entered in class and `hungryfor = \"tomatoes\"` then the output will be\n",
        "\n",
        "```python\n",
        "No tomatoes here.\n",
        "No tomatoes here.\n",
        "No tomatoes here.\n",
        "No tomatoes here.\n",
        "No tomatoes here.\n",
        "```\n",
        "Test your code by changing the values of `food` and `hungryfor` and make sure the output is what you expect.  Show a few outputs, each in its own code chunk.\n",
        "\n"
      ],
      "metadata": {
        "id": "rJLyGryAThhp"
      }
    },
    {
      "cell_type": "code",
      "source": [],
      "metadata": {
        "id": "yfpI46sfCoT9"
      },
      "execution_count": null,
      "outputs": []
    },
    {
      "cell_type": "code",
      "source": [
        "def find_fruit(fruit, hungryfor):\n",
        "    for item in fruit:\n",
        "        if item == hungryfor:\n",
        "            print(f\"Hooray! I found {hungryfor}.\")\n",
        "        else:\n",
        "            print(f\"No {hungryfor} here.\")\n",
        "\n",
        "# First test:\n",
        "food = [\"apples\", \"oranges\", \"mangos\", \"bananas\", \"blueberries\"]\n",
        "hungryfor = \"mangos\"\n",
        "find_fruit(food, hungryfor)\n",
        "\n",
        "\n",
        "\n"
      ],
      "metadata": {
        "id": "YXwLLFCt6H2f",
        "outputId": "e67c9222-f923-4453-cf6d-094a0cb7ecca",
        "colab": {
          "base_uri": "https://localhost:8080/"
        }
      },
      "execution_count": null,
      "outputs": [
        {
          "output_type": "stream",
          "name": "stdout",
          "text": [
            "No mangos here.\n",
            "No mangos here.\n",
            "Hooray! I found mangos.\n",
            "No mangos here.\n",
            "No mangos here.\n"
          ]
        }
      ]
    },
    {
      "cell_type": "code",
      "source": [
        "#second test\n",
        "food = [\"apples\", \"oranges\", \"mangos\", \"bananas\", \"blueberries\"]\n",
        "hungryfor = \"tomatoes\"\n",
        "find_fruit(food, hungryfor)"
      ],
      "metadata": {
        "id": "9YAGDxGaJ4OX",
        "outputId": "c1e5b155-372c-465c-f1e6-d3a4c3cb6e49",
        "colab": {
          "base_uri": "https://localhost:8080/"
        }
      },
      "execution_count": null,
      "outputs": [
        {
          "output_type": "stream",
          "name": "stdout",
          "text": [
            "No tomatoes here.\n",
            "No tomatoes here.\n",
            "No tomatoes here.\n",
            "No tomatoes here.\n",
            "No tomatoes here.\n"
          ]
        }
      ]
    },
    {
      "cell_type": "code",
      "source": [
        "#Third test\n",
        "food = [\"grapes\", \"peaches\", \"watermelon\", \"plums\", \"kiwi\"]\n",
        "hungryfor = \"apples\"\n",
        "find_fruit(food, hungryfor)"
      ],
      "metadata": {
        "id": "bYdqsfrh6KnE",
        "outputId": "0c28cdbb-04cd-4ef7-bd71-4bfd0fc44632",
        "colab": {
          "base_uri": "https://localhost:8080/"
        }
      },
      "execution_count": null,
      "outputs": [
        {
          "output_type": "stream",
          "name": "stdout",
          "text": [
            "No apples here.\n",
            "No apples here.\n",
            "No apples here.\n",
            "No apples here.\n",
            "No apples here.\n"
          ]
        }
      ]
    },
    {
      "cell_type": "markdown",
      "source": [
        "#### Notes\n",
        "1. Once you have run a code chunk in the notebook, it will remember that it has been run.  You don't have to call the function in the same code chunk where the function is defined.  In other words, to call the function with new inputs you can simply make a new code chunk, change the inputs, and call the function.  *You don't have to retype the definition of the function each time.*\n",
        "\n",
        "2. Make sure you clean things up when you're done, so you don't include old code that doesn't work or old incorrect outputs.\n"
      ],
      "metadata": {
        "id": "AMp-a1ym6W7w"
      }
    },
    {
      "cell_type": "markdown",
      "source": [
        "### Problem 2:  the `input()` function\n",
        "\n",
        "(a) Programming gets way more fun when you start to interact with your own programs!  Here is a function that lets you start doing that.  Run the following code and see what happens:\n"
      ],
      "metadata": {
        "id": "R-s9cZ6GYWNX"
      }
    },
    {
      "cell_type": "code",
      "source": [
        "input()\n",
        "print(\"Hello there!\")"
      ],
      "metadata": {
        "id": "IEK8O2qNYkXn",
        "outputId": "0203c60b-8e22-4012-fabb-7c0a30e63736",
        "colab": {
          "base_uri": "https://localhost:8080/"
        }
      },
      "execution_count": null,
      "outputs": [
        {
          "output_type": "stream",
          "name": "stdout",
          "text": [
            "kk\n",
            "Hello there!\n"
          ]
        }
      ]
    },
    {
      "cell_type": "markdown",
      "source": [
        "(b) As you just saw, the code waits for you to enter something before it continues.  If you want to actually use the input in the code, you should assign its value to a variable:"
      ],
      "metadata": {
        "id": "sktZu8wWzFF6"
      }
    },
    {
      "cell_type": "code",
      "source": [
        "message = input()\n",
        "print(message)"
      ],
      "metadata": {
        "id": "fMmBkzbyz9Ty",
        "outputId": "5012c239-ea87-4874-f15f-521bf5b53bab",
        "colab": {
          "base_uri": "https://localhost:8080/"
        }
      },
      "execution_count": null,
      "outputs": [
        {
          "output_type": "stream",
          "name": "stdout",
          "text": [
            "hi\n",
            "hi\n"
          ]
        }
      ]
    },
    {
      "cell_type": "markdown",
      "source": [
        "(c) Now you can start interacting.  Write some code that asks the user what they are hungry for (using a print statement), and then takes the user input, and then runs the `find_fruit` function from the previous code block using the user input as the `hungryfor` variable.  Test your code, and then include a few different outputs that demonstrate that the code works."
      ],
      "metadata": {
        "id": "ny41z-dQYmjQ"
      }
    },
    {
      "cell_type": "code",
      "source": [
        "def find_fruit(fruit, hungryfor):\n",
        "    for item in fruit:\n",
        "        if item == hungryfor:\n",
        "            print(f\"Hooray! I found {hungryfor}.\")\n",
        "            return  # Added return to exit the function once the item is found\n",
        "        else:\n",
        "            print(f\"No {hungryfor} here.\")\n",
        "\n",
        "# Ask the user what they are hungry for\n",
        "user_input = input(\"What are you hungry for? \")\n",
        "\n",
        "# Run the find_fruit function with user input\n",
        "find_fruit(food, user_input)\n"
      ],
      "metadata": {
        "id": "SKAVoAZ00xOx",
        "outputId": "d49fb7f6-d062-42e8-be4c-ba79dcc06c4c",
        "colab": {
          "base_uri": "https://localhost:8080/"
        }
      },
      "execution_count": null,
      "outputs": [
        {
          "output_type": "stream",
          "name": "stdout",
          "text": [
            "What are you hungry for? mangos\n",
            "No mangos here.\n",
            "No mangos here.\n",
            "No mangos here.\n",
            "No mangos here.\n",
            "No mangos here.\n"
          ]
        }
      ]
    },
    {
      "cell_type": "code",
      "source": [
        "# run it here, and add more code chunks for more runs"
      ],
      "metadata": {
        "id": "sQQVP1oa5dR7"
      },
      "execution_count": null,
      "outputs": []
    },
    {
      "cell_type": "markdown",
      "source": [
        "### Problem 3:  ratings  \n",
        "Write a piece of code which prompts a user with the question \"What is your rating? (1-10)\" and then asks for user input.  Let's say the input is 3.  Once the input is received, print out a message that says.\n",
        "\n",
        "\"Your rating is *** .\"\n",
        "\n",
        "Obviously, your program should print the number of stars corresponding to the input!  If the input is 5, it should print\n",
        "\n",
        "\"Your rating is ***** .\"\n",
        "\n",
        "Show at least two outputs of your code."
      ],
      "metadata": {
        "id": "5CWOlHBz0xoZ"
      }
    },
    {
      "cell_type": "code",
      "source": [
        "rating_of_user=input(\"what is your rating (1-10)\")\n",
        "#converting the rating to an integer so that it can be eventually translated into number of stars\n",
        "rating=int(rating_of_user)\n",
        "#the message has to be printed in terms of number of stars corresponding to integer value of rating\n",
        "#f formatting will be used and hence curly brackets with what I want to translate the value to\n",
        "print(f\"Your rating is {'*'* rating}.\")\n",
        "\n",
        "\n",
        "\n",
        "\n",
        "\n"
      ],
      "metadata": {
        "id": "MCWnTAUW2Gin",
        "outputId": "b1121ba9-1b68-4164-bede-a10d2649a336",
        "colab": {
          "base_uri": "https://localhost:8080/"
        }
      },
      "execution_count": null,
      "outputs": [
        {
          "output_type": "stream",
          "name": "stdout",
          "text": [
            "what is your rating (1-10)8\n",
            "Your rating is ********.\n"
          ]
        }
      ]
    },
    {
      "cell_type": "code",
      "source": [
        "n=input()\n",
        "print(\"Your rating is\"+int(n)*\"*\"+\".\")\n",
        "print(\"Your rating is\",int(n)*'*',\".\")\n",
        "print(f\"Your rating is {int(n)*'*'}.\")"
      ],
      "metadata": {
        "colab": {
          "base_uri": "https://localhost:8080/"
        },
        "id": "ZD4qld8S-9pt",
        "outputId": "c8d4f3d6-734d-4ba5-a20b-a23b8b6fdf0f"
      },
      "execution_count": null,
      "outputs": [
        {
          "output_type": "stream",
          "name": "stdout",
          "text": [
            "7\n",
            "Your rating is*******.\n",
            "Your rating is ******* .\n",
            "Your rating is *******.\n"
          ]
        }
      ]
    },
    {
      "cell_type": "code",
      "source": [
        "try:\n",
        "  #accounting for errors: handling a non-integer input\n",
        "  rating_of_user=input(\"What is your rating (1-10):\")\n",
        "  #convert input to float to account for potential non-integer value input\n",
        "  rating=float(rating_of_user)\n",
        "  #checking to ensure rating is within the range of 1 to 10\n",
        "  if 1<=rating<=10:\n",
        "    #comvert non-integer rating to integer value and print as stars using f formatting\n",
        "    print(f\"Your rating is {'*'* int(rating)}.\")\n",
        "  else:\n",
        "      print(\"Please enter a valid number between 1 and 10\")\n",
        "#handling value error for non-numeric input\n",
        "except ValueError:\n",
        "  print(\"Invalid input. Enter a valid number between 1 and 10.\")\n",
        "\n",
        "\n",
        "\n",
        "\n"
      ],
      "metadata": {
        "id": "nxm67oCk8Ukn",
        "outputId": "d8ae4c36-5ccc-4129-f497-f4d653fc24c8",
        "colab": {
          "base_uri": "https://localhost:8080/"
        }
      },
      "execution_count": null,
      "outputs": [
        {
          "output_type": "stream",
          "name": "stdout",
          "text": [
            "What is your rating (1-10):99\n",
            "Please enter a valid number between 1 and 10\n"
          ]
        }
      ]
    },
    {
      "cell_type": "markdown",
      "source": [
        "You do not have to do this as part of the assignment, but one thing to think about with any code that has **interactivity** is that you want to make it **robust**.  This means you should imagine someone is *trying* to break your code, and you should try to make it as indestructible as possible.\n",
        "\n",
        "What will happen to your code if someone enters 3.5?  Or -12?  Or \"nonsense\"?  Test it and see.  Think about how you might guard against errors.\n"
      ],
      "metadata": {
        "id": "VRfc9puT2yac"
      }
    },
    {
      "cell_type": "code",
      "source": [
        "#put code here\n",
        "print(\"what is your rating \")\n",
        "\n",
        "#make sure n is a positive whole number between 1 and 10 - is integer operation\n"
      ],
      "metadata": {
        "id": "1-ciVRg-AYZL"
      },
      "execution_count": null,
      "outputs": []
    }
  ]
}