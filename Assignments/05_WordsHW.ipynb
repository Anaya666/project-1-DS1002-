{
  "nbformat": 4,
  "nbformat_minor": 0,
  "metadata": {
    "colab": {
      "provenance": [],
      "include_colab_link": true
    },
    "kernelspec": {
      "name": "python3",
      "display_name": "Python 3"
    },
    "language_info": {
      "name": "python"
    }
  },
  "cells": [
    {
      "cell_type": "markdown",
      "metadata": {
        "id": "view-in-github",
        "colab_type": "text"
      },
      "source": [
        "<a href=\"https://colab.research.google.com/github/Anaya666/project-1-DS1002-/blob/main/Assignments/05_WordsHW.ipynb\" target=\"_parent\"><img src=\"https://colab.research.google.com/assets/colab-badge.svg\" alt=\"Open In Colab\"/></a>"
      ]
    },
    {
      "cell_type": "markdown",
      "source": [
        "## Words (an assignment due Weds 28 Feb by noon)\n",
        "\n",
        "There are many word lists available on the internet, of varying size and quality.  You have one on your own computer, actually, which is used by any software that has a spell-check feature.  As you type, the software (Outlook, or Microsoft Word, or whatever) is constantly looking up words to see if they are on the word list, and if not it will alert you that it thinks the word is misspelled.\n",
        "\n",
        "(On a Mac, one such file is located at `/usr/share/dict/web2`.  I'm not sure where to find it on a PC.)\n",
        "\n",
        "For this assignment we will use a word list called `web2` that you can access via a python package called `english_words`.\n",
        "\n"
      ],
      "metadata": {
        "id": "-nyptjTP99WZ"
      }
    },
    {
      "cell_type": "markdown",
      "source": [
        "### General instructions\n",
        "\n",
        "- You may work in teams of up to three people.  If you do so, only one of your team should submit your link on Canvas, and you should include all names **both in the document and in a comment on Canvas**.\n",
        "- Some of these problems are tricky.  You should try to figure out how to solve them, rather than looking up answers.  If you need to know how to do a very specific thing, or if you are looking for the syntax for a particular function, that is an acceptable use of google.  You should under no circumstance search for existing code, or ask a chatbot to produce code, to solve the problems.\n",
        "- Some of the problems are trickier than others.  I think you can solve them all using tools we have seen in previous notebooks, although there are often more efficient ways to solve them.  (This was true for the image filtering problem we discussed last week, as you may recall.)\n",
        "- As usual, submit a clean, annotated notebook with appropriately commented code.  Make it easy to grade!"
      ],
      "metadata": {
        "id": "6ehoA20X84Hk"
      }
    },
    {
      "cell_type": "markdown",
      "source": [
        "\n",
        "### Assignment\n",
        "\n",
        "0.  Open a new colab notebook, and put this code into a code chunk at the top:\n",
        "```\n",
        "!pip install english_words\n",
        "from english_words import get_english_words_set\n",
        "words = get_english_words_set(['web2'], lower=True)\n",
        "```"
      ],
      "metadata": {
        "id": "eJU4Y9YpUmXB"
      }
    },
    {
      "cell_type": "markdown",
      "source": [
        "1.  The variable `words` is not yet a `list`.  What is its data type?  Convert it to a `list` called `wordlist`.  How long is `wordlist`?\n",
        "\n",
        "1.  Print out the first ten words in `wordlist`.  What do you notice?\n",
        "\n",
        "1.  Make a list called `alpha_list` containing all the same words as the wordlist, but in alphabetical order.  (Use the `sorted()` function.) Print out the first ten words in `alpha_list`.\n",
        "\n",
        "1.  How many words start with `a`?  I mean words on your list (either sorted or unsorted); whenever I say \"words\" from now on I will be referring to these lists.\n",
        "\n",
        "1.  How many words have a `q` in them?  What fraction of words do *not* have an `e`?\n",
        "\n",
        "1.  Import `numpy` and convert your lists to `numpy` arrays.  Also execute the following code:  \n",
        "```alphabet = [chr(i) for i in range(ord('a'),ord('z')+1)]```  \n",
        "What does this do?\n",
        "\n",
        "1.  Make a bar graph of the number of words starting with each letter.  You will have to import at least one more package to do this.  Label the axes and give the whole plot a title.\n",
        "\n",
        "1.  What are the six longest words in the word list?\n",
        "\n",
        "1.  Make a histogram of the number of words of each length.  Again, give the plot a title and label the axes.  What is the most common length of a word in the wordlist?\n",
        "\n",
        "1.  Finally, before you submit your notebook, go back and clean it up, remove unnecessary code, add text explanations and comments where appropriate, and so on.  Make it as easy as possible for us to read.\n"
      ],
      "metadata": {
        "id": "c4_sYArzWWfQ"
      }
    },
    {
      "cell_type": "code",
      "source": [
        "!pip install english_words\n",
        "from english_words import get_english_words_set\n",
        "words = get_english_words_set(['web2'], lower=True)\n"
      ],
      "metadata": {
        "id": "F_YM_YzM_7kL",
        "outputId": "ae25017c-5eda-4892-a056-21b0e0bb5874",
        "colab": {
          "base_uri": "https://localhost:8080/"
        }
      },
      "execution_count": 2,
      "outputs": [
        {
          "output_type": "stream",
          "name": "stdout",
          "text": [
            "Requirement already satisfied: english_words in /usr/local/lib/python3.10/dist-packages (2.0.1)\n"
          ]
        }
      ]
    },
    {
      "cell_type": "code",
      "source": [
        "\n",
        "\n",
        "\n",
        "#print(type(words))\n",
        "word_list=list(words)\n",
        "print(len(word_list))\n",
        "#print(word_list[0:10])\n",
        "\n",
        "#alpha_list=sorted(word_list)\n",
        "#print(alpha_list[0:10])\n",
        "\n",
        "#counting number of words with a with for loop and lambda function\n",
        "#count=0\n",
        "#for words in word_list:\n",
        "  #if words[0]==\"a\":\n",
        "    #print(words)\n",
        "   # count=count+1\n",
        "#print(count)\n",
        "\n",
        "#a_list=list(filter(lambda x:x[0]==\"a\",word_list))\n",
        "#print(len(a_list))\n",
        "\n",
        "#number of words with q in them\n",
        "count=0\n",
        "#for i in word_list:\n",
        "#  if \"q\" in i:\n",
        " #   count=count+1\n",
        "#print(count)\n",
        "\n",
        "#q_list=list(filter(lambda x:\"q\"in x, word_list))\n",
        "#print(len(q_list))\n",
        "\n",
        "#total number of words\n",
        "#total=len(word_list)\n",
        "#print(total)\n",
        "\n",
        "#number of words with the letter e\n",
        "#e_words=list(filter(lambda x:\"e\" in x,word_list))\n",
        "#e_word_count=len(e_words)\n",
        "#print(e_word_count)\n",
        "\n",
        "#number of words without the letter e\n",
        "#words_without_e=total-e_word_count\n",
        "#print(words_without_e)\n",
        "\n",
        "\n",
        "#fraction of words without e\n",
        "#fraction=words_without_e/total\n",
        "#print(fraction)\n",
        "\n",
        "import numpy as np\n",
        "import matplotlib.pyplot as plt\n",
        "word_array=np.array(word_list)\n",
        "#alpha_array=np.array(alpha_list)\n",
        "print(word_array)\n",
        "#print(alpha_array)\n",
        "#variable = [expression for loop if condition]----list comprehension format\n",
        "#for i in range(ord('a'),ord('z')+1): #+1 is to include z because the last index is excluded\n",
        " # print(chr(i)) #chr is a character string representing a character\n",
        "\n",
        "#alphabet = [chr(i) for i in range(ord('a'),ord('z')+1)] #\n",
        "#print(alphabet)\n",
        "\n",
        "\n",
        "#dict1 = {}\n",
        "#for i in alphabet: #i is each individual letter a-z\n",
        " # count=0\n",
        " # for j in word_list:\n",
        " #   if i == j[0]: #j is each individual word in word_list\n",
        " #     count=count+1\n",
        " # dict1[i]=count\n",
        "#print(dict1)\n",
        "\n",
        "#x = dict1.keys()\n",
        "#y=dict1.values()\n",
        "#print(x)\n",
        "#print(y)\n",
        "#plt.bar(x,y)\n",
        "#plt.title(\"number of words starting with each letter\")\n",
        "#plt.show()\n",
        "\n",
        "#finding the six longest words in word list\n",
        "longest_words=sorted(word_list,key=len,reverse=True)\n",
        "print(longest_words[0:6])\n",
        "\n",
        "#making a histogram of the six longest words and number of letters of each word\n",
        "#x_axis= word names\n",
        "#y_axis= number of letters in each word\n",
        "x_axis=longest_words[0:6]\n",
        "y_axis = [len(word) for word in x_axis]  # Calculate lengths of the words\n",
        "\n",
        "# Creating the histogram\n",
        "plt.bar(x_axis, y_axis,width=0.4)  # Use bar plot for categorical x-axis\n",
        "plt.title(\"Number of Letters in Each Word\")\n",
        "plt.xlabel(\"Words\")\n",
        "plt.ylabel(\"Number of Letters\")\n",
        "plt.show()\n",
        "\n",
        "#most common length is 24\n",
        "\n",
        "\n",
        "\n",
        "\n"
      ],
      "metadata": {
        "colab": {
          "base_uri": "https://localhost:8080/",
          "height": 560
        },
        "id": "p2mQfGwZ8f0j",
        "outputId": "8bde4ca7-9923-4dba-c1d9-f65f767ec087"
      },
      "execution_count": 4,
      "outputs": [
        {
          "output_type": "stream",
          "name": "stdout",
          "text": [
            "234450\n",
            "['blair' 'categorematical' 'tibetan' ... 'parasitogenic' 'pentaptych'\n",
            " 'magazine']\n",
            "['antidisestablishmentarianism', 'pathologicopsychological', 'tetraiodophenolphthalein', 'formaldehydesulphoxylate', 'scientificophilosophical', 'thyroparathyroidectomize']\n"
          ]
        },
        {
          "output_type": "display_data",
          "data": {
            "text/plain": [
              "<Figure size 640x480 with 1 Axes>"
            ],
            "image/png": "[encoded data removed]"
          },
          "metadata": {}
        }
      ]
    },
    {
      "cell_type": "markdown",
      "source": [
        "\n",
        "#### This formerly bonus problem has been promoted to a regular problem.\n",
        "\n",
        "11. How many words contain both letters `v` and `a`?  What about both `w` and `l`?  The letters don't have to be next to each other or in the order I gave them, just anywhere in the word.  How many times do you have to loop through the word list to answer this question?  How long does it take to run?  This should appear in a tiny font under the green checkmark next to the \"run\" button after the code finishes (without errors, of course).\n",
        "\n",
        "### BONUS:\n",
        "\n",
        "##### This problem was a bonus before and still is.\n",
        "1.  What is the pair of letters that appear in the most words?  How many words contain both those letters?  \n",
        "In other words, in the previous problem, you counted the words for two separate pairs, `v,a` and `w,l`.  I'm now asking, out of all possible pairs, which pair would give the largest answer, and what that number is.\n",
        "Answer the same questions for the *fewest* words:  what pair of letters is contained in the fewest words, and how many words are those two letters contained in?\n",
        "\n",
        "Note:  **Before you attempt this, plan your strategy!**  What exactly is the infomation you want to collect?  How should you structure that information?  How can you set up code to implement that structure?  When you have something you are ready to try, **test your code on a smaller set than the whole word list!**  The reason for this is that the word list is long, and each time you run the code on the whole list it might take several minutes to execute.  \n",
        "\n",
        "\n",
        "2.  Make a heat map encapsulating the frequencies of pairs of letters occurring together in a word.  In other words you will have two axes, each labeled with the letters of the alphabet, and corresponding to a pair (one from each axis) there will be a colored square, with color determined by how many words on the word list contain both letters.\n",
        "\n",
        "Note: pay attention to what happens along the diagonal.  What does it mean?  Adjust your graphic to account for this, if appropriate.\n",
        "\n",
        "\n",
        "Tip:  there is a way to go back and forth between letters and numbers.  The `ord()` function takes characters to integers, and the `chr()` function takes integers back to characters.  Specifically, the (lower case) alphabetic characters are encoded with integers starting at 97.  So if you type `ord('a')` the output will be `97`.  If you type `chr(98)` the output will be `'b'`.  The way I solved the bonus problem, this tip was useful.  (See also problem 6.)\n",
        "\n",
        "\n",
        "\n",
        "\n",
        "\n"
      ],
      "metadata": {
        "id": "jhSfPMBrjEff"
      }
    }
  ]
}