{
  "cells": [
    {
      "cell_type": "markdown",
      "metadata": {
        "id": "view-in-github",
        "colab_type": "text"
      },
      "source": [
        "<a href=\"https://colab.research.google.com/github/Anaya666/project-1-DS1002-/blob/main/Assignments/06_Pandas_exercises.ipynb\" target=\"_parent\"><img src=\"https://colab.research.google.com/assets/colab-badge.svg\" alt=\"Open In Colab\"/></a>"
      ]
    },
    {
      "cell_type": "markdown",
      "metadata": {
        "id": "L_nKffgWPs-1"
      },
      "source": [
        "## Pandas exercises 1\n",
        "\n",
        "1. Import dependencies"
      ]
    },
    {
      "cell_type": "code",
      "execution_count": 53,
      "metadata": {
        "id": "hASl6yoNPs-2"
      },
      "outputs": [],
      "source": [
        "import pandas as pd\n",
        "import numpy as np\n",
        "import seaborn as sns\n",
        "import matplotlib.pyplot as plt"
      ]
    },
    {
      "cell_type": "markdown",
      "metadata": {
        "id": "33KUt_fEPs-2"
      },
      "source": [
        "---"
      ]
    },
    {
      "cell_type": "code",
      "execution_count": 54,
      "metadata": {
        "id": "ZZmr1aIoPs-3"
      },
      "outputs": [],
      "source": [
        "list = [98, 24, 46, 87, 33]"
      ]
    },
    {
      "cell_type": "markdown",
      "metadata": {
        "id": "jGSEPEqXPs-3"
      },
      "source": [
        "2. Convert `list` to a pandas series using `pd.Series`"
      ]
    },
    {
      "cell_type": "code",
      "execution_count": 55,
      "metadata": {
        "id": "nZ1y9HF6Ps-3",
        "outputId": "e4f6f1b5-2623-4ed3-bc79-7a8ca5ef7524",
        "colab": {
          "base_uri": "https://localhost:8080/"
        }
      },
      "outputs": [
        {
          "output_type": "stream",
          "name": "stdout",
          "text": [
            "0    98\n",
            "1    24\n",
            "2    46\n",
            "3    87\n",
            "4    33\n",
            "dtype: int64\n"
          ]
        }
      ],
      "source": [
        "series= pd.Series(list)\n",
        "print(series)"
      ]
    },
    {
      "cell_type": "markdown",
      "metadata": {
        "id": "rORNi5YyPs-4"
      },
      "source": [
        "3. Take the above series and add an index that starts at 2 and steps by 3"
      ]
    },
    {
      "cell_type": "code",
      "execution_count": 56,
      "metadata": {
        "id": "YC8f3lAMPs-4",
        "outputId": "b6e5185b-debc-4327-9f34-176df2b1cf61",
        "colab": {
          "base_uri": "https://localhost:8080/"
        }
      },
      "outputs": [
        {
          "output_type": "stream",
          "name": "stdout",
          "text": [
            "2     98\n",
            "5     24\n",
            "8     46\n",
            "11    87\n",
            "14    33\n",
            "dtype: int64\n"
          ]
        }
      ],
      "source": [
        "series= pd.Series(list, index=range(2,len(list) *3+2, 3))\n",
        "print(series)"
      ]
    },
    {
      "cell_type": "markdown",
      "metadata": {
        "id": "2P199KkwPs-4"
      },
      "source": [
        "4. Create a dictionary of 4 names, ages, and careers   \n",
        "Convert this dictionary to a pandas dataframe: `df`.  \n",
        "Print the dataframe."
      ]
    },
    {
      "cell_type": "code",
      "execution_count": 57,
      "metadata": {
        "id": "lWoGNi5hPs-5",
        "outputId": "5d2614af-7c06-4646-9455-5235eead683c",
        "colab": {
          "base_uri": "https://localhost:8080/"
        }
      },
      "outputs": [
        {
          "output_type": "stream",
          "name": "stdout",
          "text": [
            "{'names': ['anaya', 'ayaan', 'amisha', 'pronit'], 'ages': ['17', '19', '20', '22'], 'careers': ['data science', 'finance', 'marketing', 'architecture']}\n",
            "    names ages       careers\n",
            "0   anaya   17  data science\n",
            "1   ayaan   19       finance\n",
            "2  amisha   20     marketing\n",
            "3  pronit   22  architecture\n"
          ]
        }
      ],
      "source": [
        "my_dict = {\n",
        "    \"names\": [\"anaya\", \"ayaan\", \"amisha\", \"pronit\"],\n",
        "    \"ages\": [\"17\", \"19\", \"20\", \"22\"],\n",
        "    \"careers\": [\"data science\", \"finance\", \"marketing\", \"architecture\"]\n",
        "}\n",
        "\n",
        "print(my_dict)\n",
        "df = pd.DataFrame(my_dict)\n",
        "\n",
        "# Print the DataFrame\n",
        "print(df)\n"
      ]
    },
    {
      "cell_type": "markdown",
      "metadata": {
        "id": "TD-Ej1K_Ps-5"
      },
      "source": [
        "5. Name the index of `df` 'participant_id'.  \n",
        "Print `df`."
      ]
    },
    {
      "cell_type": "code",
      "execution_count": 58,
      "metadata": {
        "id": "_54NO6pRPs-5",
        "outputId": "9e0daa9e-9544-4a96-e2bf-0370c2916ef7",
        "colab": {
          "base_uri": "https://localhost:8080/"
        }
      },
      "outputs": [
        {
          "output_type": "stream",
          "name": "stdout",
          "text": [
            "                 names ages       careers\n",
            "participant_id                           \n",
            "0                anaya   17  data science\n",
            "1                ayaan   19       finance\n",
            "2               amisha   20     marketing\n",
            "3               pronit   22  architecture\n"
          ]
        }
      ],
      "source": [
        "df.index.name = 'participant_id'\n",
        "print(df)"
      ]
    },
    {
      "cell_type": "markdown",
      "metadata": {
        "id": "-JXKN55IPs-5"
      },
      "source": [
        "6. Use a pandas function to determine the data types of the columns of `df`."
      ]
    },
    {
      "cell_type": "code",
      "execution_count": 59,
      "metadata": {
        "id": "pmbPdPYmPs-5",
        "outputId": "8676ebac-e089-4480-93a7-b8d45507acc8",
        "colab": {
          "base_uri": "https://localhost:8080/"
        }
      },
      "outputs": [
        {
          "output_type": "stream",
          "name": "stdout",
          "text": [
            "names      object\n",
            "ages       object\n",
            "careers    object\n",
            "dtype: object\n"
          ]
        }
      ],
      "source": [
        "print(df.dtypes)"
      ]
    },
    {
      "cell_type": "markdown",
      "metadata": {
        "id": "67Yv1vrcPs-5"
      },
      "source": [
        "7. Using bracket notation, reference column `name`"
      ]
    },
    {
      "cell_type": "code",
      "execution_count": 60,
      "metadata": {
        "id": "KvYDyocgPs-6",
        "outputId": "116a09f8-0708-40f1-82b6-df0992cda061",
        "colab": {
          "base_uri": "https://localhost:8080/"
        }
      },
      "outputs": [
        {
          "output_type": "stream",
          "name": "stdout",
          "text": [
            "object\n"
          ]
        }
      ],
      "source": [
        "#using integer based indexing, I will print the data types of the columns\n",
        "print(df.iloc[1].dtypes)"
      ]
    },
    {
      "cell_type": "markdown",
      "metadata": {
        "id": "m3cxo1_DPs-6"
      },
      "source": [
        "8. Using dot notation, reference column `name`"
      ]
    },
    {
      "cell_type": "code",
      "execution_count": 61,
      "metadata": {
        "id": "1GWDNZpDPs-6",
        "outputId": "3c45790a-f153-4fd4-f348-46e6db830c46",
        "colab": {
          "base_uri": "https://localhost:8080/"
        }
      },
      "outputs": [
        {
          "output_type": "stream",
          "name": "stdout",
          "text": [
            "object\n"
          ]
        }
      ],
      "source": [
        "print(df.names.dtype)"
      ]
    },
    {
      "cell_type": "markdown",
      "metadata": {
        "id": "QXcydAo-Ps-6"
      },
      "source": [
        "8. Reference column `name` and have it returned in a dataframe."
      ]
    },
    {
      "cell_type": "code",
      "execution_count": 62,
      "metadata": {
        "id": "Es6jw5eKPs-6",
        "outputId": "df21a448-86c1-4dfa-f26a-6390689240a4",
        "colab": {
          "base_uri": "https://localhost:8080/"
        }
      },
      "outputs": [
        {
          "output_type": "stream",
          "name": "stdout",
          "text": [
            "                 names\n",
            "participant_id        \n",
            "0                anaya\n",
            "1                ayaan\n",
            "2               amisha\n",
            "3               pronit\n"
          ]
        }
      ],
      "source": [
        "column_name = 'names'\n",
        "column_df = df[[column_name]]\n",
        "print(column_df)"
      ]
    },
    {
      "cell_type": "markdown",
      "metadata": {
        "id": "FGvwXkmsPs-6"
      },
      "source": [
        "9. Show the 3rd element in column `career`."
      ]
    },
    {
      "cell_type": "code",
      "execution_count": 63,
      "metadata": {
        "id": "9DFRMXJ-Ps-6",
        "outputId": "82a63ba6-bf96-44ab-ccba-c8167797e72b",
        "colab": {
          "base_uri": "https://localhost:8080/"
        }
      },
      "outputs": [
        {
          "output_type": "stream",
          "name": "stdout",
          "text": [
            "marketing\n"
          ]
        }
      ],
      "source": [
        "third_element_career = df['careers'].iloc[2]\n",
        "print(third_element_career)"
      ]
    },
    {
      "cell_type": "markdown",
      "source": [
        "10.  Load the `iris` dataset that we used in class.  Use `iris` as the name of your data frame."
      ],
      "metadata": {
        "id": "rRH599bKtjbE"
      }
    },
    {
      "cell_type": "code",
      "source": [
        "iris = sns.load_dataset('iris')\n",
        "df=iris\n",
        "print(df)"
      ],
      "metadata": {
        "id": "zzf2X8hptu02",
        "outputId": "47e766f0-9ca5-43ef-8f01-5f1b1e4d6000",
        "colab": {
          "base_uri": "https://localhost:8080/"
        }
      },
      "execution_count": 64,
      "outputs": [
        {
          "output_type": "stream",
          "name": "stdout",
          "text": [
            "     sepal_length  sepal_width  petal_length  petal_width    species\n",
            "0             5.1          3.5           1.4          0.2     setosa\n",
            "1             4.9          3.0           1.4          0.2     setosa\n",
            "2             4.7          3.2           1.3          0.2     setosa\n",
            "3             4.6          3.1           1.5          0.2     setosa\n",
            "4             5.0          3.6           1.4          0.2     setosa\n",
            "..            ...          ...           ...          ...        ...\n",
            "145           6.7          3.0           5.2          2.3  virginica\n",
            "146           6.3          2.5           5.0          1.9  virginica\n",
            "147           6.5          3.0           5.2          2.0  virginica\n",
            "148           6.2          3.4           5.4          2.3  virginica\n",
            "149           5.9          3.0           5.1          1.8  virginica\n",
            "\n",
            "[150 rows x 5 columns]\n"
          ]
        }
      ]
    },
    {
      "cell_type": "markdown",
      "source": [
        "11.  What is the correlation between the variables `sepal_length` and `sepal_width` for all the irises?"
      ],
      "metadata": {
        "id": "AKz6-jVWtvSB"
      }
    },
    {
      "cell_type": "code",
      "source": [
        "iris[['sepal_length','sepal_width']].corr()"
      ],
      "metadata": {
        "id": "hee42cCiuUaQ",
        "outputId": "21e9d7d4-cf10-490c-ca98-31b60cc28fbb",
        "colab": {
          "base_uri": "https://localhost:8080/",
          "height": 111
        }
      },
      "execution_count": 65,
      "outputs": [
        {
          "output_type": "execute_result",
          "data": {
            "text/plain": [
              "              sepal_length  sepal_width\n",
              "sepal_length       1.00000     -0.11757\n",
              "sepal_width       -0.11757      1.00000"
            ],
            "text/html": [
              "\n",
              "  <div id=\"df-5172b5f0-34bb-4e50-9e83-641daa1f95a0\" class=\"colab-df-container\">\n",
              "    <div>\n",
              "<style scoped>\n",
              "    .dataframe tbody tr th:only-of-type {\n",
              "        vertical-align: middle;\n",
              "    }\n",
              "\n",
              "    .dataframe tbody tr th {\n",
              "        vertical-align: top;\n",
              "    }\n",
              "\n",
              "    .dataframe thead th {\n",
              "        text-align: right;\n",
              "    }\n",
              "</style>\n",
              "<table border=\"1\" class=\"dataframe\">\n",
              "  <thead>\n",
              "    <tr style=\"text-align: right;\">\n",
              "      <th></th>\n",
              "      <th>sepal_length</th>\n",
              "      <th>sepal_width</th>\n",
              "    </tr>\n",
              "  </thead>\n",
              "  <tbody>\n",
              "    <tr>\n",
              "      <th>sepal_length</th>\n",
              "      <td>1.00000</td>\n",
              "      <td>-0.11757</td>\n",
              "    </tr>\n",
              "    <tr>\n",
              "      <th>sepal_width</th>\n",
              "      <td>-0.11757</td>\n",
              "      <td>1.00000</td>\n",
              "    </tr>\n",
              "  </tbody>\n",
              "</table>\n",
              "</div>\n",
              "    <div class=\"colab-df-buttons\">\n",
              "\n",
              "  <div class=\"colab-df-container\">\n",
              "    <button class=\"colab-df-convert\" onclick=\"convertToInteractive('df-5172b5f0-34bb-4e50-9e83-641daa1f95a0')\"\n",
              "            title=\"Convert this dataframe to an interactive table.\"\n",
              "            style=\"display:none;\">\n",
              "\n",
              "  <svg xmlns=\"http://www.w3.org/2000/svg\" height=\"24px\" viewBox=\"0 -960 960 960\">\n",
              "    <path d=\"M120-120v-720h720v720H120Zm60-500h600v-160H180v160Zm220 220h160v-160H400v160Zm0 220h160v-160H400v160ZM180-400h160v-160H180v160Zm440 0h160v-160H620v160ZM180-180h160v-160H180v160Zm440 0h160v-160H620v160Z\"/>\n",
              "  </svg>\n",
              "    </button>\n",
              "\n",
              "  <style>\n",
              "    .colab-df-container {\n",
              "      display:flex;\n",
              "      gap: 12px;\n",
              "    }\n",
              "\n",
              "    .colab-df-convert {\n",
              "      background-color: #E8F0FE;\n",
              "      border: none;\n",
              "      border-radius: 50%;\n",
              "      cursor: pointer;\n",
              "      display: none;\n",
              "      fill: #1967D2;\n",
              "      height: 32px;\n",
              "      padding: 0 0 0 0;\n",
              "      width: 32px;\n",
              "    }\n",
              "\n",
              "    .colab-df-convert:hover {\n",
              "      background-color: #E2EBFA;\n",
              "      box-shadow: 0px 1px 2px rgba(60, 64, 67, 0.3), 0px 1px 3px 1px rgba(60, 64, 67, 0.15);\n",
              "      fill: #174EA6;\n",
              "    }\n",
              "\n",
              "    .colab-df-buttons div {\n",
              "      margin-bottom: 4px;\n",
              "    }\n",
              "\n",
              "    [theme=dark] .colab-df-convert {\n",
              "      background-color: #3B4455;\n",
              "      fill: #D2E3FC;\n",
              "    }\n",
              "\n",
              "    [theme=dark] .colab-df-convert:hover {\n",
              "      background-color: #434B5C;\n",
              "      box-shadow: 0px 1px 3px 1px rgba(0, 0, 0, 0.15);\n",
              "      filter: drop-shadow(0px 1px 2px rgba(0, 0, 0, 0.3));\n",
              "      fill: #FFFFFF;\n",
              "    }\n",
              "  </style>\n",
              "\n",
              "    <script>\n",
              "      const buttonEl =\n",
              "        document.querySelector('#df-5172b5f0-34bb-4e50-9e83-641daa1f95a0 button.colab-df-convert');\n",
              "      buttonEl.style.display =\n",
              "        google.colab.kernel.accessAllowed ? 'block' : 'none';\n",
              "\n",
              "      async function convertToInteractive(key) {\n",
              "        const element = document.querySelector('#df-5172b5f0-34bb-4e50-9e83-641daa1f95a0');\n",
              "        const dataTable =\n",
              "          await google.colab.kernel.invokeFunction('convertToInteractive',\n",
              "                                                    [key], {});\n",
              "        if (!dataTable) return;\n",
              "\n",
              "        const docLinkHtml = 'Like what you see? Visit the ' +\n",
              "          '<a target=\"_blank\" href=https://colab.research.google.com/notebooks/data_table.ipynb>data table notebook</a>'\n",
              "          + ' to learn more about interactive tables.';\n",
              "        element.innerHTML = '';\n",
              "        dataTable['output_type'] = 'display_data';\n",
              "        await google.colab.output.renderOutput(dataTable, element);\n",
              "        const docLink = document.createElement('div');\n",
              "        docLink.innerHTML = docLinkHtml;\n",
              "        element.appendChild(docLink);\n",
              "      }\n",
              "    </script>\n",
              "  </div>\n",
              "\n",
              "\n",
              "<div id=\"df-680b5f61-da69-4623-ba19-294763ecdae1\">\n",
              "  <button class=\"colab-df-quickchart\" onclick=\"quickchart('df-680b5f61-da69-4623-ba19-294763ecdae1')\"\n",
              "            title=\"Suggest charts\"\n",
              "            style=\"display:none;\">\n",
              "\n",
              "<svg xmlns=\"http://www.w3.org/2000/svg\" height=\"24px\"viewBox=\"0 0 24 24\"\n",
              "     width=\"24px\">\n",
              "    <g>\n",
              "        <path d=\"M19 3H5c-1.1 0-2 .9-2 2v14c0 1.1.9 2 2 2h14c1.1 0 2-.9 2-2V5c0-1.1-.9-2-2-2zM9 17H7v-7h2v7zm4 0h-2V7h2v10zm4 0h-2v-4h2v4z\"/>\n",
              "    </g>\n",
              "</svg>\n",
              "  </button>\n",
              "\n",
              "<style>\n",
              "  .colab-df-quickchart {\n",
              "      --bg-color: #E8F0FE;\n",
              "      --fill-color: #1967D2;\n",
              "      --hover-bg-color: #E2EBFA;\n",
              "      --hover-fill-color: #174EA6;\n",
              "      --disabled-fill-color: #AAA;\n",
              "      --disabled-bg-color: #DDD;\n",
              "  }\n",
              "\n",
              "  [theme=dark] .colab-df-quickchart {\n",
              "      --bg-color: #3B4455;\n",
              "      --fill-color: #D2E3FC;\n",
              "      --hover-bg-color: #434B5C;\n",
              "      --hover-fill-color: #FFFFFF;\n",
              "      --disabled-bg-color: #3B4455;\n",
              "      --disabled-fill-color: #666;\n",
              "  }\n",
              "\n",
              "  .colab-df-quickchart {\n",
              "    background-color: var(--bg-color);\n",
              "    border: none;\n",
              "    border-radius: 50%;\n",
              "    cursor: pointer;\n",
              "    display: none;\n",
              "    fill: var(--fill-color);\n",
              "    height: 32px;\n",
              "    padding: 0;\n",
              "    width: 32px;\n",
              "  }\n",
              "\n",
              "  .colab-df-quickchart:hover {\n",
              "    background-color: var(--hover-bg-color);\n",
              "    box-shadow: 0 1px 2px rgba(60, 64, 67, 0.3), 0 1px 3px 1px rgba(60, 64, 67, 0.15);\n",
              "    fill: var(--button-hover-fill-color);\n",
              "  }\n",
              "\n",
              "  .colab-df-quickchart-complete:disabled,\n",
              "  .colab-df-quickchart-complete:disabled:hover {\n",
              "    background-color: var(--disabled-bg-color);\n",
              "    fill: var(--disabled-fill-color);\n",
              "    box-shadow: none;\n",
              "  }\n",
              "\n",
              "  .colab-df-spinner {\n",
              "    border: 2px solid var(--fill-color);\n",
              "    border-color: transparent;\n",
              "    border-bottom-color: var(--fill-color);\n",
              "    animation:\n",
              "      spin 1s steps(1) infinite;\n",
              "  }\n",
              "\n",
              "  @keyframes spin {\n",
              "    0% {\n",
              "      border-color: transparent;\n",
              "      border-bottom-color: var(--fill-color);\n",
              "      border-left-color: var(--fill-color);\n",
              "    }\n",
              "    20% {\n",
              "      border-color: transparent;\n",
              "      border-left-color: var(--fill-color);\n",
              "      border-top-color: var(--fill-color);\n",
              "    }\n",
              "    30% {\n",
              "      border-color: transparent;\n",
              "      border-left-color: var(--fill-color);\n",
              "      border-top-color: var(--fill-color);\n",
              "      border-right-color: var(--fill-color);\n",
              "    }\n",
              "    40% {\n",
              "      border-color: transparent;\n",
              "      border-right-color: var(--fill-color);\n",
              "      border-top-color: var(--fill-color);\n",
              "    }\n",
              "    60% {\n",
              "      border-color: transparent;\n",
              "      border-right-color: var(--fill-color);\n",
              "    }\n",
              "    80% {\n",
              "      border-color: transparent;\n",
              "      border-right-color: var(--fill-color);\n",
              "      border-bottom-color: var(--fill-color);\n",
              "    }\n",
              "    90% {\n",
              "      border-color: transparent;\n",
              "      border-bottom-color: var(--fill-color);\n",
              "    }\n",
              "  }\n",
              "</style>\n",
              "\n",
              "  <script>\n",
              "    async function quickchart(key) {\n",
              "      const quickchartButtonEl =\n",
              "        document.querySelector('#' + key + ' button');\n",
              "      quickchartButtonEl.disabled = true;  // To prevent multiple clicks.\n",
              "      quickchartButtonEl.classList.add('colab-df-spinner');\n",
              "      try {\n",
              "        const charts = await google.colab.kernel.invokeFunction(\n",
              "            'suggestCharts', [key], {});\n",
              "      } catch (error) {\n",
              "        console.error('Error during call to suggestCharts:', error);\n",
              "      }\n",
              "      quickchartButtonEl.classList.remove('colab-df-spinner');\n",
              "      quickchartButtonEl.classList.add('colab-df-quickchart-complete');\n",
              "    }\n",
              "    (() => {\n",
              "      let quickchartButtonEl =\n",
              "        document.querySelector('#df-680b5f61-da69-4623-ba19-294763ecdae1 button');\n",
              "      quickchartButtonEl.style.display =\n",
              "        google.colab.kernel.accessAllowed ? 'block' : 'none';\n",
              "    })();\n",
              "  </script>\n",
              "</div>\n",
              "\n",
              "    </div>\n",
              "  </div>\n"
            ],
            "application/vnd.google.colaboratory.intrinsic+json": {
              "type": "dataframe",
              "summary": "{\n  \"name\": \"iris[['sepal_length','sepal_width']]\",\n  \"rows\": 2,\n  \"fields\": [\n    {\n      \"column\": \"sepal_length\",\n      \"properties\": {\n        \"dtype\": \"number\",\n        \"std\": 0.7902411728096309,\n        \"min\": -0.11756978413300088,\n        \"max\": 1.0,\n        \"num_unique_values\": 2,\n        \"samples\": [\n          -0.11756978413300088,\n          1.0\n        ],\n        \"semantic_type\": \"\",\n        \"description\": \"\"\n      }\n    },\n    {\n      \"column\": \"sepal_width\",\n      \"properties\": {\n        \"dtype\": \"number\",\n        \"std\": 0.7902411728096309,\n        \"min\": -0.11756978413300088,\n        \"max\": 1.0,\n        \"num_unique_values\": 2,\n        \"samples\": [\n          1.0,\n          -0.11756978413300088\n        ],\n        \"semantic_type\": \"\",\n        \"description\": \"\"\n      }\n    }\n  ]\n}"
            }
          },
          "metadata": {},
          "execution_count": 65
        }
      ]
    },
    {
      "cell_type": "markdown",
      "source": [
        "12.  Which of the three species has the highest correlation between `sepal_length` and `sepal_width`?  Show any calculations you use to support your answer."
      ],
      "metadata": {
        "id": "0FftiYs-uU0S"
      }
    },
    {
      "cell_type": "code",
      "source": [
        "#to find the species with the highest correlation, first I will calculate the correlation between\n",
        "#the two parameters sepal_length and sepal_width for each species\n",
        "correlation_by_species = df.groupby('species').apply(lambda x: x['sepal_length'].corr(x['sepal_width']))\n",
        "#lambda is used in conjunction with apply to calculate the correlation for each species; x is each parameter\n",
        "species_with_highest_correlation = correlation_by_species.idxmax()\n",
        "print(\"Species with the highest correlation:\", species_with_highest_correlation)"
      ],
      "metadata": {
        "id": "TFGICsBQulQ-",
        "outputId": "fc58a626-0505-476a-c328-4ed92de318ba",
        "colab": {
          "base_uri": "https://localhost:8080/"
        }
      },
      "execution_count": 66,
      "outputs": [
        {
          "output_type": "stream",
          "name": "stdout",
          "text": [
            "Species with the highest correlation: setosa\n"
          ]
        }
      ]
    },
    {
      "cell_type": "markdown",
      "source": [
        "13.  Among the four variables, the two that are most negatively correlated (overall) are `sepal_width` and `petal_length`.  (How do we know this?)  Determine the same thing but for each species separately:  for each species, which two variables have the most negative (or the least positive) correlation?  Again, include calculations to support your answer."
      ],
      "metadata": {
        "id": "ZEwy0920u1NY"
      }
    },
    {
      "cell_type": "code",
      "source": [
        "'''\n",
        "#finding a correlation matrix\n",
        "correlation_matrix=df.corr()\n",
        "#proving sepal_width and petak_length are the most negatively correlated pair\n",
        "most_negatively_correlated= correlation_matrix.unstack().sort_values().head(1)\n",
        "print(\"Most negatively correlated pair:\", most_negatively_correlated)\n",
        "#determining most negatively correlated variables within each species\n",
        "#defining variables of interest\n",
        "variables=['petal_length','sepal_length','petal_width', 'sepal_width']\n",
        "#grouping by each species and calculating correlation for each pair of variables\n",
        "# Defining variables of interest\n",
        "variables = ['petal_length', 'sepal_length', 'petal_width', 'sepal_width']\n",
        "\n",
        "# Determining the most negatively correlated variables within each species\n",
        "#first, I will do this for species virginica\n",
        "# Filter the DataFrame for species 'virginica'\n",
        "virginica_data = df[df['species'] == 'virginica']\n",
        "\n",
        "# Calculate the correlation matrix for 'virginica' species\n",
        "correlation_matrix_virginica = virginica_data.corr()\n",
        "# Extract the lower triangle of the correlation matrix\n",
        "lower_triangle_virginica = correlation_matrix_virginica.mask(np.triu(np.ones(correlation_matrix_virginica.shape), k=1).astype(bool))\n",
        "\n",
        "\n",
        "# Find the pair with the lowest correlation coefficient\n",
        "most_negatively_correlated_variables = lower_triangle_virginica.stack().idxmin()\n",
        "\n",
        "print(\"Two variables with the most negative correlation within species 'virginica':\", most_negatively_correlated_variables)\n",
        "\n",
        "#next, I will do this for species setosa\n",
        "# Filter the DataFrame for species 'setosa'\n",
        "setosa_data = df[df['species'] == 'setosa']\n",
        "\n",
        "# Calculate the correlation matrix for 'setosa' species\n",
        "correlation_matrix_setosa = setosa_data.corr()\n",
        "\n",
        "# Extract the lower triangle of the correlation matrix\n",
        "lower_triangle_setosa = correlation_matrix_setosa.mask(np.triu(np.ones(correlation_matrix_setosa.shape), k=1).astype(bool))\n",
        "\n",
        "# Find the pair with the lowest correlation coefficient\n",
        "most_negatively_correlated_variables = lower_triangle_setosa.stack().idxmin()\n",
        "\n",
        "print(\"Two variables with the most negative correlation within species 'setosa':\", most_negatively_correlated_variables)\n",
        "'''"
      ],
      "metadata": {
        "id": "bcqtPTtHvjLI",
        "outputId": "d67ce1d4-3c3c-4b0c-ff51-6f885082bc52",
        "colab": {
          "base_uri": "https://localhost:8080/",
          "height": 137
        }
      },
      "execution_count": 67,
      "outputs": [
        {
          "output_type": "execute_result",
          "data": {
            "text/plain": [
              "'\\n#finding a correlation matrix\\ncorrelation_matrix=df.corr()\\n#proving sepal_width and petak_length are the most negatively correlated pair\\nmost_negatively_correlated= correlation_matrix.unstack().sort_values().head(1)\\nprint(\"Most negatively correlated pair:\", most_negatively_correlated)\\n#determining most negatively correlated variables within each species\\n#defining variables of interest\\nvariables=[\\'petal_length\\',\\'sepal_length\\',\\'petal_width\\', \\'sepal_width\\']\\n#grouping by each species and calculating correlation for each pair of variables\\n# Defining variables of interest\\nvariables = [\\'petal_length\\', \\'sepal_length\\', \\'petal_width\\', \\'sepal_width\\']\\n\\n# Determining the most negatively correlated variables within each species\\n#first, I will do this for species virginica\\n# Filter the DataFrame for species \\'virginica\\'\\nvirginica_data = df[df[\\'species\\'] == \\'virginica\\']\\n\\n# Calculate the correlation matrix for \\'virginica\\' species\\ncorrelation_matrix_virginica = virginica_data.corr()\\n# Extract the lower triangle of the correlation matrix\\nlower_triangle_virginica = correlation_matrix_virginica.mask(np.triu(np.ones(correlation_matrix_virginica.shape), k=1).astype(bool))\\n\\n\\n# Find the pair with the lowest correlation coefficient\\nmost_negatively_correlated_variables = lower_triangle_virginica.stack().idxmin()\\n\\nprint(\"Two variables with the most negative correlation within species \\'virginica\\':\", most_negatively_correlated_variables)\\n\\n#next, I will do this for species setosa\\n# Filter the DataFrame for species \\'setosa\\'\\nsetosa_data = df[df[\\'species\\'] == \\'setosa\\']\\n\\n# Calculate the correlation matrix for \\'setosa\\' species\\ncorrelation_matrix_setosa = setosa_data.corr()\\n\\n# Extract the lower triangle of the correlation matrix\\nlower_triangle_setosa = correlation_matrix_setosa.mask(np.triu(np.ones(correlation_matrix_setosa.shape), k=1).astype(bool))\\n\\n# Find the pair with the lowest correlation coefficient\\nmost_negatively_correlated_variables = lower_triangle_setosa.stack().idxmin()\\n\\nprint(\"Two variables with the most negative correlation within species \\'setosa\\':\", most_negatively_correlated_variables)\\n'"
            ],
            "application/vnd.google.colaboratory.intrinsic+json": {
              "type": "string"
            }
          },
          "metadata": {},
          "execution_count": 67
        }
      ]
    },
    {
      "cell_type": "markdown",
      "source": [
        "14.  Once again, the variables `sepal_width` and `petal_length` are negatively correlated.  But for each individual species, these two variables are positively correlated.  How is this possible?  Explain this phenomenon.  Use a data visualization if it helps.\n"
      ],
      "metadata": {
        "id": "cK_OhSaRvxhE"
      }
    },
    {
      "cell_type": "code",
      "source": [
        "'''\n",
        "#unfortunately, the results in q13 don't match the assumption in q14 as for the setosa species, petal length and sepal width are negatively correlated\n",
        "#however, for the virginica species, they seem to be positively correlated\n",
        "#a possible reason for this could be the presence of an unaccounted confounding variable that can alter the results by affecting the factors being studied\n",
        "#for instance, from my biology learnings I derive that exposure to sunlight could be a possible confounding variable as flowers need sunlight to photosynthesize\n",
        "#which facilitates their growth and development and can hence, influence both sepal width and petal length.\n",
        "#In this situatuation, if species with a preference for full sunlight tend to have wider sepals and longer petals, and species preferring shade tend to have narrower sepals and shorter petals\n",
        "#it could lead to a positive correlation between sepal width and petal length within each species.\n",
        "#However, when considering all species together, the cumulative correlation between these variables may appear negative due to the\n",
        "#differences in sunlight preferences among species.\n",
        "\n",
        "#visualising this data set to consider sunlight exposure as a confounding variable\n",
        "# Generate synthetic data for 3 species A, B, and C  at different sunlight exposure levels\n",
        "# Generate synthetic data for sepal width and petal length for each species and sunlight exposure level\n",
        "np.random.seed(0)  # For reproducibility\n",
        "\n",
        "n_samples = 100\n",
        "\n",
        "# Generate data for each species at different sunlight exposure levels\n",
        "data = pd.DataFrame({\n",
        "    'Species': np.repeat(['Species A', 'Species B', 'Species C'], 3 * n_samples),\n",
        "    'Sepal Width': np.tile(np.concatenate([\n",
        "        np.random.normal(loc=3, scale=0.5, size=n_samples),  # High sunlight exposure\n",
        "        np.random.normal(loc=3.5, scale=0.5, size=n_samples),  # Medium sunlight exposure\n",
        "        np.random.normal(loc=2.5, scale=0.5, size=n_samples),  # Low sunlight exposure\n",
        "    ]), 3),\n",
        "    'Petal Length': np.tile(np.concatenate([\n",
        "        np.random.normal(loc=5, scale=1, size=n_samples),  # High sunlight exposure\n",
        "        np.random.normal(loc=5.5, scale=1, size=n_samples),  # Medium sunlight exposure\n",
        "        np.random.normal(loc=4.5, scale=1, size=n_samples),  # Low sunlight exposure\n",
        "    ]), 3),\n",
        "    'Sunlight Exposure': np.repeat(['High', 'Medium', 'Low'], 3 * n_samples)\n",
        "})\n",
        "\n",
        "# Plot the relationship between sepal width and petal length for each species at different sunlight exposure levels\n",
        "sns.relplot(data=data, x='Sepal Width', y='Petal Length', hue='Sunlight Exposure', col='Species', kind='scatter')\n",
        "plt.suptitle('Relationship between Sepal Width and Petal Length for Different Sunlight Exposure Levels')\n",
        "plt.show()\n",
        "'''\n"
      ],
      "metadata": {
        "id": "H4_QQDWHwJ3t",
        "outputId": "be2d2c38-bd0d-4b30-bcd5-757b939ad22b",
        "colab": {
          "base_uri": "https://localhost:8080/",
          "height": 137
        }
      },
      "execution_count": 68,
      "outputs": [
        {
          "output_type": "execute_result",
          "data": {
            "text/plain": [
              "\"\\n#unfortunately, the results in q13 don't match the assumption in q14 as for the setosa species, petal length and sepal width are negatively correlated\\n#however, for the virginica species, they seem to be positively correlated\\n#a possible reason for this could be the presence of an unaccounted confounding variable that can alter the results by affecting the factors being studied\\n#for instance, from my biology learnings I derive that exposure to sunlight could be a possible confounding variable as flowers need sunlight to photosynthesize\\n#which facilitates their growth and development and can hence, influence both sepal width and petal length.\\n#In this situatuation, if species with a preference for full sunlight tend to have wider sepals and longer petals, and species preferring shade tend to have narrower sepals and shorter petals\\n#it could lead to a positive correlation between sepal width and petal length within each species.\\n#However, when considering all species together, the cumulative correlation between these variables may appear negative due to the\\n#differences in sunlight preferences among species.\\n\\n#visualising this data set to consider sunlight exposure as a confounding variable\\n# Generate synthetic data for 3 species A, B, and C  at different sunlight exposure levels\\n# Generate synthetic data for sepal width and petal length for each species and sunlight exposure level\\nnp.random.seed(0)  # For reproducibility\\n\\nn_samples = 100\\n\\n# Generate data for each species at different sunlight exposure levels\\ndata = pd.DataFrame({\\n    'Species': np.repeat(['Species A', 'Species B', 'Species C'], 3 * n_samples),\\n    'Sepal Width': np.tile(np.concatenate([\\n        np.random.normal(loc=3, scale=0.5, size=n_samples),  # High sunlight exposure\\n        np.random.normal(loc=3.5, scale=0.5, size=n_samples),  # Medium sunlight exposure\\n        np.random.normal(loc=2.5, scale=0.5, size=n_samples),  # Low sunlight exposure\\n    ]), 3),\\n    'Petal Length': np.tile(np.concatenate([\\n        np.random.normal(loc=5, scale=1, size=n_samples),  # High sunlight exposure\\n        np.random.normal(loc=5.5, scale=1, size=n_samples),  # Medium sunlight exposure\\n        np.random.normal(loc=4.5, scale=1, size=n_samples),  # Low sunlight exposure\\n    ]), 3),\\n    'Sunlight Exposure': np.repeat(['High', 'Medium', 'Low'], 3 * n_samples)\\n})\\n\\n# Plot the relationship between sepal width and petal length for each species at different sunlight exposure levels\\nsns.relplot(data=data, x='Sepal Width', y='Petal Length', hue='Sunlight Exposure', col='Species', kind='scatter')\\nplt.suptitle('Relationship between Sepal Width and Petal Length for Different Sunlight Exposure Levels')\\nplt.show()\\n\""
            ],
            "application/vnd.google.colaboratory.intrinsic+json": {
              "type": "string"
            }
          },
          "metadata": {},
          "execution_count": 68
        }
      ]
    },
    {
      "cell_type": "markdown",
      "source": [
        "Among the four variables, the two that are most negatively correlated (overall) are sepal_width and petal_length. (How do we know this?) Determine the same thing but for each species separately: for each species, which two variables have the most negative (or the least positive) correlation? Again, include calculations to support your answer."
      ],
      "metadata": {
        "id": "IDQCPUmZFvSz"
      }
    },
    {
      "cell_type": "code",
      "source": [
        "\n",
        "import pandas as pd\n",
        "import numpy as np\n",
        "import seaborn as sns\n",
        "iris = sns.load_dataset('iris')\n",
        "df=iris\n",
        "#print(df)\n",
        "correlation_matrix=df.corr(numeric_only=True)\n",
        "#sepal width and petal length are the most negatively correlated pair overall\n",
        "most_negatively_correlated_overall=correlation_matrix.unstack().sort_values().head(1)\n",
        "print(most_negatively_correlated_overall)\n",
        "\n",
        "#create a list of variables\n",
        "variables=['sepal_length','sepal_width','petal_length','petal_width']\n",
        "def most_negative_correlation_species(species_data):\n",
        "  #print(species_data)\n",
        "  correlation_matrix_species=species_data[variables].corr()\n",
        "  lower_triangle_species=correlation_matrix_species.where(np.tril(np.ones(correlation_matrix_species.shape),k=-1).astype(bool))\n",
        "  print(lower_triangle_species)\n",
        "  #np.tril is a function from numpy library that will extract the lower triangular part of the matrix\n",
        "  #k=-1 it excludes the diagonal and k=0 excludes the diagonal\n",
        "  #most_negative_correlation=lower_triangle_species.stack().idxmin()\n",
        "  #return most_negative_correlation\n",
        "species_list = df['species'].unique() #multiple records of one species but we take only the unique species name\n",
        "for species in species_list:\n",
        "  species_data=df[df['species']=='species'] #ur fetching one species at a time\n",
        "  print(species_data)\n",
        "  #result=most_negative_correlation_species(species_data)\n",
        "  #print(result)\n",
        "\n"
      ],
      "metadata": {
        "id": "iYzKS_JAFsBj",
        "outputId": "c42bef85-ca7f-487f-a444-df0da8de6c94",
        "colab": {
          "base_uri": "https://localhost:8080/"
        }
      },
      "execution_count": 73,
      "outputs": [
        {
          "output_type": "stream",
          "name": "stdout",
          "text": [
            "sepal_width  petal_length   -0.42844\n",
            "dtype: float64\n",
            "Empty DataFrame\n",
            "Columns: [sepal_length, sepal_width, petal_length, petal_width, species]\n",
            "Index: []\n",
            "Empty DataFrame\n",
            "Columns: [sepal_length, sepal_width, petal_length, petal_width, species]\n",
            "Index: []\n",
            "Empty DataFrame\n",
            "Columns: [sepal_length, sepal_width, petal_length, petal_width, species]\n",
            "Index: []\n"
          ]
        }
      ]
    },
    {
      "cell_type": "markdown",
      "source": [
        "Once again, the variables sepal_width and petal_length are negatively correlated. But for each individual species, these two variables are positively correlated. How is this possible? Explain this phenomenon. Use a data visualization if it helps."
      ],
      "metadata": {
        "id": "55OcbidzFwrI"
      }
    },
    {
      "cell_type": "code",
      "source": [],
      "metadata": {
        "id": "ltU5EeHvFzcC"
      },
      "execution_count": 69,
      "outputs": []
    }
  ],
  "metadata": {
    "kernelspec": {
      "display_name": "Python 3.8.9 64-bit",
      "language": "python",
      "name": "python3"
    },
    "language_info": {
      "codemirror_mode": {
        "name": "ipython",
        "version": 3
      },
      "file_extension": ".py",
      "mimetype": "text/x-python",
      "name": "python",
      "nbconvert_exporter": "python",
      "pygments_lexer": "ipython3",
      "version": "3.8.9"
    },
    "orig_nbformat": 4,
    "vscode": {
      "interpreter": {
        "hash": "31f2aee4e71d21fbe5cf8b01ff0e069b9275f58929596ceb00d14d90e3e16cd6"
      }
    },
    "colab": {
      "provenance": [],
      "include_colab_link": true
    }
  },
  "nbformat": 4,
  "nbformat_minor": 0
}