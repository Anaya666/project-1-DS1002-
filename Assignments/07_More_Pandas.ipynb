{
  "nbformat": 4,
  "nbformat_minor": 0,
  "metadata": {
    "colab": {
      "provenance": [],
      "include_colab_link": true
    },
    "kernelspec": {
      "name": "python3",
      "display_name": "Python 3"
    },
    "language_info": {
      "name": "python"
    }
  },
  "cells": [
    {
      "cell_type": "markdown",
      "metadata": {
        "id": "view-in-github",
        "colab_type": "text"
      },
      "source": [
        "<a href=\"https://colab.research.google.com/github/Anaya666/project-1-DS1002-/blob/main/Assignments/07_More_Pandas.ipynb\" target=\"_parent\"><img src=\"https://colab.research.google.com/assets/colab-badge.svg\" alt=\"Open In Colab\"/></a>"
      ]
    },
    {
      "cell_type": "markdown",
      "source": [
        "# More pandas exercises\n",
        "\n",
        "Create a Colab notebook. Complete the tasks as specified in the directions. Run each cell to return the desired output. Save your notebook back to your GitHub repository and submit the GitHub URL for your notebook for review."
      ],
      "metadata": {
        "id": "phbaQTT5gy8A"
      }
    },
    {
      "cell_type": "markdown",
      "source": [
        "1.  Load the following dataset into Colab and perform the requested operations in code.\n",
        "\n",
        " Source: https://ds1002-resources.s3.amazonaws.com/data/ride_sharing.csv"
      ],
      "metadata": {
        "id": "WlPHuSLARJBJ"
      }
    },
    {
      "cell_type": "code",
      "source": [
        "# Load pandas and the data\n",
        "import pandas as pd\n",
        "url=\"https://ds1002-resources.s3.amazonaws.com/data/ride_sharing.csv\"\n",
        "ride_sharing_df=pd.read_csv(url)\n",
        "print(ride_sharing_df.head()) #printing the first few rows of the data set\n",
        "\n"
      ],
      "metadata": {
        "id": "kdFLCHtOg53p",
        "outputId": "553a2356-07f5-4397-9b91-359a7bf6562e",
        "colab": {
          "base_uri": "https://localhost:8080/"
        }
      },
      "execution_count": 6,
      "outputs": [
        {
          "output_type": "stream",
          "name": "stdout",
          "text": [
            "     duration  station_A_id  \\\n",
            "0  12 minutes            81   \n",
            "1  24 minutes             3   \n",
            "2   8 minutes            67   \n",
            "3   4 minutes            16   \n",
            "4  11 minutes            22   \n",
            "\n",
            "                                      station_A_name  station_B_id  \\\n",
            "0                                 Berry St at 4th St           323   \n",
            "1       Powell St BART Station (Market St at 4th St)           118   \n",
            "2  San Francisco Caltrain Station 2  (Townsend St...            23   \n",
            "3                            Steuart St at Market St            28   \n",
            "4                              Howard St at Beale St           350   \n",
            "\n",
            "                    station_B_name  bike_id  user_type  user_birth_year  \\\n",
            "0               Broadway at Kearny     5480          2             1959   \n",
            "1  Eureka Valley Recreation Center     5193          2             1965   \n",
            "2    The Embarcadero at Steuart St     3652          3             1993   \n",
            "3     The Embarcadero at Bryant St     1883          1             1979   \n",
            "4             8th St at Brannan St     4626          2             1994   \n",
            "\n",
            "  user_gender  tire_size  \n",
            "0        Male         26  \n",
            "1        Male         27  \n",
            "2        Male         29  \n",
            "3        Male         26  \n",
            "4        Male         27  \n"
          ]
        }
      ]
    },
    {
      "cell_type": "code",
      "source": [
        "# show how many rows and columns are in this dataset\n",
        "number of rows in the data set:\n",
        "print(\"Number of rows:\",ride_sharing_df.shape[0])\n",
        "#number of columns in the data set:\n",
        "print(\"Number of columns:\", ride_sharing_df.shape[1])\n"
      ],
      "metadata": {
        "id": "Lfh8suAyhKQW",
        "outputId": "5e64c3ad-b88f-4708-b737-59d7f4c27f31",
        "colab": {
          "base_uri": "https://localhost:8080/"
        }
      },
      "execution_count": 7,
      "outputs": [
        {
          "output_type": "stream",
          "name": "stdout",
          "text": [
            "Number of rows: 25760\n",
            "Number of columns: 10\n"
          ]
        }
      ]
    },
    {
      "cell_type": "code",
      "source": [
        "# The first column, \"duration\" is seen as a string.\n",
        "# Using two snippets of code, clean this column up so that\n",
        "# is now an integer (int64)\n",
        "#  converting duration to integers\n",
        "ride_sharing_df['duration'] = ride_sharing_df['duration'].str.replace(r'\\D', '', regex=True).astype(int)\n",
        "#my research revealed that \\D is a regualar expression pattern that represents any charecter that is not a digit\n",
        "\n",
        "# Displaying the new 'duration' data type\n",
        "print(\"Data type of 'duration' column after cleaning:\", ride_sharing_df['duration'].dtype)\n"
      ],
      "metadata": {
        "id": "KK5-y9nzhMVq",
        "outputId": "72ea19b6-b326-45b6-c49f-3f44580898b1",
        "colab": {
          "base_uri": "https://localhost:8080/"
        }
      },
      "execution_count": 8,
      "outputs": [
        {
          "output_type": "stream",
          "name": "stdout",
          "text": [
            "Data type of 'duration' column after cleaning: int64\n"
          ]
        }
      ]
    },
    {
      "cell_type": "code",
      "source": [
        "# Now display the datatypes in the updated dataframe\n",
        "# Display the data types in the updated DataFrame\n",
        "print(\"Data types in the updated DataFrame:\", ride_sharing_df.dtypes)\n"
      ],
      "metadata": {
        "id": "QyGJUshvhz1J",
        "outputId": "8c3e8e0d-edc3-4ed2-afc5-9f3b55a11fb3",
        "colab": {
          "base_uri": "https://localhost:8080/"
        }
      },
      "execution_count": 6,
      "outputs": [
        {
          "output_type": "stream",
          "name": "stdout",
          "text": [
            "Data types in the updated DataFrame: duration            int64\n",
            "station_A_id        int64\n",
            "station_A_name     object\n",
            "station_B_id        int64\n",
            "station_B_name     object\n",
            "bike_id             int64\n",
            "user_type           int64\n",
            "user_birth_year     int64\n",
            "user_gender        object\n",
            "tire_size           int64\n",
            "dtype: object\n"
          ]
        }
      ]
    },
    {
      "cell_type": "code",
      "source": [
        "# Show the min and max values of ride durations (the shortest and longest rides)\n",
        "# Hint: If 'df' is the name of your dataframe, simply specify the column name\n",
        "# and then append the .min() or .max() methods.\n",
        "min_duration= ride_sharing_df['duration'].min()\n",
        "max_duration= ride_sharing_df['duration'].max()\n",
        "print(\"the minimum ride duration is:\", min_duration, \"minute\")\n",
        "print(\"the maximum ride duration is:\", max_duration, \"minutes\")\n"
      ],
      "metadata": {
        "id": "UCA1OswWh5b5",
        "outputId": "38e5d4bb-4ac0-46e6-833a-c3985b7e60e4",
        "colab": {
          "base_uri": "https://localhost:8080/"
        }
      },
      "execution_count": 9,
      "outputs": [
        {
          "output_type": "stream",
          "name": "stdout",
          "text": [
            "the minimum ride duration is: 1 minute\n",
            "the maximum ride duration is: 1372 minutes\n"
          ]
        }
      ]
    },
    {
      "cell_type": "code",
      "source": [
        "# Creating a new DataFrame with rides that are 60 minutes or less\n",
        "short_rides_df = ride_sharing_df.query('duration <= 60')\n",
        "\n",
        "# Displaying the first few rows of this new DataFrame\n",
        "print(\"New DataFrame with rides that are 60 minutes or less:\")\n",
        "print(short_rides_df.head())\n"
      ],
      "metadata": {
        "id": "K7mStv5kibbA",
        "outputId": "5e494d9a-25a4-42db-badf-d37ee7b76ae0",
        "colab": {
          "base_uri": "https://localhost:8080/"
        }
      },
      "execution_count": 27,
      "outputs": [
        {
          "output_type": "stream",
          "name": "stdout",
          "text": [
            "New DataFrame with rides that are 60 minutes or less:\n",
            "   duration  station_A_id                                     station_A_name  \\\n",
            "0        12            81                                 Berry St at 4th St   \n",
            "1        24             3       Powell St BART Station (Market St at 4th St)   \n",
            "2         8            67  San Francisco Caltrain Station 2  (Townsend St...   \n",
            "3         4            16                            Steuart St at Market St   \n",
            "4        11            22                              Howard St at Beale St   \n",
            "\n",
            "   station_B_id                   station_B_name  bike_id  user_type  \\\n",
            "0           323               Broadway at Kearny     5480          2   \n",
            "1           118  Eureka Valley Recreation Center     5193          2   \n",
            "2            23    The Embarcadero at Steuart St     3652          3   \n",
            "3            28     The Embarcadero at Bryant St     1883          1   \n",
            "4           350             8th St at Brannan St     4626          2   \n",
            "\n",
            "   user_birth_year user_gender  tire_size  \n",
            "0             1959        Male         26  \n",
            "1             1965        Male         27  \n",
            "2             1993        Male         29  \n",
            "3             1979        Male         26  \n",
            "4             1994        Male         27  \n"
          ]
        }
      ]
    },
    {
      "cell_type": "code",
      "source": [
        "# Now show both the min and max values of the duration column for your new dataset.\n",
        "min_duration= short_rides_df['duration'].min()\n",
        "max_duration= short_rides_df['duration'].max()\n",
        "print(\"the minimum ride duration is:\", min_duration, \"minute\")\n",
        "print(\"the maximum ride duration is:\", max_duration, \"minutes\")\n",
        "\n"
      ],
      "metadata": {
        "id": "v63UdQjNi-w5",
        "outputId": "bac83a37-773d-4caa-9c60-c679142f1f7b",
        "colab": {
          "base_uri": "https://localhost:8080/"
        }
      },
      "execution_count": 26,
      "outputs": [
        {
          "output_type": "stream",
          "name": "stdout",
          "text": [
            "the minimum ride duration is: 1 minute\n",
            "the maximum ride duration is: 60 minutes\n"
          ]
        }
      ]
    },
    {
      "cell_type": "code",
      "source": [
        "# Using the new dataframe, update it so that is ONLY has records where tire size is 26\n",
        "tire_size_df = short_rides_df.query('tire_size == 26')\n",
        "\n",
        "# Display the first few rows of the updated DataFrame\n",
        "print(\"Updated DataFrame with records where tire size is 26:\")\n",
        "print(tire_size_df.head())"
      ],
      "metadata": {
        "id": "xTzb_j9rjGk2",
        "outputId": "c8da9488-8840-42ff-c0c9-85e3e1749fa4",
        "colab": {
          "base_uri": "https://localhost:8080/"
        }
      },
      "execution_count": 21,
      "outputs": [
        {
          "output_type": "stream",
          "name": "stdout",
          "text": [
            "Updated DataFrame with records where tire size is 26:\n",
            "    duration  station_A_id                                     station_A_name  \\\n",
            "0         12            81                                 Berry St at 4th St   \n",
            "3          4            16                            Steuart St at Market St   \n",
            "6         16            67  San Francisco Caltrain Station 2  (Townsend St...   \n",
            "9          5            30     San Francisco Caltrain (Townsend St at 4th St)   \n",
            "12         7             3       Powell St BART Station (Market St at 4th St)   \n",
            "\n",
            "    station_B_id                station_B_name  bike_id  user_type  \\\n",
            "0            323            Broadway at Kearny     5480          2   \n",
            "3             28  The Embarcadero at Bryant St     1883          1   \n",
            "6            107         17th St at Dolores St     1035          2   \n",
            "9             62   Victoria Manalo Draves Park      333          1   \n",
            "12            27       Beale St at Harrison St     1863          3   \n",
            "\n",
            "    user_birth_year user_gender  tire_size  \n",
            "0              1959        Male         26  \n",
            "3              1979        Male         26  \n",
            "6              1981        Male         26  \n",
            "9              1994        Male         26  \n",
            "12             1998        Male         26  \n"
          ]
        }
      ]
    },
    {
      "cell_type": "code",
      "source": [
        "# Finally, produce a count of all records with FEMALE riders\n",
        "#using the 26-inch wheeled rental bikes for their rentals of one hour or less.\n",
        "\n",
        "# Count of all records with FEMALE riders tire size of 26 inches for one-hour or less rentals\n",
        "female_short_rides_tire_size_count = tire_size_df.query('user_gender == \"FEMALE\"').shape[0]\n",
        "\n",
        "# Display the count\n",
        "print(\"Count of records with FEMALE riders using 26-inch bikes for one-hour or less rentals:\", female_short_rides_tire_size_count)"
      ],
      "metadata": {
        "id": "0cwbfj66jrG9",
        "outputId": "22f24786-8657-4fb3-c3db-80b92c90fa59",
        "colab": {
          "base_uri": "https://localhost:8080/"
        }
      },
      "execution_count": 25,
      "outputs": [
        {
          "output_type": "stream",
          "name": "stdout",
          "text": [
            "Count of records with FEMALE riders using 26-inch bikes for one-hour or less rentals: 0\n"
          ]
        }
      ]
    },
    {
      "cell_type": "code",
      "source": [],
      "metadata": {
        "id": "9cvCEYJiYHOG",
        "outputId": "506c364f-6471-4006-9ca6-d4449f9a2e84",
        "colab": {
          "base_uri": "https://localhost:8080/"
        }
      },
      "execution_count": 24,
      "outputs": [
        {
          "output_type": "stream",
          "name": "stdout",
          "text": [
            "Min duration: 1\n",
            "Max duration: 60\n",
            "\n",
            "First few rows of the updated DataFrame:\n",
            "    duration  station_A_id                                     station_A_name  \\\n",
            "0         12            81                                 Berry St at 4th St   \n",
            "3          4            16                            Steuart St at Market St   \n",
            "6         16            67  San Francisco Caltrain Station 2  (Townsend St...   \n",
            "9          5            30     San Francisco Caltrain (Townsend St at 4th St)   \n",
            "12         7             3       Powell St BART Station (Market St at 4th St)   \n",
            "\n",
            "    station_B_id                station_B_name  bike_id  user_type  \\\n",
            "0            323            Broadway at Kearny     5480          2   \n",
            "3             28  The Embarcadero at Bryant St     1883          1   \n",
            "6            107         17th St at Dolores St     1035          2   \n",
            "9             62   Victoria Manalo Draves Park      333          1   \n",
            "12            27       Beale St at Harrison St     1863          3   \n",
            "\n",
            "    user_birth_year user_gender  tire_size  \n",
            "0              1959        Male         26  \n",
            "3              1979        Male         26  \n",
            "6              1981        Male         26  \n",
            "9              1994        Male         26  \n",
            "12             1998        Male         26  \n",
            "\n",
            "Count of all records with FEMALE riders using the 26-inch wheeled rental bikes for their rentals of one hour or less: 0\n"
          ]
        }
      ]
    },
    {
      "cell_type": "markdown",
      "source": [
        "2. Find the file `more-messy-data.csv` on Canvas and upload it into Google Colab.\n",
        "\n",
        "Create a new Pandas DataFrame from that data and perform the following steps."
      ],
      "metadata": {
        "id": "YIlxzTRQSrl3"
      }
    },
    {
      "cell_type": "code",
      "source": [
        "# Write a snippet of code that will display the number of duplicate rows exist in the DF.\n",
        "messy=pd.read_csv('/content/very-messy-data.csv')\n",
        "num_of_duplicates=messy.duplicated().sum()\n",
        "print(\"Number of duplicate rows:\", num_of_duplicates)\n",
        "\n"
      ],
      "metadata": {
        "id": "6O1caoy6S82Q",
        "outputId": "1367716c-b171-4b49-91f1-f2612a74ce07",
        "colab": {
          "base_uri": "https://localhost:8080/"
        }
      },
      "execution_count": 29,
      "outputs": [
        {
          "output_type": "stream",
          "name": "stdout",
          "text": [
            "Number of duplicate rows: 316\n"
          ]
        }
      ]
    },
    {
      "cell_type": "code",
      "source": [
        "# Next, remove all duplicate rows using Python.\n",
        "messy_new = messy.drop_duplicates()\n",
        "\n",
        "# Display the shape of the DataFrame after removing duplicates\n",
        "print(\"Shape/ dimensions of the  DataFrame after removing duplicates:\", messy_new.shape)"
      ],
      "metadata": {
        "id": "-pDZ2xA-S8vd",
        "outputId": "cb2c19bc-1481-49fd-977d-e55df6d98623",
        "colab": {
          "base_uri": "https://localhost:8080/"
        }
      },
      "execution_count": 30,
      "outputs": [
        {
          "output_type": "stream",
          "name": "stdout",
          "text": [
            "Shape of DataFrame after removing duplicates: (1000, 6)\n"
          ]
        }
      ]
    },
    {
      "cell_type": "code",
      "source": [
        "# For the FOUR columns involving sepal and petal length and width, update all NaN\n",
        "# values with the column mean.\n",
        "# working on the  data frame 'messy_new'\n",
        "columns_to_update = ['sepal_length', 'sepal_width', 'petal_length', 'petal_width']\n",
        "\n",
        "# Calculate the column means\n",
        "column_means = messy_new[columns_to_update].mean()\n",
        "\n",
        "# Update NaN values with column means\n",
        "messy_new[columns_to_update] = messy_new[columns_to_update].fillna(column_means)\n",
        "\n",
        "# Display the DataFrame after updating NaN values\n",
        "print(messy_new.head())"
      ],
      "metadata": {
        "id": "Quf-P7L4S8oh",
        "outputId": "da4a81b0-a3da-4111-ac93-d11000eeb818",
        "colab": {
          "base_uri": "https://localhost:8080/"
        }
      },
      "execution_count": 32,
      "outputs": [
        {
          "output_type": "stream",
          "name": "stdout",
          "text": [
            "   id  sepal_length  sepal_width  petal_length  petal_width    species\n",
            "0   1           3.5     2.900000           1.4          0.5  virginica\n",
            "1   2           3.6     3.200000           3.0          0.5     setosa\n",
            "2   3           3.8     2.987694           2.2          1.5     setosa\n",
            "3   4           5.8     2.700000           2.6          1.2  virginica\n",
            "4   5           4.9     3.600000           3.0          1.2  virginica\n"
          ]
        },
        {
          "output_type": "stream",
          "name": "stderr",
          "text": [
            "<ipython-input-32-9277e55fd9bc>:10: SettingWithCopyWarning: \n",
            "A value is trying to be set on a copy of a slice from a DataFrame.\n",
            "Try using .loc[row_indexer,col_indexer] = value instead\n",
            "\n",
            "See the caveats in the documentation: https://pandas.pydata.org/pandas-docs/stable/user_guide/indexing.html#returning-a-view-versus-a-copy\n",
            "  messy_new[columns_to_update] = messy_new[columns_to_update].fillna(column_means)\n"
          ]
        }
      ]
    },
    {
      "cell_type": "code",
      "source": [
        "# Find any values in the dataframe that are still missing, and delete them.\n",
        "# Find missing values in the DataFrame\n",
        "# Find missing values in the DataFrame\n",
        "missing_values = messy_new.isnull().sum()\n",
        "\n",
        "# Delete rows with missing values\n",
        "messy_new = messy_new.dropna()\n",
        "\n",
        "# Display the DataFrame after deleting rows with missing values\n",
        "print(messy_new.head())"
      ],
      "metadata": {
        "id": "en_ReYsAS8f-",
        "outputId": "69d50236-908b-4678-a7de-4d05437ab0c0",
        "colab": {
          "base_uri": "https://localhost:8080/"
        }
      },
      "execution_count": 34,
      "outputs": [
        {
          "output_type": "stream",
          "name": "stdout",
          "text": [
            "   id  sepal_length  sepal_width  petal_length  petal_width    species\n",
            "0   1           3.5     2.900000           1.4          0.5  virginica\n",
            "1   2           3.6     3.200000           3.0          0.5     setosa\n",
            "2   3           3.8     2.987694           2.2          1.5     setosa\n",
            "3   4           5.8     2.700000           2.6          1.2  virginica\n",
            "4   5           4.9     3.600000           3.0          1.2  virginica\n"
          ]
        }
      ]
    },
    {
      "cell_type": "code",
      "source": [
        "# How many different species are there?\n",
        "# Count the number of unique species\n",
        "num_species = messy_new['species'].nunique()\n",
        "#.nunique calculates  number of unique values in the \"species\" column.\n",
        "\n",
        "# Display the number of different species\n",
        "print(\"Number of different species:\", num_species)\n"
      ],
      "metadata": {
        "id": "uqV9IHwDS75a",
        "outputId": "44cb474f-2d16-4a39-93f3-3cb7e5e721f2",
        "colab": {
          "base_uri": "https://localhost:8080/"
        }
      },
      "execution_count": 35,
      "outputs": [
        {
          "output_type": "stream",
          "name": "stdout",
          "text": [
            "Number of different species: 2\n"
          ]
        }
      ]
    },
    {
      "cell_type": "code",
      "source": [
        "# Clean up the 'species' variable so that there are exactly three different values.\n",
        "#the given data only has 2 different species names so cannot clean it further"
      ],
      "metadata": {
        "id": "G2j8HDgYT52P"
      },
      "execution_count": null,
      "outputs": []
    },
    {
      "cell_type": "markdown",
      "source": [
        "3. Bonus:  Regular expressions\n",
        "\n",
        "Ordinary (non-vanity) Virginia license plates have the form `ABC1234`, meaning they have three upper case letters followed by four digits.  Write a regular expression that matches any string of this form (and doesn't match anything else).  Test your expression with code to make sure it works.\n",
        "\n",
        "To figure out out how to do this, start with the sample code below.  The `re` package has various functions related to regular expressions, including for example `match()`, which takes two arguments, first the regular expression and second the test string, and tests to see whether the *beginning* of the `test` string matches the pattern `exp`.\n",
        "\n",
        "Note that `re.match(exp,test)` does not return a boolean variable, as you might expect (in other words, a match doesn't return `True` and a non-match `False`).  The type of object you get is called `re.Match`, which is a data type special to the `re` package.  (The reason for this is that the object contains more information than just whether there is a match or not.) However, you can turn it into a boolean using `bool()` if you want.\n",
        "\n",
        "Include the following in the notebook you submit:\n",
        "\n",
        " 1. A regular expression in a text chunk\n",
        " 2. One or more code chunks in which you test several strings to verify that your regex is correct.\n",
        " 3. Make sure you display the results of testing various strings.\n",
        "\n",
        " See this [documentation page](https://docs.python.org/3/howto/regex.html#regex-howto) for further help."
      ],
      "metadata": {
        "id": "CsMBqFDmX7Ax"
      }
    },
    {
      "cell_type": "code",
      "source": [
        "# Sample code for testing whether a string matches a regex\n",
        "\n",
        "# First import this package for working with regular expressions\n",
        "import re\n",
        "\n",
        "# Here is an example.\n",
        "# Play around with different expressions and test strings to see what happens.\n",
        "#exp = 'ab+'\n",
        "#test = 'aabbbc'\n",
        "\n",
        "#if re.match(exp,test):\n",
        "  #print(\"match!\")\n",
        "#else:\n",
        "  #print(\"no match\")\n",
        "\n",
        "# uncomment this line if you want\n",
        "# print(type(re.match(exp,test)))\n",
        "\n",
        "# uncomment this line if you want\n",
        "# print(bool(re.match(exp,test)))\n",
        "\n",
        "\n",
        "# Defining a conventional expression\n",
        "pattern = r'^[A-Z]{3}\\d{4}$'\n",
        "\n",
        "# Test strings\n",
        "test_strings = [\n",
        "    \"ABC1234\",  # Should match\n",
        "    \"DEF5678\",  # Should match\n",
        "    \"XYZ9999\",  # Should match\n",
        "    \"AB12345\",  # Should not match (as there is a wrong number of digits)\n",
        "    \"ABC123\",   # Should not match (too few digits)\n",
        "    \"ABCD1234\", # Should not match (too many letters)\n",
        "    \"1234ABCD\", # Should not match (letters come after digits)\n",
        "]\n",
        "\n",
        "# Test the regular expression with each test string\n",
        "for test_string in test_strings:\n",
        "    if re.match(pattern, test_string):\n",
        "        print(f\"String: {test_string}, Match: Yes\")\n",
        "    else:\n",
        "        print(f\"String: {test_string}, Match: No\")\n"
      ],
      "metadata": {
        "id": "LKbpBAxJZnXp",
        "outputId": "5089f036-c20f-4b01-9c14-fbdc72ac81fb",
        "colab": {
          "base_uri": "https://localhost:8080/"
        }
      },
      "execution_count": 36,
      "outputs": [
        {
          "output_type": "stream",
          "name": "stdout",
          "text": [
            "String: ABC1234, Match: Yes\n",
            "String: DEF5678, Match: Yes\n",
            "String: XYZ9999, Match: Yes\n",
            "String: AB12345, Match: No\n",
            "String: ABC123, Match: No\n",
            "String: ABCD1234, Match: No\n",
            "String: 1234ABCD, Match: No\n"
          ]
        }
      ]
    }
  ]
}