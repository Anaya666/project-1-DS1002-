{
  "cells": [
    {
      "cell_type": "markdown",
      "metadata": {
        "id": "view-in-github",
        "colab_type": "text"
      },
      "source": [
        "<a href=\"https://colab.research.google.com/github/Anaya666/project-1-DS1002-/blob/main/Assignments/10_Bulls_Cows.ipynb\" target=\"_parent\"><img src=\"https://colab.research.google.com/assets/colab-badge.svg\" alt=\"Open In Colab\"/></a>"
      ]
    },
    {
      "cell_type": "markdown",
      "metadata": {
        "id": "lSwr8T3SNrkj"
      },
      "source": [
        "## Bulls and Cows:\n",
        "### Another guessing game.\n",
        "### Assignment due Wednesday 10 April at 10 am\n",
        "\n",
        "General instructions:\n",
        "\n",
        "1. You may work in teams of up to three people.  As usual, if you do this, make sure all names are clearly displayed at the top of your submission, and all team members should submit the same GitHub URL.\n",
        "\n",
        "1. Use only basic Python code.  Do not use `numpy` arrays or functions.\n",
        "\n",
        "2. Practice utilizing the coding concepts we have studied.  \n",
        "\n",
        "3. Write docstrings for all your functions.\n",
        "\n"
      ]
    },
    {
      "cell_type": "markdown",
      "metadata": {
        "id": "qrWRyeI2NwHA"
      },
      "source": [
        "### Goal:  program this game\n",
        "In this assignment you will program a version of an old game called Bulls and Cows.  It is somewhat similar to Wordle, but with numbers instead of words (and various other differences . . . read carefully!).\n",
        "\n",
        "The game is played like this:  \n",
        "1. The computer will choose a secret code that the player is trying to guess.\n",
        "2. The secret code will be 4 digits long.  It will use only the digits 1-6, and it will have no repeated digits.  For example the secret code might be 1326 or 6241 but it cannot be 2652 or 4913 or 2601.\n",
        "3. The computer will prompt the user for a guess, and the user will guess.  The guess must follow the same rules (4 digits long, only use digits 1-6, no repeats).  The program should not allow an invalid guess.\n",
        "4. After each guess, the computer will give feedback to the user as follows:  \n",
        "(i) Each digit of the guess that is in the secret code and in the correct position is called a Bull (B).  \n",
        "(ii) Each digit of the guess that exists somewhere in the secret code, but *not* in the same position as in the guess, is called a Cow (C).  \n",
        "(iii) A digit of the guess that doesn't occur anywhere in the secret code is called a miss (X).  \n",
        "The computer will inform the user how many Bulls, how many Cows, and how many misses the user's guess had.  \n",
        "The feedback will always start with B's, then list C's, then list X's.  \n",
        "For example if the secret code is 1326  \n",
        "and the guess is 4316  \n",
        "then the computer should respond with \"BBCX\"  \n",
        "because there are two Bulls (the 3 and the 6 are Bulls, because they occur in the same position in the guess as in the secret code),  \n",
        "one Cow (the 1, which is a correct digit but in the wrong position),  \n",
        "and one Miss (the 4, which does not occur anywhere in the secret code).  \n",
        "> **Important:** the feedback string should always list the Bulls first, then the Cows, then the Misses.  It should **not** tell the user which digits are which!  The only information in the feedback string is how many of each there are.  In the example above, for instance, the feedback is **not** \"XBCB\" but rather \"BBCX\".  This is different from Wordle, if you are familiar with that game.\n",
        "5. The user should then be prompted for another guess.  This guess-with-feedback process should be repeated until the user gets the correct code, at which point the computer should indicate that they have won the game.  However, the user should only be allowed 6 guesses; if they don't guess correctly in 6 attempts, then following the feedback from their final guess they should get a message that they have lost the game, and the secret code should be revealed.\n",
        "\n",
        "\n",
        "\n",
        "\n",
        "\n",
        "\n",
        "\n"
      ]
    },
    {
      "cell_type": "markdown",
      "source": [
        "### Steps\n",
        "We will build this game using several functions.  \n",
        "\n",
        "1. **Count the Bulls:**  \n",
        "Write a function that takes two lists of the same length, and returns the number of Bulls.  That is, it should return the number of indices where the lists contain the same element.  *(Note:  you don't have to check that the entries are between 1 and 6, or that there are no repeats, etc.  A different function will do that.)*\n",
        "\n",
        "> A sample run might look like\n",
        "```\n",
        "first = [11, 3, 17, 5, 1]\n",
        "second = [20, 2, 17, 3, 1]\n",
        "count_bulls(first,second)\n",
        "```\n",
        "```\n",
        " 2\n",
        "```\n"
      ],
      "metadata": {
        "id": "XSH1JULaurD1"
      }
    },
    {
      "cell_type": "markdown",
      "source": [
        "Define your function in the code chunk below.  The function definition command and the return command are pre-populated for you.  You just have to fill in the part which does the actual counting.  I recommend using a list comprehension to do this.\n"
      ],
      "metadata": {
        "id": "pXoOyBk7xmPa"
      }
    },
    {
      "cell_type": "code",
      "source": [
        "# the Bull-counting function\n",
        "def count_bulls(first, second):\n",
        "  '''\n",
        "  Takes two lists of the same length and computes the number of positions where the list entries agree.\n",
        "  '''\n",
        "  num_bulls =             # finish this line of code to make the function function!\n",
        "  return num_bulls"
      ],
      "metadata": {
        "id": "vEsRSe8KxlcF"
      },
      "execution_count": null,
      "outputs": []
    },
    {
      "cell_type": "code",
      "source": [
        "def count_bulls(first, second):\n",
        "    '''\n",
        "    Count the number of Bulls between two lists.\n",
        "\n",
        "    Parameters:\n",
        "    - first (list): The first list of integers.\n",
        "    - second (list): The second list of integers. Should be of the same length as the first list.\n",
        "\n",
        "    Returns:\n",
        "    int: The number of indices where the elements in the two lists match.\n",
        "    '''\n",
        "    # Ensure the lists are of the same length\n",
        "    if len(first) != len(second):\n",
        "        raise ValueError(\"Lists must be of the same length\")\n",
        "\n",
        "    # Count bulls using list comprehension\n",
        "    num_bulls = sum(1 for a, b in zip(first, second) if a == b)\n",
        "#where a and b are individual elements within the variables 'first' and 'second'\n",
        "#zip() pairs elements from the two variables respectively\n",
        "    return num_bulls\n",
        "\n",
        "first = [23, 6, 16, 8, 2]\n",
        "second = [5, 15, 16, 3, 2]\n",
        "print(count_bulls(first, second))  # Output: 2"
      ],
      "metadata": {
        "colab": {
          "base_uri": "https://localhost:8080/"
        },
        "id": "kTsong0z4sxH",
        "outputId": "3c4fde6c-0f76-444b-fcad-7c8290c7a543"
      },
      "execution_count": 2,
      "outputs": [
        {
          "output_type": "stream",
          "name": "stdout",
          "text": [
            "2\n"
          ]
        }
      ]
    },
    {
      "cell_type": "markdown",
      "source": [
        "Add code and/or text chunks below to demonstrate that you have tested your code and that it works correctly."
      ],
      "metadata": {
        "id": "yACJyJtOzE2U"
      }
    },
    {
      "cell_type": "markdown",
      "source": [
        "**2**. **Count something else:**  \n",
        "To count the cows it will be helpful first to count how many of the elements occur in both strings, without paying attention their positions.\n",
        "Write a function called `count_animals` that takes two lists of the same length, and returns the number of elements of the second list that are also in the first list.  (In the game setting, each such element is either a Bull or a Cow, but don't worry about which is which for this problem.)\n",
        "You may assume the lists do not contain repeated elements, since this will be the case when the function is called in the game.\n",
        "\n",
        "> This time a sample run might look like\n",
        "```\n",
        "first = [11, 3, 17, 5, 1]\n",
        "second = [20, 2, 17, 3, 1]\n",
        "count_animals(first,second)\n",
        "```\n",
        "```\n",
        " 3\n",
        "```\n",
        "\n",
        "This one isn't started for you.  Remember to include a docstring.  This can also be done using a list comprehension, similar to the previous function.\n",
        "\n"
      ],
      "metadata": {
        "id": "aMsOmejkzNVN"
      }
    },
    {
      "cell_type": "code",
      "source": [
        "# define your function here\n",
        "def count_animals(first, second):\n",
        "    \"\"\"\n",
        "    Counting the number of elements in the second list that are also in the first list.\n",
        "\n",
        "Parameters:\n",
        "    - The first list of elements.\n",
        "    - The second list of elements-  Should be of the same length as the first list.\n",
        "\n",
        "Returns:\n",
        "    int: The number of elements in the second list that are also present in the first list.\n",
        "    \"\"\"\n",
        "    if len(first) != len(second):\n",
        "        raise ValueError(\"Lists must be of the same length\")\n",
        "\n",
        "    # Count elements in the second list that are also in the first list\n",
        "    num_animals = sum(1 for element in second if element in first)\n",
        "\n",
        "    return num_animals\n",
        "\n",
        "\n",
        "first = [1, 2, 3, 4, 5]\n",
        "second = [3, 4, 5, 6, 7]\n",
        "print(count_animals(first, second))"
      ],
      "metadata": {
        "id": "yRX219q02e6i",
        "colab": {
          "base_uri": "https://localhost:8080/"
        },
        "outputId": "0c482483-188d-47e3-b2a0-21c99c4e019f"
      },
      "execution_count": 3,
      "outputs": [
        {
          "output_type": "stream",
          "name": "stdout",
          "text": [
            "3\n"
          ]
        }
      ]
    },
    {
      "cell_type": "markdown",
      "source": [
        "Again, demonstrate below that you have tested your code and that it works."
      ],
      "metadata": {
        "id": "HXRNwANS2f-4"
      }
    },
    {
      "cell_type": "markdown",
      "source": [
        "3. **Count the cows:**  \n",
        "Write a function called `count_cows` that counts the cows.  \n",
        "> This time a sample run might look like\n",
        "```\n",
        "first = [11, 3, 17, 5, 1]\n",
        "second = [20, 2, 17, 3, 1]\n",
        "count_cows(first,second)\n",
        "```\n",
        "```\n",
        " 1\n",
        "```\n",
        "*Use the two previously defined functions to help you!  \n",
        "In fact, remember that the only reason we wrote the `count_animals` function was to help count the cows.*\n",
        "\n",
        "You can do this with only two lines of code, not counting documentation!"
      ],
      "metadata": {
        "id": "x2DAPkxj2GMo"
      }
    },
    {
      "cell_type": "code",
      "source": [
        "# put the Cow counting function here\n",
        "def count_cows(first, second):\n",
        "    \"\"\"\n",
        "    Count the cows.\n",
        "\n",
        "    Parameters:\n",
        "    - first (list): The first list of integers.\n",
        "    - second (list): The second list of integers. Should be of the same length as the first list.\n",
        "\n",
        "    Returns:\n",
        "    int: The number of cows.\n",
        "    \"\"\"\n",
        "    if len(first) != len(second):\n",
        "        raise ValueError(\"Lists must be of the same length\")\n",
        "\n",
        "    num_cows = 0 #initialising the variable so the count starts iterating from index 0\n",
        "    for k in range(len(first)):\n",
        "        if first[k] in second and first[k] != second[k]:\n",
        "            num_cows += 1\n",
        "\n",
        "    return num_cows\n",
        "\n",
        "\n",
        "first = [2, 5, 1, 6, 8]\n",
        "second = [2, 3, 1, 8, 7]\n",
        "print(count_cows(first, second))"
      ],
      "metadata": {
        "id": "QnxnaOPI3YZO",
        "colab": {
          "base_uri": "https://localhost:8080/"
        },
        "outputId": "21b3dc70-bd41-48d6-b6b4-43c9d9ed5e69"
      },
      "execution_count": 4,
      "outputs": [
        {
          "output_type": "stream",
          "name": "stdout",
          "text": [
            "1\n"
          ]
        }
      ]
    },
    {
      "cell_type": "markdown",
      "metadata": {
        "id": "hWQhYDIVYjXr"
      },
      "source": [
        "4. **Create feedback string**  \n",
        "Write a `build_response_str` function that takes three numbers, say `b,c,l`, and outputs a string of total length `l` that consists of `b` B's, followed by `c` C's, and the rest X's (until the total length is `l`).\n",
        "\n",
        "> Sample run:\n",
        "```\n",
        "build_response_str(4,3,9)\n",
        "```\n",
        "```\n",
        "BBBBCCCXX\n",
        "```"
      ]
    },
    {
      "cell_type": "code",
      "source": [
        "# define your function here\n",
        "def build_response_str(b, c, l):\n",
        "    \"\"\"\n",
        "    Build a response string consisting of b B's, followed by c C's, and the rest X's until the total length is l.\n",
        "\n",
        "    Parameters:\n",
        "    - b (int): The number of B's.\n",
        "    - c (int): The number of C's.\n",
        "    - l (int): The total length of the string.\n",
        "\n",
        "    Returns:\n",
        "    str: The response string.\n",
        "    \"\"\"\n",
        "    # Calculate the number of X's needed to reach the total length\n",
        "    num_x = l - b - c\n",
        "\n",
        "    # Construct the response string\n",
        "    response = 'B' * b + 'C' * c + 'X' * num_x\n",
        "\n",
        "    return response\n",
        "\n",
        "# Sample run\n",
        "print(build_response_str(2, 3, 10))"
      ],
      "metadata": {
        "id": "GSimWqUsMaPE",
        "colab": {
          "base_uri": "https://localhost:8080/"
        },
        "outputId": "7cb489f1-0dae-4384-b44d-98e21241e784"
      },
      "execution_count": 7,
      "outputs": [
        {
          "output_type": "stream",
          "name": "stdout",
          "text": [
            "BBCCCXXXXX\n"
          ]
        }
      ]
    },
    {
      "cell_type": "markdown",
      "source": [
        "Test your code here."
      ],
      "metadata": {
        "id": "2D14kxTU7ApH"
      }
    },
    {
      "cell_type": "markdown",
      "metadata": {
        "id": "omzE6sLKwsMC"
      },
      "source": [
        "5.  **Generate feedback for guesses**  \n",
        "Write a function `response(first,second)` that takes two lists of the same length, and outputs a string consisting of some number of B's followed by some number of C's followed by some number of X's, where the numbers correspond to the things we counted above.  That is, if `first` were the secret code in the game and `second` were the user's guess, then we would print one B for each Bull, one C for each Cow, and one X for each Miss. The total output string should have the same length as the input strings.\n",
        "\n",
        "> Sample run:\n",
        "```\n",
        "first = [11, 3, 17, 5, 1]\n",
        "second = [20, 2, 17, 3, 1]\n",
        "response(first,second)\n",
        "```\n",
        "```\n",
        " BBCXX\n",
        "```\n",
        "\n",
        "With all the functions you've already put in place, this should be simple.  Test your code once it's written.\n"
      ]
    },
    {
      "cell_type": "code",
      "source": [
        "def count_bulls(first, second):\n",
        "    \"\"\"\n",
        "    Count the number of Bulls between two lists.\n",
        "\n",
        "    Parameters:\n",
        "    - first (list): The first list of integers.\n",
        "    - second (list): The second list of integers. Should be of the same length as the first list.\n",
        "\n",
        "    Returns:\n",
        "    int: The number of indices where the elements in the two lists match.\n",
        "    \"\"\"\n",
        "    if len(first) != len(second):\n",
        "        raise ValueError(\"Lists must be of the same length\")\n",
        "\n",
        "    bulls = sum(1 for a, b in zip(first, second) if a == b)\n",
        "    return bulls\n",
        "\n",
        "def count_cows(first, second):\n",
        "    \"\"\"\n",
        "    Count the number of Cows between two lists.\n",
        "\n",
        "    Parameters:\n",
        "    - first (list): The first list of integers.\n",
        "    - second (list): The second list of integers. Should be of the same length as the first list.\n",
        "\n",
        "    Returns:\n",
        "    int: The number of elements in the second list that are also present in the first list but not at the same position.\n",
        "    \"\"\"\n",
        "    if len(first) != len(second):\n",
        "        raise ValueError(\"Lists must be of the same length\")\n",
        "\n",
        "    cows = sum(1 for i in range(len(first)) if first[i] in second and first[i] != second[i])\n",
        "    return cows\n",
        "\n",
        "def count_misses(first, second):\n",
        "    \"\"\"\n",
        "    Count the number of Misses between two lists.\n",
        "\n",
        "    Parameters:\n",
        "    - first (list): The first list of integers.\n",
        "    - second (list): The second list of integers. Should be of the same length as the first list.\n",
        "\n",
        "    Returns:\n",
        "    int: The number of elements in the first list that are not present in the second list.\n",
        "    \"\"\"\n",
        "    if len(first) != len(second):\n",
        "        raise ValueError(\"Lists must be of the same length\")\n",
        "\n",
        "    misses = sum(1 for a in first if a not in second)\n",
        "    return misses\n",
        "\n",
        "def response(first, second):\n",
        "    \"\"\"\n",
        "    Generate a response string consisting of B's for Bulls, C's for Cows, and X's for Misses.\n",
        "\n",
        "    Parameters:\n",
        "    - first (list): The first list of integers.\n",
        "    - second (list): The second list of integers. Should be of the same length as the first list.\n",
        "\n",
        "    Returns:\n",
        "    str: The response string.\n",
        "    \"\"\"\n",
        "    bulls = count_bulls(first, second)\n",
        "    cows = count_cows(first, second)\n",
        "    misses = count_misses(first, second)\n",
        "    total_length = len(first)\n",
        "\n",
        "    return 'B' * bulls + 'C' * cows + 'X' * misses\n",
        "\n",
        "# Sample run\n",
        "first = [11, 3, 17, 5, 1]\n",
        "second = [20, 2, 17, 3, 1]\n",
        "print(response(first, second))"
      ],
      "metadata": {
        "id": "RD1qq7l783y5",
        "colab": {
          "base_uri": "https://localhost:8080/"
        },
        "outputId": "9e3f4673-b1a3-4419-d650-c7943b73ab09"
      },
      "execution_count": 8,
      "outputs": [
        {
          "output_type": "stream",
          "name": "stdout",
          "text": [
            "BBCXX\n"
          ]
        }
      ]
    },
    {
      "cell_type": "markdown",
      "metadata": {
        "id": "LWshNPjPZJdQ"
      },
      "source": [
        "6.  **Choose the secret code**  \n",
        "The `random` package, and specifically the `sample` sub-package, is useful for generating random samples.  Try running the following lines of code several times.\n",
        "\n"
      ]
    },
    {
      "cell_type": "code",
      "source": [
        "\n",
        "from random import sample\n",
        "\n",
        "sample(range(1,7),4)  # the first argument is the population to be sampled, and the second is the number of samples\n",
        "                      # recall that `range(a,b)` includes `a` but stops at `b-1`\n",
        ""
      ],
      "metadata": {
        "id": "OzEZ5BQZ85jV",
        "colab": {
          "base_uri": "https://localhost:8080/"
        },
        "outputId": "5ba9ce76-ebe7-42ef-dea6-7e538b4fff79"
      },
      "execution_count": 9,
      "outputs": [
        {
          "output_type": "execute_result",
          "data": {
            "text/plain": [
              "[3, 6, 5, 1]"
            ]
          },
          "metadata": {},
          "execution_count": 9
        }
      ]
    },
    {
      "cell_type": "code",
      "source": [],
      "metadata": {
        "id": "Kz3SWS-S6lt9"
      },
      "execution_count": null,
      "outputs": []
    },
    {
      "cell_type": "markdown",
      "source": [
        "What type of object is returned by the `sample` function?\n"
      ],
      "metadata": {
        "id": "N1BOe2Xd-kr4"
      }
    },
    {
      "cell_type": "code",
      "source": [
        "#The sample() function returns a list object."
      ],
      "metadata": {
        "id": "U5AAu9sG-slX"
      },
      "execution_count": null,
      "outputs": []
    },
    {
      "cell_type": "markdown",
      "source": [],
      "metadata": {
        "id": "yGZw8xFZ-uN4"
      }
    },
    {
      "cell_type": "markdown",
      "source": [
        "7. **Verify the guess**  \n",
        "Finish writing a function called `get_guess` (started below) to prompt the user for a guess and then make sure the input is valid according to the rules of the game.\n",
        "The prompt is already given.  Note that the `list` command converts the input into a list of characters so that it can be passed to the other functions (which are expecting lists).   \n",
        ">**Alert:  you will likely have to think more about data types before this is all over.**"
      ],
      "metadata": {
        "id": "mbK84TdIAVsO"
      }
    },
    {
      "cell_type": "code",
      "source": [
        "'''\n",
        "def get_guess():\n",
        "# Add code as needed to verify that the guess is legitimate.\n",
        "# Respond to an illegitimate guess with a message telling the user what the rules are\n",
        "# and asking to try again.\n",
        "\n",
        "  guess = list(input(\"Enter your guess:\"))\n",
        "\n",
        "  return guess\n",
        "  '''"
      ],
      "metadata": {
        "id": "13HGg6VvBXSH"
      },
      "execution_count": null,
      "outputs": []
    },
    {
      "cell_type": "code",
      "source": [
        "# Define the get_guess function\n",
        "def get_guess():\n",
        "    \"\"\"\n",
        "Prompt the user for a guess and verify it passes the guess constraints as posited by  game rules\n",
        "\n",
        "Returns:\n",
        "list: The user's valid guess as a list of characters.\n",
        "    \"\"\"\n",
        "    while True:\n",
        "        guess = input(\"Enter your guess: \")\n",
        "\n",
        "        # verifying if the guess is 4 digits long\n",
        "        if len(guess) != 4:\n",
        "            print(\"Invalid guess! Guess must be 4 digits long.\")\n",
        "            continue\n",
        "\n",
        "        # verifying if all characters are digits between 1 and 6\n",
        "        if not all(char.isdigit() and '1' <= char <= '6' for char in guess):\n",
        "            print(\"Invalid guess! Guess must contain only digits between 1 and 6.\")\n",
        "            continue\n",
        "\n",
        "        # verifying if the guess contains repeated digits\n",
        "        if len(set(guess)) != len(guess):\n",
        "            print(\"Invalid guess! Guess must not contain repeated digits.\")\n",
        "            continue\n",
        "\n",
        "        # If all conditions are met, converting the guess to a list of characters and return\n",
        "        return list(guess)\n",
        "\n",
        "# Test the get_guess function\n",
        "print(get_guess())"
      ],
      "metadata": {
        "colab": {
          "base_uri": "https://localhost:8080/"
        },
        "id": "SyQjbsyH7ag-",
        "outputId": "5209a176-59b1-46d3-ae5a-43409ba2f484"
      },
      "execution_count": 10,
      "outputs": [
        {
          "output_type": "stream",
          "name": "stdout",
          "text": [
            "Enter your guess: 6543\n",
            "['6', '5', '4', '3']\n"
          ]
        }
      ]
    },
    {
      "cell_type": "markdown",
      "source": [
        "As usual, test your code.  What type of objects are we dealing with here?"
      ],
      "metadata": {
        "id": "PSPYpeZYONf0"
      }
    },
    {
      "cell_type": "code",
      "source": [
        "#string object: for instance, the input() function\n",
        "#list object: for instance, the return value of the function after processing input"
      ],
      "metadata": {
        "id": "ytgf6BfiOPNh"
      },
      "execution_count": null,
      "outputs": []
    },
    {
      "cell_type": "markdown",
      "source": [
        "8. **Put it all together**  \n",
        "Finally, fill in the details of the function `bulls_cows` below so that it will play the game of Bulls and Cows when called.  Note that the function takes no arguments and returns nothing.\n"
      ],
      "metadata": {
        "id": "WdtvUrA4-uzn"
      }
    },
    {
      "cell_type": "code",
      "execution_count": null,
      "metadata": {
        "id": "_u48oidGzRKX"
      },
      "outputs": [],
      "source": [
        "'''\n",
        "from random import sample\n",
        "\n",
        "def bulls_cows():\n",
        "  '''\n",
        "  This function plays the game \"Bulls and Cows.\"\n",
        "  It takes no arguments and returns nothing.\n",
        "  '''\n",
        "  code=                               # (finish) computer selects the secret code\n",
        "\n",
        "  for i in range(6):                  # user gets a maximum of 6 guesses\n",
        "    guess=                            # (finish) run a function to get a guess\n",
        "    if code==guess:\n",
        "      print(\"You guessed it!\")\n",
        "      return\n",
        "    print(response(code,guess))\n",
        "  print(f\"You have run out of guesses. The secret code was {code}.\")\n",
        "  return\n",
        "  '''"
      ]
    },
    {
      "cell_type": "code",
      "source": [],
      "metadata": {
        "id": "Uv0_nakox-Ul"
      },
      "execution_count": null,
      "outputs": []
    },
    {
      "cell_type": "markdown",
      "metadata": {
        "id": "NzjqX_9K3OuV"
      },
      "source": [
        "Play the game a few times below.  Make sure it behaves as you think it should!"
      ]
    },
    {
      "cell_type": "code",
      "execution_count": null,
      "metadata": {
        "id": "b-HELV-z3OuW"
      },
      "outputs": [],
      "source": [
        "bulls_cows()"
      ]
    },
    {
      "cell_type": "code",
      "source": [
        "bulls_cows()"
      ],
      "metadata": {
        "id": "inzOdtimDfGU"
      },
      "execution_count": null,
      "outputs": []
    },
    {
      "cell_type": "code",
      "source": [
        "bulls_cows()"
      ],
      "metadata": {
        "id": "Eqw-5laFDfkG"
      },
      "execution_count": null,
      "outputs": []
    },
    {
      "cell_type": "markdown",
      "source": [
        "9. **Reflect**  \n",
        "Think of at least three ways you could change the rules or setup of the game, and in each case describe (in one sentence, you don't need to write code) what you would have to do to modify your code to play the new version of the game.  Use a text box below for each of your ideas."
      ],
      "metadata": {
        "id": "a58-KCX4ELRO"
      }
    },
    {
      "cell_type": "markdown",
      "source": [
        "(1)"
      ],
      "metadata": {
        "id": "Jof2vIZSEfwo"
      }
    },
    {
      "cell_type": "markdown",
      "source": [
        "(2)"
      ],
      "metadata": {
        "id": "f2_QlBavEiqW"
      }
    },
    {
      "cell_type": "markdown",
      "source": [
        "(3)"
      ],
      "metadata": {
        "id": "sqfq2EFpEjZt"
      }
    }
  ],
  "metadata": {
    "colab": {
      "provenance": [],
      "include_colab_link": true
    },
    "kernelspec": {
      "display_name": "Python 3",
      "name": "python3"
    },
    "language_info": {
      "name": "python"
    }
  },
  "nbformat": 4,
  "nbformat_minor": 0
}