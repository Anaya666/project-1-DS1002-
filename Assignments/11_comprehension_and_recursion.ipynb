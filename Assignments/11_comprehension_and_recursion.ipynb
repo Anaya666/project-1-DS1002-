{
  "nbformat": 4,
  "nbformat_minor": 0,
  "metadata": {
    "colab": {
      "provenance": [],
      "include_colab_link": true
    },
    "kernelspec": {
      "name": "python3",
      "display_name": "Python 3"
    },
    "language_info": {
      "name": "python"
    }
  },
  "cells": [
    {
      "cell_type": "markdown",
      "metadata": {
        "id": "view-in-github",
        "colab_type": "text"
      },
      "source": [
        "<a href=\"https://colab.research.google.com/github/Anaya666/project-1-DS1002-/blob/main/Assignments/11_comprehension_and_recursion.ipynb\" target=\"_parent\"><img src=\"https://colab.research.google.com/assets/colab-badge.svg\" alt=\"Open In Colab\"/></a>"
      ]
    },
    {
      "cell_type": "markdown",
      "source": [
        "## Assignment 11\n",
        "Due Monday 15 April at noon"
      ],
      "metadata": {
        "id": "y6mGkyWrqph3"
      }
    },
    {
      "cell_type": "markdown",
      "source": [
        "### List comprehension\n",
        "\n",
        "Many of you resisted my recommendation to use list comprehensions in the previous assignment, and so my hand is forced.  You made me require it.\n",
        "\n",
        "\n",
        "Problem 1.  For each function you write below, you may assume the list being sent to the function will contain the appropriate data type.\n",
        "\n",
        "Use list comprehensions to create a function that will take a list `l` and return . . ."
      ],
      "metadata": {
        "id": "eBJulsWBngse"
      }
    },
    {
      "cell_type": "markdown",
      "source": [
        "(a) . . . a list containing the absolute value of each element of `l`"
      ],
      "metadata": {
        "id": "1h4hKDEqo5T_"
      }
    },
    {
      "cell_type": "code",
      "source": [
        "def absolute_values(og_list):\n",
        "    '''\n",
        "    The function takes og_list and returns a new list with the absolute value of each element in the list.\n",
        "    '''\n",
        "    # using the .split() function to split the input string into a list of integers - each element (x) is converted to an integer\n",
        "    og_list = [int(x) for x in og_list.split()]\n",
        "\n",
        "    # Returning a list comprehension to find the absolute value of each element- each element (y) is converted to its absolute value\n",
        "    return [abs(y) for y in og_list]\n",
        "\n",
        "input_list = input(\"Enter a list of integers each separated by a space: \")\n",
        "result = absolute_values(input_list)\n",
        "print(\"Absolute values:\", result)\n"
      ],
      "metadata": {
        "id": "n-m4CqPnbeBa",
        "outputId": "d6cd3683-10f6-48aa-cdc0-5449b6447b70",
        "colab": {
          "base_uri": "https://localhost:8080/"
        }
      },
      "execution_count": 32,
      "outputs": [
        {
          "output_type": "stream",
          "name": "stdout",
          "text": [
            "Enter a list of integers each separated by a space: -9 8 6 5 \n",
            "Absolute values: [9, 8, 6, 5]\n"
          ]
        }
      ]
    },
    {
      "cell_type": "markdown",
      "source": [
        "(b) . . . a list containing `True` for each even number in `l` and `False` for each odd number in `l`"
      ],
      "metadata": {
        "id": "mqIbzaTvpLCV"
      }
    },
    {
      "cell_type": "code",
      "source": [
        "def true_or_false(og_list):\n",
        "  '''\n",
        "  The function takes og_list and returns either 'True' if the integer is even or 'False' if the integer is odd.\n",
        "  '''\n",
        "  og_list= [int(x)for x in og_list.split()]\n",
        "  return[True if y%2==0 else False for y in og_list]\n",
        "input_list=input(\"Enter a list of integers each separated by a space: \")\n",
        "result=true_or_false(input_list)\n",
        "print(\"The list containing True for even numbers and False for odd numbers is:\", result)\n"
      ],
      "metadata": {
        "id": "0OTpQFX9pK0t",
        "outputId": "d1d934db-0653-41a4-d461-cdf6ad614ff9",
        "colab": {
          "base_uri": "https://localhost:8080/"
        }
      },
      "execution_count": 51,
      "outputs": [
        {
          "output_type": "stream",
          "name": "stdout",
          "text": [
            "Enter a list of integers each separated by a space: 7 6 5 4 3 2 10\n",
            "The list containing True for even numbers and False for odd numbers is: [False, True, False, True, False, True, True]\n"
          ]
        }
      ]
    },
    {
      "cell_type": "markdown",
      "source": [
        "(c) . . . a list containing only the numbers in `l` that are divisible by 3"
      ],
      "metadata": {
        "id": "9yqVg2hApUY9"
      }
    },
    {
      "cell_type": "code",
      "source": [
        "def divis_three(og_list):\n",
        "  '''\n",
        "  the function takes og_list and returns  a new list with elements from og_list that are divisible by 3\n",
        "  '''\n",
        "  og_list = [int(x) for x in og_list.split()]\n",
        "  return [y for y in og_list if  y%3==0]\n",
        "input_list=input(\"Enter a list of integers each seperated by a space:\")\n",
        "result= divis_three(input_list)\n",
        "print(\"new list with integers divisible by 3:\", result)\n"
      ],
      "metadata": {
        "id": "2mP_1aYZpUF4",
        "outputId": "02b88474-c5b9-49f8-9b74-db80433e1cc6",
        "colab": {
          "base_uri": "https://localhost:8080/"
        }
      },
      "execution_count": 49,
      "outputs": [
        {
          "output_type": "stream",
          "name": "stdout",
          "text": [
            "Enter a list of integers each seperated by a space:8 7 6 3 9 12\n",
            "new list with integers divisible by 3: [6, 3, 9, 12]\n"
          ]
        }
      ]
    },
    {
      "cell_type": "markdown",
      "source": [
        "(d) . . . a list containing only the words in `l` whose first and last letters are the same"
      ],
      "metadata": {
        "id": "2yClgYZupef1"
      }
    },
    {
      "cell_type": "code",
      "source": [
        "def first_last_same(og_list):\n",
        "    '''\n",
        "    The function takes the words with the same start and end letters in og_list and combines them to form a new list.\n",
        "    '''\n",
        "    # Split the input string into a list of words\n",
        "    og_list = og_list.split()\n",
        "\n",
        "    # Use list comprehension to filter words with the same first and last letters\n",
        "    return [y for y in og_list if y[0] == y[-1]]\n",
        "    #where y is the word\n",
        "\n",
        "input_list = input(\"Enter a list of words each separated by a space: \")\n",
        "result = first_last_same(input_list)\n",
        "print(\"New list with words containing the same first and last letter:\", result)"
      ],
      "metadata": {
        "id": "-l7XnemMpeCi",
        "outputId": "2346af56-33dc-4e68-e00f-6f519d33d1cc",
        "colab": {
          "base_uri": "https://localhost:8080/"
        }
      },
      "execution_count": 56,
      "outputs": [
        {
          "output_type": "stream",
          "name": "stdout",
          "text": [
            "Enter a list of words each separated by a space: anaya elena anaise\n",
            "New list with words containing the same first and last letter: ['anaya']\n"
          ]
        }
      ]
    },
    {
      "cell_type": "markdown",
      "source": [
        "reflection: initially, I put [0]==[-1] but realised that this is incorrect and will always be false as  [-1] refers to the last element of an empty list, not the last character of the word."
      ],
      "metadata": {
        "id": "HHml_cfFoNQV"
      }
    },
    {
      "cell_type": "markdown",
      "source": [
        "(e) . . . a list containing the first letter of each word in `l` that ends with a vowel"
      ],
      "metadata": {
        "id": "1mqMysFKppZS"
      }
    },
    {
      "cell_type": "code",
      "source": [
        "def vowel(og_list):\n",
        "    '''\n",
        "    The function takes the words with the same start and end letters in og_list and combines them to form a new list.\n",
        "    '''\n",
        "    og_list = og_list.split()\n",
        "    return [y[0] for y in og_list if y[-1].lower()in 'aeiou']\n",
        "    #where y is the word\n",
        "input_list = input(\"Enter a list of words each separated by a space: \")\n",
        "result = vowel(input_list)\n",
        "print(\"New list of letters from words ending in vowels:\", result)"
      ],
      "metadata": {
        "id": "1Gi3andbppDc",
        "outputId": "1420b111-a155-450a-f609-cc474164248d",
        "colab": {
          "base_uri": "https://localhost:8080/"
        }
      },
      "execution_count": 61,
      "outputs": [
        {
          "output_type": "stream",
          "name": "stdout",
          "text": [
            "Enter a list of words each separated by a space: anaya elena sufim Olivia \n",
            "New list of letters from words ending in vowels: ['a', 'e', 'O']\n"
          ]
        }
      ]
    },
    {
      "cell_type": "markdown",
      "source": [
        "### Multiplication as a recursive process\n",
        "Problem 2.  Write a recursive function that computes the product of two positive integers `a` and `b` by adding `a` to itself `b` times.\n",
        "\n",
        "Hints:  \n",
        "1. if `b=1` then the product is `a`.\n",
        "2. if `b>1` then the product is what you get by adding `a` to `a * (b-1)`.\n",
        "\n",
        "Note:  the purpose of this exercise is to practice writing recursive functions.  Of course you can trivially ask for `a*b` and get the correct answer but that is worth no points.  Your function should not use any multiplications.\n"
      ],
      "metadata": {
        "id": "iV4ysawxjsiE"
      }
    },
    {
      "cell_type": "code",
      "execution_count": null,
      "metadata": {
        "id": "wc9Y1d7ejrvH"
      },
      "outputs": [],
      "source": []
    },
    {
      "cell_type": "markdown",
      "source": [
        "### Division as a recursive process\n",
        "\n",
        "Problem 3:  Write a recursive function that takes two positive integers `a` and `b` and returns the quotient `q` and remainder `r` obtained when `a` is divided by `b`.\n",
        "\n",
        "Hints:  \n",
        "1. If `a<b` then what should `q` and `r` be?\n",
        "\n",
        "2. If `a>b` then think about how `q` and `r` are related to the values you would get from dividing `a-b` by `b`."
      ],
      "metadata": {
        "id": "A5xI1LxDkxn0"
      }
    },
    {
      "cell_type": "code",
      "source": [],
      "metadata": {
        "id": "_3aRmkgJkxUW"
      },
      "execution_count": null,
      "outputs": []
    },
    {
      "cell_type": "markdown",
      "source": [
        "### The dot product of two vectors\n",
        "\n",
        "Problem 4.  Write a recursive function `dot()` that takes two lists of numbers, of equal length, and returns the sum of the products of the elements of the same index from each list. For example, if `V=[1,2,3]` and `W=[4,5,6]` then the function should return the value $(1 \\cdot 4) + (2\\cdot 5) + (3\\cdot 6)$, which equals 32.  In physics and linear algebra, this is called the \"dot product\" of the vectors `V` and `W`.\n",
        "\n",
        "Other examples:\n",
        "```\n",
        "dot([3],[4])\n",
        "12\n",
        "\n",
        "dot([1,1,0],[2,7,17])\n",
        "9\n",
        "```\n",
        "Hints:\n",
        "1. How is `dot(V,W)` related to `dot(V[1:],W[1:])`?\n",
        "2. What should happen if the lists are empty?"
      ],
      "metadata": {
        "id": "OkBK7gvglJ3u"
      }
    },
    {
      "cell_type": "code",
      "source": [],
      "metadata": {
        "id": "LZXs6lkslJqm"
      },
      "execution_count": null,
      "outputs": []
    }
  ]
}