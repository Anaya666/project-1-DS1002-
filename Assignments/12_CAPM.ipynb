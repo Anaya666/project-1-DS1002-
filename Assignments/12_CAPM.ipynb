{
  "cells": [
    {
      "cell_type": "markdown",
      "metadata": {
        "id": "view-in-github",
        "colab_type": "text"
      },
      "source": [
        "<a href=\"https://colab.research.google.com/github/Anaya666/project-1-DS1002-/blob/main/Assignments/12_CAPM.ipynb\" target=\"_parent\"><img src=\"https://colab.research.google.com/assets/colab-badge.svg\" alt=\"Open In Colab\"/></a>"
      ]
    },
    {
      "cell_type": "markdown",
      "metadata": {
        "id": "Pz4oXuFbf1pe"
      },
      "source": [
        "## Capital Asset Pricing Model (CAPM)\n",
        "\n",
        "### Assignment due Monday 22 April at noon\n",
        "\n",
        "---"
      ]
    },
    {
      "cell_type": "markdown",
      "metadata": {
        "id": "K-eHlG5gf1pf"
      },
      "source": [
        "### Objectives\n",
        "\n",
        "This assignment is primarily meant to refresh your numpy and pandas skills.  \n",
        "Technical objectives are discussed below.  \n",
        "\n",
        "- All the usual rules apply:  you may work together (groups of at most 3), make sure all names are easy to find at the top of the submission, submit the link to your working colab notebook\n",
        "\n",
        "\n",
        "### Background\n",
        "\n",
        "In finance, CAPM is a single-factor regression model used for analyzing (and predicting) excess stock returns. There are better, more accurate models, but it has its uses. For example, the *market beta* is a useful output which has something to do with the risk of particular investments.\n",
        "\n",
        "1.  Read [this brief synopsis](https://en.wikipedia.org/wiki/Capital_asset_pricing_model) of CAPM.\n",
        "\n",
        "\n",
        "Don't worry if you don't understand all the terminology.\n",
        "Look for a moment at the main formula (in the \"Formula\" section).  For us that formula will look like this:\n",
        "\n",
        "\\begin{aligned}\n",
        "E(R_A) = R_f + \\beta_A (E(R_{SP}) - R_f)\n",
        "\\end{aligned}\n",
        "\n",
        "Some notes on the symbols in this formula:\n",
        "- The formula is used to estimate $E(R_A)$.  The $E$ here stands for the expected value, and $R_A$ is the rate of return of the investment $A$.\n",
        "- To use this formula, you therefore need to know the values of the other variables.\n",
        "- The variable $R_f$ is the \"risk-free rate,\" which is the amount of return you can get on an investment that has zero risk, like say a bank account.\n",
        "This quantity changes over time but for our purposes we can treat it as a constant.  It is hard-coded into the code below.  Make sure you see where this variable occurs in the formula above.\n",
        "- In this assignment the variable $R_{SP}$ is a measure of the rate of return of the overall market.  (The $E$ on the right side also means expected value.)\n",
        "- The variable $\\beta_A$ measures something about the relative risk of the investment A, relative to the overall market.  The technical objective of this assignment will be to compute $\\beta_A$ below, and then to examine how sensitive it is to the specific data.\n",
        "- The value you get for $\\beta_A$ will be a number.  If it is greater than 1, it means (*very roughly*) that the investment A is more volatile than the overall market.  If it is less than 1, it means that the investment is less volatile than the overall market.  But **do not take this too seriously!** In particular see all the caveats at the wikipedia page.\n",
        "- The A investment in our example is an individual stock (Apple).\n",
        "\n"
      ]
    },
    {
      "cell_type": "markdown",
      "metadata": {
        "id": "bHqzHCZnf1pg"
      },
      "source": [
        "2.  Load the packages and data.  (Note that the following code chunk also hard-codes the constant $R_f$.)  \n",
        "The data lives in the file `capm_market_data` in the `data` folder on the `GitHub` site."
      ]
    },
    {
      "cell_type": "code",
      "execution_count": 1,
      "metadata": {
        "id": "iRPr8YvJf1pg",
        "colab": {
          "base_uri": "https://localhost:8080/"
        },
        "outputId": "f3232044-15ac-419d-97e1-4a082a3ac934"
      },
      "outputs": [
        {
          "output_type": "stream",
          "name": "stdout",
          "text": [
            "           date  spy_adj_close  aapl_adj_close\n",
            "0    2020-01-02     321.555786      298.829956\n",
            "1    2020-01-03     319.120911      295.924713\n",
            "2    2020-01-06     320.338379      298.282715\n",
            "3    2020-01-07     319.437653      296.879883\n",
            "4    2020-01-08     321.140106      301.655548\n",
            "..          ...            ...             ...\n",
            "130  2020-07-09     314.380005      383.010010\n",
            "131  2020-07-10     317.589996      383.679993\n",
            "132  2020-07-13     314.839996      381.910004\n",
            "133  2020-07-14     318.920013      388.230011\n",
            "134  2020-07-15     321.850006      390.899994\n",
            "\n",
            "[135 rows x 3 columns]\n"
          ]
        }
      ],
      "source": [
        "# load numpy and pandas packages\n",
        "import numpy as np\n",
        "import pandas as pd\n",
        "\n",
        "# get data\n",
        "url= 'https://raw.githubusercontent.com/aaron-abrams-uva/DS1002-S24/main/data/capm_market_data.csv'\n",
        "capm_data=pd.read_csv(url)\n",
        "print(capm_data)\n",
        "# risk-free Treasury rate\n",
        "R_f = 0.0175 / 252"
      ]
    },
    {
      "cell_type": "markdown",
      "metadata": {
        "id": "PLXAZx6xf1ph"
      },
      "source": [
        "3.  Look at some records.  \n",
        "SPY is something that mirrors the S&P 500 (\"the market\").  \n",
        "AAPL is the code for Apple stock.  \n",
        "The values are closing prices, adjusted for splits and dividends."
      ]
    },
    {
      "cell_type": "code",
      "execution_count": 10,
      "metadata": {
        "id": "747y_ickf1ph",
        "colab": {
          "base_uri": "https://localhost:8080/"
        },
        "outputId": "fdec3e68-9289-49b3-b3b6-3e03a18f04af"
      },
      "outputs": [
        {
          "output_type": "stream",
          "name": "stdout",
          "text": [
            "First few records for SPY:\n",
            "0    321.555786\n",
            "1    319.120911\n",
            "2    320.338379\n",
            "3    319.437653\n",
            "4    321.140106\n",
            "Name: spy_adj_close, dtype: float64\n",
            "\n",
            "First few records for AAPL:\n",
            "0    298.829956\n",
            "1    295.924713\n",
            "2    298.282715\n",
            "3    296.879883\n",
            "4    301.655548\n",
            "Name: aapl_adj_close, dtype: float64\n"
          ]
        }
      ],
      "source": [
        "# using .head(), display first few records for SPY and AAPL\n",
        "spy_records = capm_data.head().spy_adj_close\n",
        "aapl_records = capm_data.head().aapl_adj_close\n",
        "\n",
        "print(\"First few records for SPY:\")\n",
        "print(spy_records.head())\n",
        "\n",
        "print(\"\\nFirst few records for AAPL:\")\n",
        "print(aapl_records.head())\n"
      ]
    },
    {
      "cell_type": "code",
      "source": [],
      "metadata": {
        "id": "bqP1wDtjIZTK"
      },
      "execution_count": 10,
      "outputs": []
    },
    {
      "cell_type": "markdown",
      "metadata": {
        "id": "y8uzBoHpf1ph"
      },
      "source": [
        "4.  Drop the date column"
      ]
    },
    {
      "cell_type": "code",
      "execution_count": 16,
      "metadata": {
        "id": "1rUGRXnQf1ph",
        "colab": {
          "base_uri": "https://localhost:8080/"
        },
        "outputId": "8996eac0-3ccd-4d56-acf8-4a71fb960aa2"
      },
      "outputs": [
        {
          "output_type": "stream",
          "name": "stdout",
          "text": [
            "values for new capm without dates:\n",
            "[[321.55578613 298.82995605]\n",
            " [319.12091064 295.92471313]\n",
            " [320.33837891 298.28271484]\n",
            " [319.43765259 296.87988281]\n",
            " [321.1401062  301.6555481 ]\n",
            " [323.31762695 308.06298828]\n",
            " [322.38720703 308.75939941]\n",
            " [324.60440063 315.35586548]\n",
            " [324.10949707 311.09753418]\n",
            " [324.84191895 309.76431274]\n",
            " [327.5440979  313.64456177]\n",
            " [328.56359863 317.11694336]\n",
            " [327.92022705 314.96786499]\n",
            " [327.95980835 316.09216309]\n",
            " [328.3359375  317.6144104 ]\n",
            " [325.41601562 316.69903564]\n",
            " [320.19979858 307.38641357]\n",
            " [323.5552063  316.08218384]\n",
            " [323.28793335 322.69851685]\n",
            " [324.33712769 322.230896  ]\n",
            " [318.44784546 307.94360352]\n",
            " [320.81344604 307.09790039]\n",
            " [325.70306396 317.23629761]\n",
            " [329.46429443 319.82318115]\n",
            " [330.57287598 323.56411743]\n",
            " [328.81103516 319.16601562]\n",
            " [331.26571655 320.68191528]\n",
            " [331.83981323 318.74713135]\n",
            " [333.9777832  326.31668091]\n",
            " [333.62142944 323.99295044]\n",
            " [334.15594482 324.07275391]\n",
            " [333.2947998  318.13879395]\n",
            " [334.88839722 322.74633789]\n",
            " [333.51257324 319.43527222]\n",
            " [330.07797241 312.2048645 ]\n",
            " [319.13082886 297.375     ]\n",
            " [309.46044922 287.30227661]\n",
            " [308.32220459 291.85992432]\n",
            " [294.47491455 272.78158569]\n",
            " [293.23770142 272.62200928]\n",
            " [305.93676758 298.0032959 ]\n",
            " [297.17706299 288.53894043]\n",
            " [309.66830444 301.92269897]\n",
            " [299.37442017 292.12921143]\n",
            " [294.42541504 288.24972534]\n",
            " [271.43243408 265.45144653]\n",
            " [285.47769165 284.56967163]\n",
            " [271.56106567 274.68643188]\n",
            " [245.57888794 247.55986023]\n",
            " [266.57250977 277.21957397]\n",
            " [237.40315247 241.55612183]\n",
            " [250.22103882 252.17736816]\n",
            " [237.55162048 246.0040741 ]\n",
            " [238.05639648 244.11917114]\n",
            " [227.79756165 228.62113953]\n",
            " [221.97319031 223.76426697]\n",
            " [242.08468628 246.21351624]\n",
            " [245.70872498 244.85717773]\n",
            " [260.05560303 257.74230957]\n",
            " [252.30969238 247.07118225]\n",
            " [260.50363159 254.12210083]\n",
            " [256.62072754 253.60350037]\n",
            " [245.0715332  240.2596283 ]\n",
            " [250.72665405 244.26876831]\n",
            " [247.10261536 240.75827026]\n",
            " [263.69955444 261.76141357]\n",
            " [263.96838379 258.72961426]\n",
            " [272.82937622 265.35171509]\n",
            " [276.98114014 267.26651001]\n",
            " [274.45223999 272.5123291 ]\n",
            " [282.54663086 286.27505493]\n",
            " [276.5430603  283.66213989]\n",
            " [277.87719727 285.91604614]\n",
            " [285.38415527 282.03652954]\n",
            " [280.35626221 276.18237305]\n",
            " [271.84375    267.64547729]\n",
            " [277.87719727 275.35461426]\n",
            " [277.85723877 274.2875061 ]\n",
            " [281.73022461 282.20608521]\n",
            " [285.79232788 282.4055481 ]\n",
            " [284.47814941 277.82791138]\n",
            " [291.925354   286.95324707]\n",
            " [289.20733643 293.00683594]\n",
            " [281.55102539 288.28961182]\n",
            " [282.3276062  292.36856079]\n",
            " [284.93612671 296.75668335]\n",
            " [283.00460815 299.81838989]\n",
            " [286.41958618 302.91998291]\n",
            " [291.15872192 310.13000488]\n",
            " [291.21847534 315.01000977]\n",
            " [285.41403198 311.41000366]\n",
            " [280.36624146 307.6499939 ]\n",
            " [283.72146606 309.54000854]\n",
            " [285.02572632 307.70999146]\n",
            " [293.70751953 314.95999146]\n",
            " [290.6907959  313.14001465]\n",
            " [295.62905884 319.23001099]\n",
            " [293.58804321 316.8500061 ]\n",
            " [294.14559937 318.89001465]\n",
            " [297.7696228  316.73001099]\n",
            " [302.20013428 318.10998535]\n",
            " [301.64260864 318.25      ]\n",
            " [302.98669434 317.94000244]\n",
            " [304.21127319 321.8500061 ]\n",
            " [306.73019409 323.33999634]\n",
            " [310.81222534 325.11999512]\n",
            " [309.99581909 322.32000732]\n",
            " [317.94088745 331.5       ]\n",
            " [321.78396606 333.45999146]\n",
            " [319.38452148 343.98999023]\n",
            " [317.60235596 352.83999634]\n",
            " [299.29293823 335.8999939 ]\n",
            " [302.87716675 338.79998779]\n",
            " [305.70471191 342.98999023]\n",
            " [311.58880615 352.07998657]\n",
            " [310.29452515 351.58999634]\n",
            " [310.41400146 351.73001099]\n",
            " [308.64001465 349.72000122]\n",
            " [310.61999512 358.86999512]\n",
            " [312.04998779 366.52999878]\n",
            " [304.08999634 360.05999756]\n",
            " [307.3500061  364.83999634]\n",
            " [300.04998779 353.63000488]\n",
            " [304.45999146 361.77999878]\n",
            " [308.35998535 364.79998779]\n",
            " [310.51998901 364.10998535]\n",
            " [312.23001099 364.10998535]\n",
            " [317.04998779 373.8500061 ]\n",
            " [313.77999878 372.69000244]\n",
            " [316.17999268 381.36999512]\n",
            " [314.38000488 383.01000977]\n",
            " [317.58999634 383.67999268]\n",
            " [314.83999634 381.91000366]\n",
            " [318.92001343 388.23001099]\n",
            " [321.8500061  390.8999939 ]]\n"
          ]
        }
      ],
      "source": [
        "# Drop the 'date' column from the DataFrame\n",
        "capm_new=capm_data.drop(columns=['date'])\n",
        "\n",
        "# Print only the 'spy_adj_close' values\n",
        "print(\"values for new capm without dates:\")\n",
        "print(capm_new.values)\n"
      ]
    },
    {
      "cell_type": "markdown",
      "metadata": {
        "id": "fyE1w8F2f1ph"
      },
      "source": [
        "5.  Compute daily returns (percentage changes in price) for both SPY and AAPL.\n",
        "(Be sure to drop the first row of NaN.)  \n",
        "Hint: pandas has functions to easily do this.  \n",
        "Print the first 5 rows of returns.\n"
      ]
    },
    {
      "cell_type": "code",
      "execution_count": 21,
      "metadata": {
        "id": "8aCLOA08f1pi",
        "colab": {
          "base_uri": "https://localhost:8080/"
        },
        "outputId": "547bb0cc-bfd8-49f4-bc1e-dfddaa8971e4"
      },
      "outputs": [
        {
          "output_type": "stream",
          "name": "stdout",
          "text": [
            "First 5 rows of returns for SPY:\n",
            "1   -0.007572\n",
            "2    0.003815\n",
            "3   -0.002812\n",
            "4    0.005330\n",
            "5    0.006781\n",
            "Name: spy_returns, dtype: float64\n",
            "\n",
            "First 5 rows of returns for AAPL:\n",
            "1   -0.009722\n",
            "2    0.007968\n",
            "3   -0.004703\n",
            "4    0.016086\n",
            "5    0.021241\n",
            "Name: aapl_returns, dtype: float64\n"
          ]
        }
      ],
      "source": [
        "# Compute daily returns for SPY and AAPL\n",
        "capm_data['spy_returns'] = capm_data['spy_adj_close'].pct_change()\n",
        "capm_data['aapl_returns'] = capm_data['aapl_adj_close'].pct_change()\n",
        "\n",
        "# Drop the first row containing NaN values\n",
        "capm_data = capm_data.dropna()\n",
        "\n",
        "# Print the first 5 rows of returns\n",
        "print(\"First 5 rows of returns for SPY:\")\n",
        "print(capm_data['spy_returns'].head())\n",
        "\n",
        "print(\"\\nFirst 5 rows of returns for AAPL:\")\n",
        "print(capm_data['aapl_returns'].head())"
      ]
    },
    {
      "cell_type": "markdown",
      "metadata": {
        "id": "qA51CJQUf1pi"
      },
      "source": [
        "6.  Save the SPY and AAPL returns into separate numpy arrays.  \n",
        "Print the first five values from each of the two arrays.\n"
      ]
    },
    {
      "cell_type": "code",
      "execution_count": 23,
      "metadata": {
        "id": "uTx4aa7of1pi",
        "colab": {
          "base_uri": "https://localhost:8080/"
        },
        "outputId": "f218be5a-bbf6-4e51-f3cb-dcbb75a5c0a4"
      },
      "outputs": [
        {
          "output_type": "stream",
          "name": "stdout",
          "text": [
            "First five values of SPY returns:\n",
            "[-0.00757217  0.00381507 -0.0028118   0.00532953  0.00678059]\n",
            "\n",
            "First five values of AAPL returns:\n",
            "[-0.00972206  0.00796825 -0.00470303  0.01608619  0.02124092]\n"
          ]
        }
      ],
      "source": [
        "import numpy as np\n",
        "\n",
        "# Save SPY and AAPL returns into separate numpy arrays\n",
        "spy_returns_array = capm_data['spy_returns'].values\n",
        "aapl_returns_array = capm_data['aapl_returns'].values\n",
        "\n",
        "# Print the first five values from each array\n",
        "print(\"First five values of SPY returns:\")\n",
        "print(spy_returns_array[:5])\n",
        "\n",
        "print(\"\\nFirst five values of AAPL returns:\")\n",
        "print(aapl_returns_array[:5])\n"
      ]
    },
    {
      "cell_type": "markdown",
      "metadata": {
        "id": "SO4C0unXf1pi"
      },
      "source": [
        "7.  Make arrays (one for SPY, one for AAPL) containing the *excess* returns by subtracting the constant $R_f$ from the returns.  \n",
        "(Recall that $R_f$ is the \"risk-free rate\" meaning essentially that you could earn this much in interest if you didn't invest in anything.)  \n",
        "Print the LAST five excess returns from both SPY and AAPL numpy arrays."
      ]
    },
    {
      "cell_type": "code",
      "execution_count": 24,
      "metadata": {
        "id": "o8XOunw5f1pi",
        "colab": {
          "base_uri": "https://localhost:8080/"
        },
        "outputId": "c96a2888-9866-469e-dc7f-190a97a5e2b9"
      },
      "outputs": [
        {
          "output_type": "stream",
          "name": "stdout",
          "text": [
            "Last five excess returns for SPY:\n",
            "130   -0.005762\n",
            "131    0.010141\n",
            "132   -0.008728\n",
            "133    0.012890\n",
            "134    0.009118\n",
            "Name: spy_returns, dtype: float64\n",
            "\n",
            "Last five excess returns for AAPL:\n",
            "130    0.004231\n",
            "131    0.001680\n",
            "132   -0.004683\n",
            "133    0.016479\n",
            "134    0.006808\n",
            "Name: aapl_returns, dtype: float64\n"
          ]
        }
      ],
      "source": [
        "# Define the risk-free rate (R_f)\n",
        "R_f = 0.0175 / 252  # Daily risk-free rate\n",
        "\n",
        "# Compute excess returns for SPY and AAPL\n",
        "spy_excess_returns = capm_data['spy_returns'] - R_f\n",
        "aapl_excess_returns = capm_data['aapl_returns'] - R_f\n",
        "\n",
        "# Print the last five excess returns for SPY and AAPL\n",
        "print(\"Last five excess returns for SPY:\")\n",
        "print(spy_excess_returns.tail())\n",
        "\n",
        "print(\"\\nLast five excess returns for AAPL:\")\n",
        "print(aapl_excess_returns.tail())"
      ]
    },
    {
      "cell_type": "markdown",
      "metadata": {
        "id": "-DUdB1GGf1pi"
      },
      "source": [
        "8. Make a scatterplot with SPY excess returns on the $x$-axis and AAPL excess returns on the $y$-axis.  \n",
        "If you need it, here is the [Matplotlib documentation]( https://matplotlib.org/stable/api/_as_gen/matplotlib.pyplot.scatter.html)."
      ]
    },
    {
      "cell_type": "code",
      "execution_count": 26,
      "metadata": {
        "id": "ucDTjQOmf1pi",
        "colab": {
          "base_uri": "https://localhost:8080/",
          "height": 564
        },
        "outputId": "93c091ac-66d4-4ea4-dd07-1bd40c3009c2"
      },
      "outputs": [
        {
          "output_type": "display_data",
          "data": {
            "text/plain": [
              "<Figure size 800x600 with 1 Axes>"
            ],
            "image/png": "[encoded data removed]"
          },
          "metadata": {}
        }
      ],
      "source": [
        "import matplotlib.pyplot as plt\n",
        "\n",
        "# Plot scatter plot\n",
        "plt.figure(figsize=(8, 6))\n",
        "plt.scatter(spy_excess_returns, aapl_excess_returns, alpha=0.6, color='b')\n",
        "\n",
        "# Add labels and title\n",
        "plt.title('Scatter Plot of SPY Excess Returns vs. AAPL Excess Returns')\n",
        "plt.xlabel('SPY Excess Returns')\n",
        "plt.ylabel('AAPL Excess Returns')\n",
        "\n",
        "# Display the plot\n",
        "plt.grid(True)\n",
        "plt.show()\n"
      ]
    },
    {
      "cell_type": "markdown",
      "metadata": {
        "id": "LCJPl-d9f1pi"
      },
      "source": [
        "The value of $\\beta_A$ is computed from the arrays you built in problem 7, via a formula that uses some statistical functions called the \"variance\" and the \"covariance.\"\n",
        "\n",
        "Any individual 1-d array of numbers has a variance, which you can compute using `numpy`'s function `var()` (documented [here](https://numpy.org/doc/stable/reference/generated/numpy.var.html)).  This is a number.\n",
        "\n",
        "If you have two 1-d arrays of the same length, they collectively have something called a covariance which `numpy` also can compute using `cov()` (documented [here](https://numpy.org/doc/stable/reference/generated/numpy.cov.html)).\n",
        "\n",
        "The covariance is also a number, but look at what happens when you send two 1-d arrays to `cov()`: it returns a $2\\times 2$ matrix.  (Try it!)  The covariance we are looking for is the number that lives in both the top right and the bottom left of this matrix.  (Those two numbers should be the same.)  The top left and bottom right entries of the covariance matrix also have meaning, but we don't need them.\n",
        "\n"
      ]
    },
    {
      "cell_type": "markdown",
      "source": [
        "9. Use `numpy` functions as described above to compute the estimate of $\\beta_A$, using the following formula:  \n",
        "\\begin{aligned} \\beta_A= \\frac{ \\text{cov}(A,SP) }{ \\text{var}(SP) } \\end{aligned}\n",
        "In our context, A will be the 1-d array you made in problem 7 for AAPL, and SP will be the 1-d array you made for SPY."
      ],
      "metadata": {
        "id": "bb0j7Vi7quGp"
      }
    },
    {
      "cell_type": "code",
      "execution_count": 27,
      "metadata": {
        "id": "blGso0pMf1pj",
        "colab": {
          "base_uri": "https://localhost:8080/"
        },
        "outputId": "fd334d9c-22c0-4fd7-9833-91c18cf85d4c"
      },
      "outputs": [
        {
          "output_type": "stream",
          "name": "stdout",
          "text": [
            "Beta for AAPL: 1.0956172644197222\n"
          ]
        }
      ],
      "source": [
        "# Compute the covariance between AAPL and SPY excess returns\n",
        "covariance_aapl_spy = np.cov(aapl_excess_returns, spy_excess_returns)[0, 1]\n",
        "\n",
        "# Compute the variance of SPY excess returns\n",
        "variance_spy = np.var(spy_excess_returns)\n",
        "\n",
        "# Compute beta for AAPL\n",
        "beta_aapl = covariance_aapl_spy / variance_spy\n",
        "\n",
        "print(\"Beta for AAPL:\", beta_aapl)"
      ]
    },
    {
      "cell_type": "markdown",
      "metadata": {
        "id": "02POpgABf1pj"
      },
      "source": [
        "You should have found that the beta estimate is greater than one.  \n",
        "This means that the volatility of AAPL stock, given the data, and according to this particular (flawed) model,\n",
        "is higher than the volatility of the S&P 500.\n",
        "\n",
        "Bonus:  Is this something you can see on the plot you made?\n",
        "\n"
      ]
    },
    {
      "cell_type": "markdown",
      "source": [],
      "metadata": {
        "id": "aeLasrWag1S4"
      }
    },
    {
      "cell_type": "markdown",
      "metadata": {
        "id": "5jCGs8igf1pj"
      },
      "source": [
        "Finally, let's look at how sensitive the beta is to each data point.   \n",
        "We want to drop each data point (one at a time), compute \\\\(\\hat\\beta_i\\\\) using our formula from above, and save each measurement.\n",
        "\n",
        "This is called *jackknifing*.\n",
        "\n"
      ]
    },
    {
      "cell_type": "markdown",
      "source": [
        "10. Write a function called `beta_sensitivity()` with these specs:\n",
        "\n",
        "- take numpy arrays `x` and `y` as inputs\n",
        "- outputs a list of tuples, so that each tuple contains (observation row dropped, beta estimate)\n",
        "\n",
        "Hint: **np.delete(x, i).reshape(-1,1)** will delete observation i from array x, and make it a column vector"
      ],
      "metadata": {
        "id": "VhlkawRDeV8Z"
      }
    },
    {
      "cell_type": "code",
      "execution_count": null,
      "metadata": {
        "id": "LyT1XSF8f1pj"
      },
      "outputs": [],
      "source": []
    },
    {
      "cell_type": "markdown",
      "metadata": {
        "id": "L9u4bfjtf1pj"
      },
      "source": [
        "11. Call `beta_sensitivity()` on the arrays A and SP from earlier and print the first ten tuples of output."
      ]
    },
    {
      "cell_type": "code",
      "execution_count": null,
      "metadata": {
        "id": "vaz9ozp6f1pj"
      },
      "outputs": [],
      "source": []
    }
  ],
  "metadata": {
    "kernelspec": {
      "display_name": "Python 3.8.9 64-bit",
      "language": "python",
      "name": "python3"
    },
    "language_info": {
      "codemirror_mode": {
        "name": "ipython",
        "version": 3
      },
      "file_extension": ".py",
      "mimetype": "text/x-python",
      "name": "python",
      "nbconvert_exporter": "python",
      "pygments_lexer": "ipython3",
      "version": "3.8.9"
    },
    "vscode": {
      "interpreter": {
        "hash": "31f2aee4e71d21fbe5cf8b01ff0e069b9275f58929596ceb00d14d90e3e16cd6"
      }
    },
    "colab": {
      "provenance": [],
      "include_colab_link": true
    }
  },
  "nbformat": 4,
  "nbformat_minor": 0
}