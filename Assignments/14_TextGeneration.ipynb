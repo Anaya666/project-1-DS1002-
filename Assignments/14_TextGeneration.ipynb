{
  "nbformat": 4,
  "nbformat_minor": 0,
  "metadata": {
    "colab": {
      "provenance": [],
      "include_colab_link": true
    },
    "kernelspec": {
      "name": "python3",
      "display_name": "Python 3"
    },
    "language_info": {
      "name": "python"
    }
  },
  "cells": [
    {
      "cell_type": "markdown",
      "metadata": {
        "id": "view-in-github",
        "colab_type": "text"
      },
      "source": [
        "<a href=\"https://colab.research.google.com/github/Anaya666/project-1-DS1002-/blob/main/Assignments/14_TextGeneration.ipynb\" target=\"_parent\"><img src=\"https://colab.research.google.com/assets/colab-badge.svg\" alt=\"Open In Colab\"/></a>"
      ]
    },
    {
      "cell_type": "markdown",
      "source": [
        "## Final homework assignment:  generating text from a corpus\n",
        "\n",
        "Due Friday 3 May at 5 pm"
      ],
      "metadata": {
        "id": "tWbrZqoW5281"
      }
    },
    {
      "cell_type": "markdown",
      "source": [
        "We begin by loading all of Shakespeare's plays into a text file, and separating them into individual words.  This is made easy by the fact that someone already made a giant text file of these plays for us, and put it online.\n",
        "\n",
        "[Note that by changing the url in the following code chunk, you can load any text file that lives online in this way . . . see below.]\n",
        "\n",
        "Run the following code.  It should output a list of ten words, starting with 'From' and ending with 'rose'."
      ],
      "metadata": {
        "id": "7tMMjgkjF7gk"
      }
    },
    {
      "cell_type": "code",
      "source": [
        "from urllib.request import urlopen            #package for reading info from the web\n",
        "url='https://ocw.mit.edu/ans7870/6/6.006/s08/lecturenotes/files/t8.shakespeare.txt'   #web address\n",
        "text = urlopen(url).read().decode('utf-8')    #open web address, read file, convert to text\n",
        "shakespeare_words=text.split()[1651:]         #split text into words (not including preamble)\n",
        "shakespeare_words[:10]                        #display the first 10 words"
      ],
      "metadata": {
        "id": "PoW71ljm2GS-",
        "outputId": "c40326ab-f7c1-4800-dc37-aedf7c74494f",
        "colab": {
          "base_uri": "https://localhost:8080/"
        }
      },
      "execution_count": 1,
      "outputs": [
        {
          "output_type": "execute_result",
          "data": {
            "text/plain": [
              "['From',\n",
              " 'fairest',\n",
              " 'creatures',\n",
              " 'we',\n",
              " 'desire',\n",
              " 'increase,',\n",
              " 'That',\n",
              " 'thereby',\n",
              " \"beauty's\",\n",
              " 'rose']"
            ]
          },
          "metadata": {},
          "execution_count": 1
        }
      ]
    },
    {
      "cell_type": "markdown",
      "source": [
        "## 1. `nextwords` practice\n",
        "\n",
        "Create a practice function called `createNextwordsPractice` which takes a list of words called `wordlist` and returns a dictionary called `nextwordsPractice`. The keys of `nextwordsPractice` should be all the words in `wordlist`, and the value for any given key should be a list of all the words that follow the key word somewhere in the original `wordlist`.\n",
        "\n"
      ],
      "metadata": {
        "id": "AIeohQaAHRF8"
      }
    },
    {
      "cell_type": "code",
      "source": [
        "def createNextwordsPractice(wordlist): #this is an empty dictionary that will store our results\n",
        "  nextwordsPractice = {}\n",
        "  for i in range(len(wordlist)): #looping through all words in wordlist\n",
        "        word = wordlist[i] #For each index, we extract the corresponding word from 'wordlist' and assign it to the variable 'word'.\n",
        "        if word not in nextwordsPractice:\n",
        "            nextwordsPractice[word] = [] #If word not in nextwordsPractice, we added it as a new key to the dictionary and assigned an empty list as its value.\n",
        "\n",
        "        if i < len(wordlist) - 1:\n",
        "            next_word = wordlist[i + 1]\n",
        "            nextwordsPractice[word].append(next_word) #checking if there is a word after the current word and retrieving the next word and adding it to the list\n",
        "\n",
        "  return nextwordsPractice"
      ],
      "metadata": {
        "id": "2XZa2K3C3InW"
      },
      "execution_count": 3,
      "outputs": []
    },
    {
      "cell_type": "markdown",
      "source": [
        "Run the following code:"
      ],
      "metadata": {
        "id": "FH3N2raWjtfd"
      }
    },
    {
      "cell_type": "code",
      "source": [
        "practice = createNextwordsPractice(shakespeare_words)\n",
        "practice['From']"
      ],
      "metadata": {
        "id": "P3M8beYAjiie",
        "outputId": "ad2ff824-49ba-4612-97ab-91f91809cd37",
        "colab": {
          "base_uri": "https://localhost:8080/"
        }
      },
      "execution_count": 4,
      "outputs": [
        {
          "output_type": "execute_result",
          "data": {
            "text/plain": [
              "['fairest',\n",
              " 'his',\n",
              " 'sullen',\n",
              " 'limits',\n",
              " 'hands',\n",
              " 'whence',\n",
              " 'where',\n",
              " 'me',\n",
              " 'this',\n",
              " 'thy',\n",
              " 'hence',\n",
              " 'thee,',\n",
              " 'you',\n",
              " 'heaven',\n",
              " 'her',\n",
              " 'simple',\n",
              " 'whence',\n",
              " 'below',\n",
              " 'lowest',\n",
              " 'courtly',\n",
              " 'son',\n",
              " 'the',\n",
              " 'the',\n",
              " 'Sicyon,',\n",
              " 'Alexandria',\n",
              " 'Silvius,',\n",
              " 'mine',\n",
              " 'the',\n",
              " 'firm',\n",
              " 'Egypt',\n",
              " 'Antony',\n",
              " 'thine',\n",
              " 'that',\n",
              " 'my',\n",
              " 'me',\n",
              " 'henceforth',\n",
              " 'tyrant',\n",
              " 'seventeen',\n",
              " 'miserable',\n",
              " 'whom',\n",
              " 'my',\n",
              " 'whence,',\n",
              " 'me',\n",
              " 'me',\n",
              " 'slaves',\n",
              " 'every',\n",
              " 'rascals',\n",
              " 'whom',\n",
              " 'where',\n",
              " \"th'\",\n",
              " 'Rome',\n",
              " 'off',\n",
              " 'these',\n",
              " 'twelve',\n",
              " \"th'\",\n",
              " 'whence?',\n",
              " 'Rome.',\n",
              " 'thy',\n",
              " 'Gallia',\n",
              " 'fairies',\n",
              " 'off',\n",
              " \"th'\",\n",
              " 'most',\n",
              " 'thy',\n",
              " 'youth',\n",
              " 'every',\n",
              " 'whose',\n",
              " 'so',\n",
              " 'one',\n",
              " 'this',\n",
              " 'the',\n",
              " 'east',\n",
              " 'action',\n",
              " 'my',\n",
              " 'this',\n",
              " 'Leonati',\n",
              " 'her',\n",
              " 'chance',\n",
              " 'south',\n",
              " 'our',\n",
              " 'whence',\n",
              " 'the',\n",
              " 'top',\n",
              " 'this',\n",
              " 'our',\n",
              " 'that',\n",
              " 'me,',\n",
              " 'fashion',\n",
              " 'the',\n",
              " 'another',\n",
              " 'Hamlet?',\n",
              " 'whence',\n",
              " 'whom',\n",
              " \"Rumour's\",\n",
              " 'whence',\n",
              " 'the',\n",
              " 'a',\n",
              " 'a',\n",
              " 'enemies',\n",
              " 'every',\n",
              " 'this',\n",
              " 'the',\n",
              " 'open',\n",
              " 'whom',\n",
              " \"glist'ring\",\n",
              " 'our',\n",
              " 'him,',\n",
              " 'his',\n",
              " 'him,',\n",
              " 'camp',\n",
              " 'this',\n",
              " 'off',\n",
              " 'helmet',\n",
              " 'him',\n",
              " 'off',\n",
              " 'Lionel',\n",
              " 'John',\n",
              " 'famous',\n",
              " 'envious',\n",
              " 'whence',\n",
              " 'thence',\n",
              " 'bought',\n",
              " 'thee,',\n",
              " 'top',\n",
              " 'thence',\n",
              " 'meaning',\n",
              " \"treason's\",\n",
              " 'such',\n",
              " 'thee',\n",
              " 'Ireland',\n",
              " \"Clifford's\",\n",
              " 'your',\n",
              " 'London',\n",
              " 'whence',\n",
              " 'off',\n",
              " 'whence',\n",
              " 'Scotland',\n",
              " 'such',\n",
              " 'worthy',\n",
              " 'these',\n",
              " 'giving',\n",
              " 'France?',\n",
              " 'Ravenspurgh',\n",
              " 'shelves',\n",
              " 'those',\n",
              " 'his',\n",
              " 'sincere',\n",
              " 'every',\n",
              " 'foreign',\n",
              " 'princes',\n",
              " 'these',\n",
              " 'any',\n",
              " 'Ampthill,',\n",
              " 'your',\n",
              " 'hence',\n",
              " 'her',\n",
              " 'henceforth',\n",
              " 'France',\n",
              " 'whom',\n",
              " 'that',\n",
              " 'first',\n",
              " 'north',\n",
              " 'all',\n",
              " 'a',\n",
              " 'his',\n",
              " 'France',\n",
              " 'forth',\n",
              " 'whose',\n",
              " 'forth',\n",
              " 'this',\n",
              " 'out',\n",
              " 'forth',\n",
              " 'that',\n",
              " 'the',\n",
              " 'which',\n",
              " 'whom',\n",
              " 'what',\n",
              " 'the',\n",
              " 'hence',\n",
              " 'this',\n",
              " 'Goneril',\n",
              " 'those',\n",
              " 'seasons',\n",
              " 'that',\n",
              " 'her',\n",
              " 'the',\n",
              " 'a',\n",
              " 'tawny',\n",
              " \"reason's\",\n",
              " 'my',\n",
              " 'which',\n",
              " 'my',\n",
              " 'the',\n",
              " \"women's\",\n",
              " 'whence',\n",
              " \"women's\",\n",
              " 'morn',\n",
              " 'what',\n",
              " 'Fife,',\n",
              " 'hence',\n",
              " 'this',\n",
              " 'thence',\n",
              " 'whom',\n",
              " 'the',\n",
              " 'this',\n",
              " 'whence',\n",
              " 'what',\n",
              " 'over-credulous',\n",
              " 'which',\n",
              " 'too',\n",
              " 'whom',\n",
              " 'his',\n",
              " 'fasting',\n",
              " 'thee;',\n",
              " \"flow'ry\",\n",
              " 'thine',\n",
              " 'such',\n",
              " 'our',\n",
              " 'such',\n",
              " 'the',\n",
              " 'the',\n",
              " 'whom',\n",
              " 'Tripolis,',\n",
              " 'Lisbon,',\n",
              " 'out',\n",
              " 'any',\n",
              " 'brassy',\n",
              " 'stubborn',\n",
              " 'both,',\n",
              " 'the',\n",
              " 'the',\n",
              " 'time',\n",
              " 'Athens',\n",
              " \"lovers'\",\n",
              " 'Perigouna,',\n",
              " 'our',\n",
              " 'sleeping',\n",
              " \"monster's\",\n",
              " 'these',\n",
              " 'off',\n",
              " 'the',\n",
              " 'my',\n",
              " 'Claudio,',\n",
              " 'men',\n",
              " 'year',\n",
              " 'her',\n",
              " 'him',\n",
              " 'one',\n",
              " 'jealousy!',\n",
              " 'whence',\n",
              " 'the',\n",
              " 'any',\n",
              " 'the',\n",
              " 'this',\n",
              " 'giving',\n",
              " 'where',\n",
              " 'forth',\n",
              " 'some',\n",
              " 'Ravenspurgh',\n",
              " 'the',\n",
              " 'forth',\n",
              " 'off',\n",
              " 'my',\n",
              " \"Richard's\",\n",
              " 'out',\n",
              " 'sun',\n",
              " \"plume-pluck'd\",\n",
              " 'which',\n",
              " 'whence',\n",
              " 'your',\n",
              " 'whence',\n",
              " 'cold',\n",
              " 'wayward',\n",
              " 'that',\n",
              " 'this',\n",
              " 'my',\n",
              " 'the',\n",
              " 'all',\n",
              " 'forth',\n",
              " 'which',\n",
              " 'all',\n",
              " 'Tamworth',\n",
              " 'the',\n",
              " 'ancient',\n",
              " 'forth',\n",
              " \"Love's\",\n",
              " 'forth',\n",
              " 'off',\n",
              " 'this',\n",
              " 'all',\n",
              " 'Florence,',\n",
              " 'mine',\n",
              " 'the',\n",
              " 'what',\n",
              " 'me,',\n",
              " 'bogs,',\n",
              " 'me',\n",
              " 'Milan',\n",
              " 'toe',\n",
              " 'eaves',\n",
              " 'strange',\n",
              " 'whence',\n",
              " 'Isidore:',\n",
              " 'our',\n",
              " 'forth',\n",
              " 'change',\n",
              " \"gen'ral\",\n",
              " 'high',\n",
              " 'Alcibiades',\n",
              " 'niggard',\n",
              " 'weary',\n",
              " 'where',\n",
              " 'whence',\n",
              " 'this',\n",
              " 'these',\n",
              " 'thousand',\n",
              " 'heaven!',\n",
              " 'isles',\n",
              " 'his',\n",
              " 'Troy.',\n",
              " \"Cupid's\",\n",
              " 'false',\n",
              " 'certain',\n",
              " 'Troy',\n",
              " 'heart',\n",
              " 'whence,',\n",
              " 'my',\n",
              " 'the',\n",
              " 'the',\n",
              " 'my',\n",
              " 'a',\n",
              " 'hence,',\n",
              " 'Milan.',\n",
              " 'whom?',\n",
              " 'my',\n",
              " 'heartiness,',\n",
              " 'east,',\n",
              " 'course',\n",
              " 'him',\n",
              " 'our',\n",
              " 'all',\n",
              " 'your',\n",
              " 'those',\n",
              " 'the',\n",
              " \"Dis's\",\n",
              " 'the',\n",
              " 'my',\n",
              " 'thy',\n",
              " 'off']"
            ]
          },
          "metadata": {},
          "execution_count": 4
        }
      ]
    },
    {
      "cell_type": "code",
      "source": [
        "practice['rose']"
      ],
      "metadata": {
        "id": "W5FCOXElICLb",
        "outputId": "9e973b43-99ee-484e-c2c8-1a8d5df483e0",
        "colab": {
          "base_uri": "https://localhost:8080/"
        }
      },
      "execution_count": 5,
      "outputs": [
        {
          "output_type": "execute_result",
          "data": {
            "text/plain": [
              "['might',\n",
              " 'looks',\n",
              " 'is',\n",
              " 'of',\n",
              " 'Of',\n",
              " 'may',\n",
              " 'will',\n",
              " 'of',\n",
              " 'From',\n",
              " 'and',\n",
              " 'of',\n",
              " 'both',\n",
              " 'with',\n",
              " 'from',\n",
              " 'with',\n",
              " 'with',\n",
              " 'side.',\n",
              " 'red,',\n",
              " 'too.',\n",
              " 'in',\n",
              " 'a',\n",
              " 'a',\n",
              " 'I',\n",
              " 'against',\n",
              " 'that',\n",
              " 'and',\n",
              " 'from',\n",
              " 'again,',\n",
              " 'Lest',\n",
              " 'against',\n",
              " 'Than',\n",
              " \"distill'd\",\n",
              " 'on',\n",
              " 'up',\n",
              " 'in',\n",
              " 'wither.',\n",
              " 'and',\n",
              " 'By',\n",
              " 'again?',\n",
              " 'he']"
            ]
          },
          "metadata": {},
          "execution_count": 5
        }
      ]
    },
    {
      "cell_type": "code",
      "source": [
        "practice['rose.']"
      ],
      "metadata": {
        "id": "Vr57wNx5BO4K",
        "outputId": "f3bfe7ba-7dd8-44f9-d171-7f1c9d86e63d",
        "colab": {
          "base_uri": "https://localhost:8080/"
        }
      },
      "execution_count": 6,
      "outputs": [
        {
          "output_type": "execute_result",
          "data": {
            "text/plain": [
              "['It']"
            ]
          },
          "metadata": {},
          "execution_count": 6
        }
      ]
    },
    {
      "cell_type": "markdown",
      "source": [
        "## 2. `nextwords` for real:  new sentences.\n",
        "\n",
        "Next, write a new function called `createNextwords` which takes a `wordlist` and returns a dictionary of `nextwords`, but now with a new additional feature.  \n",
        "In addition to the keys from problem 1, add a special key to the dictionary, which will be the symbol '%'.  This key will signify the first word of a sentence. When scanning the wordlist to construct the `nextwords` dictionary, normally you would add `wordlist[i+1]` to the list `nextwords[wordlist[i]]`. However, if `wordlist[i]` ends with a period, then you should instead add `wordlist[i+1]` to the list nextwords['%']. Also add the very first word of `wordlist` to nextwords['%'].\n",
        "\n",
        "\n",
        "You should be able to produce this output:\n",
        "```\n",
        "> shakespeare_nextwords=createNextwords(shakespeare_words)\n",
        "> shakespeare_nextwords['Rose']\n",
        "['at', 'or', 'or', 'and']\n",
        "\n",
        "> shakespeare_nextwords['rose.']\n",
        "[]\n",
        "\n",
        "> len(shakespeare_nextwords['%'])\n",
        "76543\n",
        "```"
      ],
      "metadata": {
        "id": "t221x1X3iRVA"
      }
    },
    {
      "cell_type": "code",
      "source": [
        "def createNextwords(wordlist):\n",
        "    nextwords = {}  # Initialize an empty dictionary to store the next words\n",
        "\n",
        "    # Handling the first word of the text indicated by its index at 0\n",
        "    nextwords['%'] = [wordlist[0]]\n",
        "\n",
        "    # Iterating through the word list to construct the nextwords dictionary\n",
        "    i = 0\n",
        "    while i < len(wordlist) - 1:\n",
        "        word = wordlist[i]\n",
        "        next_word = wordlist[i + 1]\n",
        "\n",
        "        # Check if the current word ends with a period and the next word starts with a capital letter\n",
        "        if word.endswith('.') and next_word[0].isupper():\n",
        "            # Add the next word to the list associated with the special key '%'\n",
        "            if '%' not in nextwords:\n",
        "                nextwords['%'] = [next_word]\n",
        "            else:\n",
        "                nextwords['%'].append(next_word)\n",
        "\n",
        "            # Moving to the word after the next word\n",
        "            i += 2\n",
        "            continue\n",
        "\n",
        "        # Check if the current word ends with a period\n",
        "        elif word.endswith('.'):\n",
        "            # If yes, add the next word to the list associated with the special key '%'\n",
        "            if '%' not in nextwords:\n",
        "                nextwords['%'] = [next_word]\n",
        "            else:\n",
        "                nextwords['%'].append(next_word)\n",
        "\n",
        "        else:\n",
        "            # If not, add the next word to the list associated with the current word\n",
        "            if word not in nextwords:\n",
        "                nextwords[word] = [next_word]\n",
        "            else:\n",
        "                nextwords[word].append(next_word)\n",
        "\n",
        "        i += 1\n",
        "\n",
        "    return nextwords"
      ],
      "metadata": {
        "id": "Ze_-Uv2alRWX"
      },
      "execution_count": 18,
      "outputs": []
    },
    {
      "cell_type": "code",
      "source": [
        "#sources: https://docs.python.org/3/tutorial/datastructures.html\n",
        "#https://www.geeksforgeeks.org/isupper-islower-lower-upper-python-applications/"
      ],
      "metadata": {
        "id": "7AweZSWLT2Bf"
      },
      "execution_count": null,
      "outputs": []
    },
    {
      "cell_type": "markdown",
      "source": [
        "Run the following code:"
      ],
      "metadata": {
        "id": "x7bamoxBlX6Q"
      }
    },
    {
      "cell_type": "code",
      "source": [
        "shakespeare_nextwords = createNextwords(shakespeare_words)\n",
        "\n",
        "print(shakespeare_nextwords['Rose'])\n",
        "print(len(shakespeare_nextwords['%']))"
      ],
      "metadata": {
        "id": "xv4ANlzvlZ2e",
        "outputId": "68e61b2a-e500-4ac8-8dc3-aa3397d37e4d",
        "colab": {
          "base_uri": "https://localhost:8080/"
        }
      },
      "execution_count": 15,
      "outputs": [
        {
          "output_type": "stream",
          "name": "stdout",
          "text": [
            "['at', 'or', 'or', 'and']\n",
            "58493\n"
          ]
        }
      ]
    },
    {
      "cell_type": "code",
      "source": [
        "print(len(shakespeare_nextwords['rose']))"
      ],
      "metadata": {
        "id": "NsLW7PYYCj1r",
        "outputId": "66ffbd81-35ed-4bc4-f05f-1f2945e245ed",
        "colab": {
          "base_uri": "https://localhost:8080/"
        }
      },
      "execution_count": 16,
      "outputs": [
        {
          "output_type": "stream",
          "name": "stdout",
          "text": [
            "40\n"
          ]
        }
      ]
    },
    {
      "cell_type": "code",
      "source": [
        "print(shakespeare_nextwords['rose.'])"
      ],
      "metadata": {
        "id": "NyjLxUKiIPqG",
        "outputId": "edc8dec5-19ba-44dd-c02a-a71c2154ea96",
        "colab": {
          "base_uri": "https://localhost:8080/",
          "height": 139
        }
      },
      "execution_count": 22,
      "outputs": [
        {
          "output_type": "error",
          "ename": "KeyError",
          "evalue": "'rose.'",
          "traceback": [
            "\u001b[0;31m---------------------------------------------------------------------------\u001b[0m",
            "\u001b[0;31mKeyError\u001b[0m                                  Traceback (most recent call last)",
            "\u001b[0;32m<ipython-input-22-5ec62f6c566a>\u001b[0m in \u001b[0;36m<cell line: 1>\u001b[0;34m()\u001b[0m\n\u001b[0;32m----> 1\u001b[0;31m \u001b[0mprint\u001b[0m\u001b[0;34m(\u001b[0m\u001b[0mshakespeare_nextwords\u001b[0m\u001b[0;34m[\u001b[0m\u001b[0;34m'rose.'\u001b[0m\u001b[0;34m]\u001b[0m\u001b[0;34m)\u001b[0m\u001b[0;34m\u001b[0m\u001b[0;34m\u001b[0m\u001b[0m\n\u001b[0m",
            "\u001b[0;31mKeyError\u001b[0m: 'rose.'"
          ]
        }
      ]
    },
    {
      "cell_type": "code",
      "source": [
        "if 'rose.' in shakespeare_words:\n",
        "  print(\"available\")\n",
        "else:\n",
        "  print(\"The word 'rose.' does not appear in the text \")\n",
        "\n"
      ],
      "metadata": {
        "id": "R0mNsm53RT3l",
        "outputId": "5c4fc683-aba0-4761-fc65-6f108fc98049",
        "colab": {
          "base_uri": "https://localhost:8080/"
        }
      },
      "execution_count": 13,
      "outputs": [
        {
          "output_type": "stream",
          "name": "stdout",
          "text": [
            "available\n"
          ]
        }
      ]
    },
    {
      "cell_type": "markdown",
      "source": [
        "## 3.  Make your own Shakespeare play\n",
        "\n",
        "Okay, that may be a bit of an exaggeration.  Anyway, next up is text generation.  \n",
        "We'll need the choice function:"
      ],
      "metadata": {
        "id": "BCIAfYSIX3VC"
      }
    },
    {
      "cell_type": "code",
      "source": [
        "from random import choice"
      ],
      "metadata": {
        "id": "rbBHDv55Biae"
      },
      "execution_count": 23,
      "outputs": []
    },
    {
      "cell_type": "markdown",
      "source": [
        "This function chooses a random element from a list.  Run this code a few times:"
      ],
      "metadata": {
        "id": "-vCM3Z0BmAw9"
      }
    },
    {
      "cell_type": "code",
      "source": [
        "choice([1, 17, 34, 289])"
      ],
      "metadata": {
        "colab": {
          "base_uri": "https://localhost:8080/"
        },
        "id": "FGMf-UmAl_uf",
        "outputId": "28c62ea1-8fb9-41fe-b7f2-40ad55849793"
      },
      "execution_count": 28,
      "outputs": [
        {
          "output_type": "execute_result",
          "data": {
            "text/plain": [
              "289"
            ]
          },
          "metadata": {},
          "execution_count": 28
        }
      ]
    },
    {
      "cell_type": "markdown",
      "source": [
        "Now, create a function called `makePlay(nextwords,n)` which takes a dictionary `nextwords` and a number `n`, and follows these steps:\n",
        "1. Define an empty `newplay` string.  (I did this for you.)\n",
        "2. Set `currentword` equal to '%'.\n",
        "3. Start a for-loop that will run `n` times.\n",
        "4. Randomly choose a word from the list `nextwords[currentword]`.\n",
        "5. Add the chosen word to `newplay`, followed by a space `' '` character.\n",
        "6. If the chosen word ends in a period, add a newline character '\\n' and set `currentword` equal to `%`.\n",
        "7. Otherwise, set `currentword` equal to the chosen word.\n",
        "8. Go back to step 4.\n",
        "9. When all `n` iterations have finished, your function should return `newplay`."
      ],
      "metadata": {
        "id": "ZmLqxclQYMpl"
      }
    },
    {
      "cell_type": "code",
      "source": [
        "def makePlay(nextwords, n):\n",
        "    newplay = ''  # Initialize an empty string to store the generated text\n",
        "    currentword = '%'  # Start with '%' as the current word\n",
        "\n",
        "    # Start a for-loop that will run n times\n",
        "    for _ in range(n):\n",
        "        # Check if the current word exists in the nextwords dictionary- I added this additional step as there was an error that \"Nathaniel's\" is not present in the nextwords dictionary.\n",
        "        if currentword in nextwords:\n",
        "            # Randomly choose a word from the list nextwords[currentword]\n",
        "            chosen_word = choice(nextwords[currentword])\n",
        "        else:\n",
        "            # If the current word does not exist in the dictionary, choose a new starting word\n",
        "            chosen_word = choice(nextwords['%'])\n",
        "\n",
        "        # Add the chosen word to newplay, followed by a space ' ' character\n",
        "        newplay += chosen_word + ' '\n",
        "\n",
        "        # If the chosen word ends in a period, add a newline character '\\n' and set currentword equal to '%'\n",
        "        if chosen_word.endswith('.'):\n",
        "            newplay += '\\n'\n",
        "            currentword = '%'\n",
        "        else:\n",
        "            # Otherwise, set currentword equal to the chosen word\n",
        "            currentword = chosen_word\n",
        "\n",
        "    return newplay\n"
      ],
      "metadata": {
        "id": "mxyGgnILVnlo"
      },
      "execution_count": 32,
      "outputs": []
    },
    {
      "cell_type": "markdown",
      "source": [
        "Now create a 1000 word Shakesperian play by running the following code:"
      ],
      "metadata": {
        "id": "v_uCxqDZtuhP"
      }
    },
    {
      "cell_type": "code",
      "source": [
        "nextwords=createNextwords(shakespeare_words)\n",
        "newplay=makePlay(nextwords,1000)\n",
        "print(newplay)"
      ],
      "metadata": {
        "id": "KVtzPXWWEdDR",
        "outputId": "27288fb8-86bf-44a3-df2b-7defd683f2d1",
        "colab": {
          "base_uri": "https://localhost:8080/"
        }
      },
      "execution_count": 33,
      "outputs": [
        {
          "output_type": "stream",
          "name": "stdout",
          "text": [
            "Margaret may your daughters profit you hag, you. \n",
            "ANTONIO. \n",
            "FALSTAFF. \n",
            "If I think him the madman is; you must be his weakness, married to CLARENCE] Nay, then I'll still at our well-found successes as she should she pluck'd off, though indirect, Yet in conclusion is, I love this hurly all unwillingness will touch him; and all, ay, his trial. \n",
            "Ham. \n",
            "These eyes, because thou seest, ourselves have stomach, to't before; He hath committed; And then like a fever thee! ARVIRAGUS. \n",
            "I knew what thou hast thou make sick? Will conquer standing here remain Beyond all for it thinks your charge: you walk not deliver'd. \n",
            "O God, thou me for him. \n",
            "And take my lord. \n",
            "Nativity What fashion, and it open. \n",
            "SOOTHSAYER. \n",
            "PROSPERO. \n",
            "Bless thee, Jessica, I have, or red? Hor. \n",
            "Give me that any harm? Those whose charms By so stonish a swain's wearing; and too bad as snow, And she hath more To think in judgment I myself wrong, we know it is- but, good service, my pocket? Prince. \n",
            "He might have no softer bowels, More learned in such receipt with a sweet. \n",
            "For hateful to a gaping on thy voice? FIRST PRENTICE. \n",
            "Kent. \n",
            "The blood off to shake the wit, Or how thy father was, And here below, As thick sight For it first; I will it off. \n",
            "LUCENTIO. \n",
            "HASTINGS. \n",
            "O world, than to refuse to the Christian service of it, Thou know'st was first glance aside And by her. \n",
            "MALCOLM. \n",
            "Boys, CAPTAIN. \n",
            "The second, that Prince be cozen'd and ANTONIO] I'll show, heaven are on his wife, Save bidding you must rate are call'd, return. \n",
            "Be born to make you bestow, in the dullness My lord hath been overthrown And I gave these jars 'Twixt two beget us proud cedars we, as this be any of old Joan madam? No, my uncle of love, with Cassio kill'd! I prithee, Harry, and I were it, set you practise stratagems of this pit? O most pure scoff! KING. \n",
            "Nurse. \n",
            "What said I must not with you; a word without more time bequeath your honour most; Great and naught- Convey'd himself That I pray, More than you got it, Taken as my lord. \n",
            "Your bait for him. \n",
            "CHIEF JUSTICE ELBOW, POMPEY ELBOW. \n",
            "O, farewell, good service wholly to our fortunes bid the wide as one In weeping welkin, I no inch of fighting, and vow That is not chiding; for the DUKE] You have done the time; And for lovers are we shall make the sin cover him do you from Monsieur Le Port Blanc, a quarrel just but thou beest not seek for beggary in this, To pray you, if it be made, my poor Jack guardant cannot be with other men Carrying, I am yours. \n",
            "But I must have met a pedlar. \n",
            "[Aside] The ship and victorious lord! [Knocking] HASTINGS. \n",
            "Their mortal stroke of it. \n",
            "A little spirit, And shall, by witchcraft, and the little reason which both our beggars marry her. \n",
            "TROILUS. \n",
            "The more offences with your Hero. \n",
            "The heavens mend! Graves only in his profit. \n",
            "It could so ray'd? Was there is, When we be here! To make gods Our viands had rather pray you, is it, I'll be you in night; Four of Warwick To load would not how it was That bore not sort of Costard the true enough; I have half his to do not speak a head. \n",
            "VIOLA. \n",
            "I'll marry one presently to a good gods, how to serve the rest you; and comes not go to start a letter? Rom. \n",
            "Flourish. \n",
            "So did leave of snow, and by me speak. \n",
            "Our inland from the giddy multitude to their loan with eyes, which being wooed in the ewe that fraudful man. \n",
            "Examine every man. \n",
            "Pox, Enter BERTRAM LAFEU. \n",
            "PAGE. \n",
            "In doing I dash of jollity. \n",
            "FALSTAFF. \n",
            "PETRUCHIO. \n",
            "About a word will is such. \n",
            "O, pardon me; I approve Your company of it. \n",
            "SICINIUS. \n",
            "[Aside to cuffs and fawneth on carpet of poverty. \n",
            "Fare you or bid my lord? BRUTUS. \n",
            "ELECTRONIC VERSION OF WILLIAM SHAKESPEARE IS COPYRIGHT 1990-1993 BY PROJECT GUTENBERG ETEXT OF THE COMPLETE WORKS OF YORK, SOMERSET, and bridegrooms all, A tapster, sir; but what lies inhearsed in perjur'd note; but honest; Do not fear Your leave to his breast hard; almost was in their halcyon days, In charging you might entreat thee alone. \n",
            "An thou art thou dar'st, proud with others. \n",
            "The bird Hath seen a bad as the inheritance Descend to say, my revenue cherish; Thy school-days frightful, desp'rate, wild, and PATIENCE, woman love that was born. \n",
            "God consigning to him! so general slept, my pretty lady, And with you, a minute gives his valiant general, thou art. \n",
            "By seeming to act, That the chaste stars! Doth he shall make him cringe his dagger, and dissolutely. \n",
            "Ay, and the realm shall get thee open mouth no longer. \n",
            "Very well, Signior Lucentio Must have good worships! Marcius 'O, Jesus bless thee, Made to it, or elsewhere to my tears, Being a bush an empire Up to reform it cried out of drowning thrice, it should escape; For, if you may. \n",
            "Go to see you all places Give, me security. \n",
            "DUKE. \n",
            "SUFFOLK. \n",
            "What weathercock? Did ever angry. \n",
            "LIGARIUS. \n",
            "PETRUCHIO. \n",
            "Enter SIR HUGH MORTIMER, brought your petitions in my death to France. \n",
            "Exeunt SCENE VI. \n",
            "I would unstate myself I list if ever grac'd me the sun himself more clamorous than the Holy Land, Lest I will bespeak him in the little duty to blame. \n",
            "Wherefore ask if not haply of your lordship? Let us with his father do trust us comforts should be better prepared A king, Whose music, and water. \n",
            "CLOWN. \n",
            "Hearing thy weary step, Till she and made he commends the chief desire: A milk-sop, one convey'd away. \n",
            "My sober virtue, answer me. \n",
            "DORCAS. \n",
            "ENOBARBUS. \n",
            "CONSTABLE. \n",
            "Padua. \n",
            "Nay, 'tis now, for in the court? THIRD CITIZEN. \n",
            "They are broke. \n",
            "SHEPHERD. \n",
            "What a man, if you till I shall my name. \n",
            "Far from thy charge. \n",
            "[Rising] VOLUMNIA. \n",
            "Enter NERISSA, LORENZO, \n"
          ]
        }
      ]
    },
    {
      "cell_type": "markdown",
      "source": [
        "At this point you might enjoy finding other sources of text on the internet and replacing the url at the top of this notebook. You can use song lyrics, news articles, etc. You just need to find files ending with '.txt'. Alternatively, you can copy and paste any block of text from any file into colab, assign it to the variable `text`, and then use wordlist=text.split() to get a list of words."
      ],
      "metadata": {
        "id": "cHcYHBcNu65y"
      }
    },
    {
      "cell_type": "code",
      "source": [
        "#This is the poem 'The Road Not Taken' by Robert frost\n",
        "text= \"\"\"Two roads diverged in a yellow wood,\n",
        "And sorry I could not travel both\n",
        "And be one traveler, long I stood\n",
        "And looked down one as far as I could\n",
        "To where it bent in the undergrowth;\n",
        "\n",
        "Then took the other, as just as fair,\n",
        "And having perhaps the better claim,\n",
        "Because it was grassy and wanted wear;\n",
        "Though as for that the passing there\n",
        "Had worn them really about the same,\n",
        "\n",
        "And both that morning equally lay\n",
        "In leaves no step had trodden black.\n",
        "Oh, I kept the first for another day!\n",
        "Yet knowing how way leads on to way,\n",
        "I doubted if I should ever come back.\n",
        "\n",
        "I shall be telling this with a sigh\n",
        "Somewhere ages and ages hence:\n",
        "Two roads diverged in a wood, and I—\n",
        "I took the one less traveled by,\n",
        "And that has made all the difference.\"\"\"\n",
        "wordlist= text.split()\n",
        "print(wordlist)\n",
        "\n",
        "#the rest of the steps would continue as followed in the above blocks of code except with this new text chunk"
      ],
      "metadata": {
        "id": "Bhu6eXd3WAt1",
        "outputId": "95db9e41-5f90-4018-da7b-565466b57541",
        "colab": {
          "base_uri": "https://localhost:8080/"
        }
      },
      "execution_count": 34,
      "outputs": [
        {
          "output_type": "stream",
          "name": "stdout",
          "text": [
            "['Two', 'roads', 'diverged', 'in', 'a', 'yellow', 'wood,', 'And', 'sorry', 'I', 'could', 'not', 'travel', 'both', 'And', 'be', 'one', 'traveler,', 'long', 'I', 'stood', 'And', 'looked', 'down', 'one', 'as', 'far', 'as', 'I', 'could', 'To', 'where', 'it', 'bent', 'in', 'the', 'undergrowth;', 'Then', 'took', 'the', 'other,', 'as', 'just', 'as', 'fair,', 'And', 'having', 'perhaps', 'the', 'better', 'claim,', 'Because', 'it', 'was', 'grassy', 'and', 'wanted', 'wear;', 'Though', 'as', 'for', 'that', 'the', 'passing', 'there', 'Had', 'worn', 'them', 'really', 'about', 'the', 'same,', 'And', 'both', 'that', 'morning', 'equally', 'lay', 'In', 'leaves', 'no', 'step', 'had', 'trodden', 'black.', 'Oh,', 'I', 'kept', 'the', 'first', 'for', 'another', 'day!', 'Yet', 'knowing', 'how', 'way', 'leads', 'on', 'to', 'way,', 'I', 'doubted', 'if', 'I', 'should', 'ever', 'come', 'back.', 'I', 'shall', 'be', 'telling', 'this', 'with', 'a', 'sigh', 'Somewhere', 'ages', 'and', 'ages', 'hence:', 'Two', 'roads', 'diverged', 'in', 'a', 'wood,', 'and', 'I—', 'I', 'took', 'the', 'one', 'less', 'traveled', 'by,', 'And', 'that', 'has', 'made', 'all', 'the', 'difference.']\n"
          ]
        }
      ]
    },
    {
      "cell_type": "markdown",
      "source": [
        "## Bonus:\n",
        "\n",
        "Recall the following recursive function that we used to define the Fibonacci numbers:"
      ],
      "metadata": {
        "id": "SOZ_vzwJoG45"
      }
    },
    {
      "cell_type": "code",
      "source": [
        "'''\n",
        "def fibonacci(n):\n",
        "  # Base cases: F(0) = 0, F(1) = 1\n",
        "  if n == 0:\n",
        "    return 0\n",
        "  elif n == 1:\n",
        "    return 1\n",
        "  else:\n",
        "    # Recursive case: F(n) = F(n-1) + F(n-2)\n",
        "    return fibonacci(n - 1) + fibonacci(n - 2)\n",
        "    '''\n"
      ],
      "metadata": {
        "id": "KTj2L--_oQDu"
      },
      "execution_count": 40,
      "outputs": []
    },
    {
      "cell_type": "code",
      "source": [
        "#modifying the fibonacci() function to accept an additional parameter count\n",
        "def fibonacci(n, count=0):\n",
        "    # Incrementing the count by 1 for each function call\n",
        "    count += 1\n",
        "\n",
        "    # Base cases: F(0) = 0, F(1) = 1\n",
        "    #checking if n= 0 and 1 which are the base cases/ starting points of the sequence\n",
        "    if n == 0:\n",
        "        return 0, count\n",
        "    elif n == 1:\n",
        "        return 1, count\n",
        "    else:\n",
        "        # Recursive case: F(n) = F(n-1) + F(n-2)\n",
        "        # If n is not 0 or 1, it recursively calls the fibonacci() function for n-1 and n-2 to calculate the Fibonacci numbers for those positions.\n",
        "        #it then returns the fibonacci numbers along with the count\n",
        "        fib_n_1, count = fibonacci(n - 1, count)\n",
        "        fib_n_2, count = fibonacci(n - 2, count)\n",
        "        return fib_n_1 + fib_n_2, count\n",
        "\n",
        "# Calculate fibonacci(17) and get the count of function calls\n",
        "fib_result, number_of_calls = fibonacci(17)\n",
        "print(\"value returned by the function Fibonacci(17) =\", fib_result)\n",
        "print(\"Number of function calls:\", number_of_calls)\n",
        "\n"
      ],
      "metadata": {
        "id": "uyyQEe9KY2fX",
        "outputId": "cb6ac533-14a3-4057-9a32-01cf4e021941",
        "colab": {
          "base_uri": "https://localhost:8080/"
        }
      },
      "execution_count": 46,
      "outputs": [
        {
          "output_type": "stream",
          "name": "stdout",
          "text": [
            "value returned by the function Fibonacci(17) = 1597\n",
            "Number of function calls: 5167\n"
          ]
        }
      ]
    },
    {
      "cell_type": "markdown",
      "source": [
        "Here is the question.  If you run this line of code:  \n",
        "`fibonacci(17)`  \n",
        "how many times does the function `fibonacci()` get called?  \n",
        "(The answer is not 1597, which is the value returned by the function.)"
      ],
      "metadata": {
        "id": "C-PtiPKwod0m"
      }
    }
  ]
}