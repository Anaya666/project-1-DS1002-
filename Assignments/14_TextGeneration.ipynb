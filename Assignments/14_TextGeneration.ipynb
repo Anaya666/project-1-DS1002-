{
  "nbformat": 4,
  "nbformat_minor": 0,
  "metadata": {
    "colab": {
      "provenance": [],
      "include_colab_link": true
    },
    "kernelspec": {
      "name": "python3",
      "display_name": "Python 3"
    },
    "language_info": {
      "name": "python"
    }
  },
  "cells": [
    {
      "cell_type": "markdown",
      "metadata": {
        "id": "view-in-github",
        "colab_type": "text"
      },
      "source": [
        "<a href=\"https://colab.research.google.com/github/Anaya666/project-1-DS1002-/blob/main/Assignments/14_TextGeneration.ipynb\" target=\"_parent\"><img src=\"https://colab.research.google.com/assets/colab-badge.svg\" alt=\"Open In Colab\"/></a>"
      ]
    },
    {
      "cell_type": "markdown",
      "source": [
        "## Final homework assignment:  generating text from a corpus\n",
        "\n",
        "Due Friday 3 May at 5 pm"
      ],
      "metadata": {
        "id": "tWbrZqoW5281"
      }
    },
    {
      "cell_type": "markdown",
      "source": [
        "We begin by loading all of Shakespeare's plays into a text file, and separating them into individual words.  This is made easy by the fact that someone already made a giant text file of these plays for us, and put it online.\n",
        "\n",
        "[Note that by changing the url in the following code chunk, you can load any text file that lives online in this way . . . see below.]\n",
        "\n",
        "Run the following code.  It should output a list of ten words, starting with 'From' and ending with 'rose'."
      ],
      "metadata": {
        "id": "7tMMjgkjF7gk"
      }
    },
    {
      "cell_type": "code",
      "source": [
        "from urllib.request import urlopen            #package for reading info from the web\n",
        "url='https://ocw.mit.edu/ans7870/6/6.006/s08/lecturenotes/files/t8.shakespeare.txt'   #web address\n",
        "text = urlopen(url).read().decode('utf-8')    #open web address, read file, convert to text\n",
        "shakespeare_words=text.split()[1651:]         #split text into words (not including preamble)\n",
        "shakespeare_words[:10]                        #display the first 10 words"
      ],
      "metadata": {
        "id": "PoW71ljm2GS-",
        "colab": {
          "base_uri": "https://localhost:8080/"
        },
        "outputId": "e68faa7b-40b6-4e50-8391-07ce3a9cb1b6"
      },
      "execution_count": 1,
      "outputs": [
        {
          "output_type": "execute_result",
          "data": {
            "text/plain": [
              "['From',\n",
              " 'fairest',\n",
              " 'creatures',\n",
              " 'we',\n",
              " 'desire',\n",
              " 'increase,',\n",
              " 'That',\n",
              " 'thereby',\n",
              " \"beauty's\",\n",
              " 'rose']"
            ]
          },
          "metadata": {},
          "execution_count": 1
        }
      ]
    },
    {
      "cell_type": "markdown",
      "source": [
        "## 1. `nextwords` practice\n",
        "\n",
        "Create a practice function called `createNextwordsPractice` which takes a list of words called `wordlist` and returns a dictionary called `nextwordsPractice`. The keys of `nextwordsPractice` should be all the words in `wordlist`, and the value for any given key should be a list of all the words that follow the key word somewhere in the original `wordlist`.\n",
        "\n"
      ],
      "metadata": {
        "id": "AIeohQaAHRF8"
      }
    },
    {
      "cell_type": "code",
      "source": [
        "def createNextwordsPractice(wordlist): #this is an empty dictionary that will store our results\n",
        "  nextwordsPractice = {}\n",
        "  for i in range(len(wordlist)): #looping through all words in wordlist\n",
        "        word = wordlist[i] #For each index, we extract the corresponding word from 'wordlist' and assign it to the variable 'word'.\n",
        "        if word not in nextwordsPractice:\n",
        "            nextwordsPractice[word] = [] #If word not in nextwordsPractice, we added it as a new key to the dictionary and assigned an empty list as its value.\n",
        "\n",
        "        if i < len(wordlist) - 1:\n",
        "            next_word = wordlist[i + 1]\n",
        "            nextwordsPractice[word].append(next_word) #checking if there is a word after the current word and retrieving the next word and adding it to the list\n",
        "\n",
        "  return nextwordsPractice"
      ],
      "metadata": {
        "id": "2XZa2K3C3InW"
      },
      "execution_count": 2,
      "outputs": []
    },
    {
      "cell_type": "markdown",
      "source": [
        "Run the following code:"
      ],
      "metadata": {
        "id": "FH3N2raWjtfd"
      }
    },
    {
      "cell_type": "code",
      "source": [
        "practice = createNextwordsPractice(shakespeare_words)\n",
        "practice['From']"
      ],
      "metadata": {
        "id": "P3M8beYAjiie",
        "colab": {
          "base_uri": "https://localhost:8080/"
        },
        "outputId": "60db3f2b-f5cb-40d5-f11a-06ab24cd35e8"
      },
      "execution_count": 3,
      "outputs": [
        {
          "output_type": "execute_result",
          "data": {
            "text/plain": [
              "['fairest',\n",
              " 'his',\n",
              " 'sullen',\n",
              " 'limits',\n",
              " 'hands',\n",
              " 'whence',\n",
              " 'where',\n",
              " 'me',\n",
              " 'this',\n",
              " 'thy',\n",
              " 'hence',\n",
              " 'thee,',\n",
              " 'you',\n",
              " 'heaven',\n",
              " 'her',\n",
              " 'simple',\n",
              " 'whence',\n",
              " 'below',\n",
              " 'lowest',\n",
              " 'courtly',\n",
              " 'son',\n",
              " 'the',\n",
              " 'the',\n",
              " 'Sicyon,',\n",
              " 'Alexandria',\n",
              " 'Silvius,',\n",
              " 'mine',\n",
              " 'the',\n",
              " 'firm',\n",
              " 'Egypt',\n",
              " 'Antony',\n",
              " 'thine',\n",
              " 'that',\n",
              " 'my',\n",
              " 'me',\n",
              " 'henceforth',\n",
              " 'tyrant',\n",
              " 'seventeen',\n",
              " 'miserable',\n",
              " 'whom',\n",
              " 'my',\n",
              " 'whence,',\n",
              " 'me',\n",
              " 'me',\n",
              " 'slaves',\n",
              " 'every',\n",
              " 'rascals',\n",
              " 'whom',\n",
              " 'where',\n",
              " \"th'\",\n",
              " 'Rome',\n",
              " 'off',\n",
              " 'these',\n",
              " 'twelve',\n",
              " \"th'\",\n",
              " 'whence?',\n",
              " 'Rome.',\n",
              " 'thy',\n",
              " 'Gallia',\n",
              " 'fairies',\n",
              " 'off',\n",
              " \"th'\",\n",
              " 'most',\n",
              " 'thy',\n",
              " 'youth',\n",
              " 'every',\n",
              " 'whose',\n",
              " 'so',\n",
              " 'one',\n",
              " 'this',\n",
              " 'the',\n",
              " 'east',\n",
              " 'action',\n",
              " 'my',\n",
              " 'this',\n",
              " 'Leonati',\n",
              " 'her',\n",
              " 'chance',\n",
              " 'south',\n",
              " 'our',\n",
              " 'whence',\n",
              " 'the',\n",
              " 'top',\n",
              " 'this',\n",
              " 'our',\n",
              " 'that',\n",
              " 'me,',\n",
              " 'fashion',\n",
              " 'the',\n",
              " 'another',\n",
              " 'Hamlet?',\n",
              " 'whence',\n",
              " 'whom',\n",
              " \"Rumour's\",\n",
              " 'whence',\n",
              " 'the',\n",
              " 'a',\n",
              " 'a',\n",
              " 'enemies',\n",
              " 'every',\n",
              " 'this',\n",
              " 'the',\n",
              " 'open',\n",
              " 'whom',\n",
              " \"glist'ring\",\n",
              " 'our',\n",
              " 'him,',\n",
              " 'his',\n",
              " 'him,',\n",
              " 'camp',\n",
              " 'this',\n",
              " 'off',\n",
              " 'helmet',\n",
              " 'him',\n",
              " 'off',\n",
              " 'Lionel',\n",
              " 'John',\n",
              " 'famous',\n",
              " 'envious',\n",
              " 'whence',\n",
              " 'thence',\n",
              " 'bought',\n",
              " 'thee,',\n",
              " 'top',\n",
              " 'thence',\n",
              " 'meaning',\n",
              " \"treason's\",\n",
              " 'such',\n",
              " 'thee',\n",
              " 'Ireland',\n",
              " \"Clifford's\",\n",
              " 'your',\n",
              " 'London',\n",
              " 'whence',\n",
              " 'off',\n",
              " 'whence',\n",
              " 'Scotland',\n",
              " 'such',\n",
              " 'worthy',\n",
              " 'these',\n",
              " 'giving',\n",
              " 'France?',\n",
              " 'Ravenspurgh',\n",
              " 'shelves',\n",
              " 'those',\n",
              " 'his',\n",
              " 'sincere',\n",
              " 'every',\n",
              " 'foreign',\n",
              " 'princes',\n",
              " 'these',\n",
              " 'any',\n",
              " 'Ampthill,',\n",
              " 'your',\n",
              " 'hence',\n",
              " 'her',\n",
              " 'henceforth',\n",
              " 'France',\n",
              " 'whom',\n",
              " 'that',\n",
              " 'first',\n",
              " 'north',\n",
              " 'all',\n",
              " 'a',\n",
              " 'his',\n",
              " 'France',\n",
              " 'forth',\n",
              " 'whose',\n",
              " 'forth',\n",
              " 'this',\n",
              " 'out',\n",
              " 'forth',\n",
              " 'that',\n",
              " 'the',\n",
              " 'which',\n",
              " 'whom',\n",
              " 'what',\n",
              " 'the',\n",
              " 'hence',\n",
              " 'this',\n",
              " 'Goneril',\n",
              " 'those',\n",
              " 'seasons',\n",
              " 'that',\n",
              " 'her',\n",
              " 'the',\n",
              " 'a',\n",
              " 'tawny',\n",
              " \"reason's\",\n",
              " 'my',\n",
              " 'which',\n",
              " 'my',\n",
              " 'the',\n",
              " \"women's\",\n",
              " 'whence',\n",
              " \"women's\",\n",
              " 'morn',\n",
              " 'what',\n",
              " 'Fife,',\n",
              " 'hence',\n",
              " 'this',\n",
              " 'thence',\n",
              " 'whom',\n",
              " 'the',\n",
              " 'this',\n",
              " 'whence',\n",
              " 'what',\n",
              " 'over-credulous',\n",
              " 'which',\n",
              " 'too',\n",
              " 'whom',\n",
              " 'his',\n",
              " 'fasting',\n",
              " 'thee;',\n",
              " \"flow'ry\",\n",
              " 'thine',\n",
              " 'such',\n",
              " 'our',\n",
              " 'such',\n",
              " 'the',\n",
              " 'the',\n",
              " 'whom',\n",
              " 'Tripolis,',\n",
              " 'Lisbon,',\n",
              " 'out',\n",
              " 'any',\n",
              " 'brassy',\n",
              " 'stubborn',\n",
              " 'both,',\n",
              " 'the',\n",
              " 'the',\n",
              " 'time',\n",
              " 'Athens',\n",
              " \"lovers'\",\n",
              " 'Perigouna,',\n",
              " 'our',\n",
              " 'sleeping',\n",
              " \"monster's\",\n",
              " 'these',\n",
              " 'off',\n",
              " 'the',\n",
              " 'my',\n",
              " 'Claudio,',\n",
              " 'men',\n",
              " 'year',\n",
              " 'her',\n",
              " 'him',\n",
              " 'one',\n",
              " 'jealousy!',\n",
              " 'whence',\n",
              " 'the',\n",
              " 'any',\n",
              " 'the',\n",
              " 'this',\n",
              " 'giving',\n",
              " 'where',\n",
              " 'forth',\n",
              " 'some',\n",
              " 'Ravenspurgh',\n",
              " 'the',\n",
              " 'forth',\n",
              " 'off',\n",
              " 'my',\n",
              " \"Richard's\",\n",
              " 'out',\n",
              " 'sun',\n",
              " \"plume-pluck'd\",\n",
              " 'which',\n",
              " 'whence',\n",
              " 'your',\n",
              " 'whence',\n",
              " 'cold',\n",
              " 'wayward',\n",
              " 'that',\n",
              " 'this',\n",
              " 'my',\n",
              " 'the',\n",
              " 'all',\n",
              " 'forth',\n",
              " 'which',\n",
              " 'all',\n",
              " 'Tamworth',\n",
              " 'the',\n",
              " 'ancient',\n",
              " 'forth',\n",
              " \"Love's\",\n",
              " 'forth',\n",
              " 'off',\n",
              " 'this',\n",
              " 'all',\n",
              " 'Florence,',\n",
              " 'mine',\n",
              " 'the',\n",
              " 'what',\n",
              " 'me,',\n",
              " 'bogs,',\n",
              " 'me',\n",
              " 'Milan',\n",
              " 'toe',\n",
              " 'eaves',\n",
              " 'strange',\n",
              " 'whence',\n",
              " 'Isidore:',\n",
              " 'our',\n",
              " 'forth',\n",
              " 'change',\n",
              " \"gen'ral\",\n",
              " 'high',\n",
              " 'Alcibiades',\n",
              " 'niggard',\n",
              " 'weary',\n",
              " 'where',\n",
              " 'whence',\n",
              " 'this',\n",
              " 'these',\n",
              " 'thousand',\n",
              " 'heaven!',\n",
              " 'isles',\n",
              " 'his',\n",
              " 'Troy.',\n",
              " \"Cupid's\",\n",
              " 'false',\n",
              " 'certain',\n",
              " 'Troy',\n",
              " 'heart',\n",
              " 'whence,',\n",
              " 'my',\n",
              " 'the',\n",
              " 'the',\n",
              " 'my',\n",
              " 'a',\n",
              " 'hence,',\n",
              " 'Milan.',\n",
              " 'whom?',\n",
              " 'my',\n",
              " 'heartiness,',\n",
              " 'east,',\n",
              " 'course',\n",
              " 'him',\n",
              " 'our',\n",
              " 'all',\n",
              " 'your',\n",
              " 'those',\n",
              " 'the',\n",
              " \"Dis's\",\n",
              " 'the',\n",
              " 'my',\n",
              " 'thy',\n",
              " 'off']"
            ]
          },
          "metadata": {},
          "execution_count": 3
        }
      ]
    },
    {
      "cell_type": "code",
      "source": [
        "practice['rose']"
      ],
      "metadata": {
        "id": "W5FCOXElICLb",
        "colab": {
          "base_uri": "https://localhost:8080/"
        },
        "outputId": "3d375117-b686-4091-f61a-582c6df92831"
      },
      "execution_count": 4,
      "outputs": [
        {
          "output_type": "execute_result",
          "data": {
            "text/plain": [
              "['might',\n",
              " 'looks',\n",
              " 'is',\n",
              " 'of',\n",
              " 'Of',\n",
              " 'may',\n",
              " 'will',\n",
              " 'of',\n",
              " 'From',\n",
              " 'and',\n",
              " 'of',\n",
              " 'both',\n",
              " 'with',\n",
              " 'from',\n",
              " 'with',\n",
              " 'with',\n",
              " 'side.',\n",
              " 'red,',\n",
              " 'too.',\n",
              " 'in',\n",
              " 'a',\n",
              " 'a',\n",
              " 'I',\n",
              " 'against',\n",
              " 'that',\n",
              " 'and',\n",
              " 'from',\n",
              " 'again,',\n",
              " 'Lest',\n",
              " 'against',\n",
              " 'Than',\n",
              " \"distill'd\",\n",
              " 'on',\n",
              " 'up',\n",
              " 'in',\n",
              " 'wither.',\n",
              " 'and',\n",
              " 'By',\n",
              " 'again?',\n",
              " 'he']"
            ]
          },
          "metadata": {},
          "execution_count": 4
        }
      ]
    },
    {
      "cell_type": "code",
      "source": [
        "practice['rose.']"
      ],
      "metadata": {
        "id": "Vr57wNx5BO4K",
        "colab": {
          "base_uri": "https://localhost:8080/"
        },
        "outputId": "58e67d67-24f6-4989-d1fc-355323489c7e"
      },
      "execution_count": 5,
      "outputs": [
        {
          "output_type": "execute_result",
          "data": {
            "text/plain": [
              "['It']"
            ]
          },
          "metadata": {},
          "execution_count": 5
        }
      ]
    },
    {
      "cell_type": "markdown",
      "source": [
        "## 2. `nextwords` for real:  new sentences.\n",
        "\n",
        "Next, write a new function called `createNextwords` which takes a `wordlist` and returns a dictionary of `nextwords`, but now with a new additional feature.  \n",
        "In addition to the keys from problem 1, add a special key to the dictionary, which will be the symbol '%'.  This key will signify the first word of a sentence. When scanning the wordlist to construct the `nextwords` dictionary, normally you would add `wordlist[i+1]` to the list `nextwords[wordlist[i]]`. However, if `wordlist[i]` ends with a period, then you should instead add `wordlist[i+1]` to the list nextwords['%']. Also add the very first word of `wordlist` to nextwords['%'].\n",
        "\n",
        "\n",
        "You should be able to produce this output:\n",
        "```\n",
        "> shakespeare_nextwords=createNextwords(shakespeare_words)\n",
        "> shakespeare_nextwords['Rose']\n",
        "['at', 'or', 'or', 'and']\n",
        "\n",
        "> shakespeare_nextwords['rose.']\n",
        "[]\n",
        "\n",
        "> len(shakespeare_nextwords['%'])\n",
        "76543\n",
        "```"
      ],
      "metadata": {
        "id": "t221x1X3iRVA"
      }
    },
    {
      "cell_type": "code",
      "source": [
        "def createNextwords(wordlist): #this is an empty dictionary that will store our results\n",
        "  nextwords = {}\n",
        "  for i in range(len(wordlist)): #looping through all words in wordlist\n",
        "        word = wordlist[i] #For each index, we extract the corresponding word from 'wordlist' and assign it to the variable 'word'.\n",
        "        if word not in nextwords:\n",
        "            nextwords[word] = [] #If word not in nextwordsPractice, we added it as a new key to the dictionary and assigned an empty list as its value.\n",
        "\n",
        "        if i < len(wordlist) - 1:\n",
        "          next_word = wordlist[i + 1]\n",
        "\n",
        "\n",
        "          # Check if the current word ends with a period and the next word starts with a capital letter\n",
        "          if word.endswith('.') and next_word[0].isupper():\n",
        "              # Add the next word to the list associated with the special key '%'\n",
        "\n",
        "            nextwords['%'].append(next_word)\n",
        "\n",
        "              # Moving to the word after the next word\n",
        "            i += 2\n",
        "            continue\n",
        "\n",
        "          # Check if the current word ends with a period\n",
        "          elif word.endswith('.'):\n",
        "              # If yes, add the next word to the list associated with the special key '%'\n",
        "              if '%' not in nextwords:\n",
        "                nextwords['%'] = [next_word]\n",
        "              else:\n",
        "                nextwords['%'].append(next_word)\n",
        "\n",
        "          else:\n",
        "              # If not, add the next word to the list associated with the current word\n",
        "              if word not in nextwords:\n",
        "                  nextwords[word] = [next_word]\n",
        "              else:\n",
        "                  nextwords[word].append(next_word)\n",
        "\n",
        "        i += 1\n",
        "  return nextwords"
      ],
      "metadata": {
        "id": "Ze_-Uv2alRWX"
      },
      "execution_count": 6,
      "outputs": []
    },
    {
      "cell_type": "code",
      "source": [
        "#sources: https://docs.python.org/3/tutorial/datastructures.html\n",
        "#https://www.geeksforgeeks.org/isupper-islower-lower-upper-python-applications/"
      ],
      "metadata": {
        "id": "7AweZSWLT2Bf"
      },
      "execution_count": 7,
      "outputs": []
    },
    {
      "cell_type": "markdown",
      "source": [
        "Run the following code:"
      ],
      "metadata": {
        "id": "x7bamoxBlX6Q"
      }
    },
    {
      "cell_type": "code",
      "source": [
        "shakespeare_nextwords = createNextwords(shakespeare_words)\n",
        "\n",
        "print(shakespeare_nextwords['Rose'])\n",
        "print(len(shakespeare_nextwords['%']))"
      ],
      "metadata": {
        "id": "xv4ANlzvlZ2e",
        "colab": {
          "base_uri": "https://localhost:8080/"
        },
        "outputId": "38c0f14c-ebf3-43d2-bf62-8b478f58aa78"
      },
      "execution_count": 8,
      "outputs": [
        {
          "output_type": "stream",
          "name": "stdout",
          "text": [
            "['at', 'or', 'or', 'and']\n",
            "76542\n"
          ]
        }
      ]
    },
    {
      "cell_type": "code",
      "source": [
        "print(len(shakespeare_nextwords['rose']))"
      ],
      "metadata": {
        "id": "NsLW7PYYCj1r",
        "colab": {
          "base_uri": "https://localhost:8080/"
        },
        "outputId": "8fe7feb9-e1c8-4f10-e02c-d448754458a2"
      },
      "execution_count": 9,
      "outputs": [
        {
          "output_type": "stream",
          "name": "stdout",
          "text": [
            "40\n"
          ]
        }
      ]
    },
    {
      "cell_type": "code",
      "source": [
        "print(shakespeare_nextwords['rose.'])"
      ],
      "metadata": {
        "id": "NyjLxUKiIPqG",
        "colab": {
          "base_uri": "https://localhost:8080/"
        },
        "outputId": "0005dbff-9cb6-478c-f469-44e9ec791db7"
      },
      "execution_count": 10,
      "outputs": [
        {
          "output_type": "stream",
          "name": "stdout",
          "text": [
            "[]\n"
          ]
        }
      ]
    },
    {
      "cell_type": "code",
      "source": [
        "if 'rose.' in shakespeare_words:\n",
        "  print(\"available\")\n",
        "else:\n",
        "  print(\"The word 'rose.' does not appear in the text \")\n",
        "\n"
      ],
      "metadata": {
        "colab": {
          "base_uri": "https://localhost:8080/"
        },
        "id": "R0mNsm53RT3l",
        "outputId": "e774f2b9-7c5c-4d09-a110-6be689af820c"
      },
      "execution_count": 11,
      "outputs": [
        {
          "output_type": "stream",
          "name": "stdout",
          "text": [
            "available\n"
          ]
        }
      ]
    },
    {
      "cell_type": "markdown",
      "source": [
        "## 3.  Make your own Shakespeare play\n",
        "\n",
        "Okay, that may be a bit of an exaggeration.  Anyway, next up is text generation.  \n",
        "We'll need the choice function:"
      ],
      "metadata": {
        "id": "BCIAfYSIX3VC"
      }
    },
    {
      "cell_type": "code",
      "source": [
        "from random import choice"
      ],
      "metadata": {
        "id": "rbBHDv55Biae"
      },
      "execution_count": 12,
      "outputs": []
    },
    {
      "cell_type": "markdown",
      "source": [
        "This function chooses a random element from a list.  Run this code a few times:"
      ],
      "metadata": {
        "id": "-vCM3Z0BmAw9"
      }
    },
    {
      "cell_type": "code",
      "source": [
        "choice([1, 17, 34, 289])"
      ],
      "metadata": {
        "colab": {
          "base_uri": "https://localhost:8080/"
        },
        "id": "FGMf-UmAl_uf",
        "outputId": "1341bc06-1408-4413-a2db-0832ece789f3"
      },
      "execution_count": 13,
      "outputs": [
        {
          "output_type": "execute_result",
          "data": {
            "text/plain": [
              "17"
            ]
          },
          "metadata": {},
          "execution_count": 13
        }
      ]
    },
    {
      "cell_type": "markdown",
      "source": [
        "Now, create a function called `makePlay(nextwords,n)` which takes a dictionary `nextwords` and a number `n`, and follows these steps:\n",
        "1. Define an empty `newplay` string.  (I did this for you.)\n",
        "2. Set `currentword` equal to '%'.\n",
        "3. Start a for-loop that will run `n` times.\n",
        "4. Randomly choose a word from the list `nextwords[currentword]`.\n",
        "5. Add the chosen word to `newplay`, followed by a space `' '` character.\n",
        "6. If the chosen word ends in a period, add a newline character '\\n' and set `currentword` equal to `%`.\n",
        "7. Otherwise, set `currentword` equal to the chosen word.\n",
        "8. Go back to step 4.\n",
        "9. When all `n` iterations have finished, your function should return `newplay`."
      ],
      "metadata": {
        "id": "ZmLqxclQYMpl"
      }
    },
    {
      "cell_type": "code",
      "source": [
        "def makePlay(nextwords, n):\n",
        "    newplay = ''  # Initialize an empty string to store the generated text\n",
        "    currentword = '%'  # Start with '%' as the current word\n",
        "\n",
        "    # Start a for-loop that will run n times\n",
        "    for _ in range(n):\n",
        "        # Check if the current word exists in the nextwords dictionary- I added this additional step as there was an error that \"Nathaniel's\" is not present in the nextwords dictionary.\n",
        "        if currentword in nextwords:\n",
        "            # Randomly choose a word from the list nextwords[currentword]\n",
        "            chosen_word = choice(nextwords[currentword])\n",
        "        else:\n",
        "            # If the current word does not exist in the dictionary, choose a new starting word\n",
        "            chosen_word = choice(nextwords['%'])\n",
        "\n",
        "        # Add the chosen word to newplay, followed by a space ' ' character\n",
        "        newplay += chosen_word + ' '\n",
        "\n",
        "        # If the chosen word ends in a period, add a newline character '\\n' and set currentword equal to '%'\n",
        "        if chosen_word.endswith('.'):\n",
        "            newplay += '\\n'\n",
        "            currentword = '%'\n",
        "        else:\n",
        "            # Otherwise, set currentword equal to the chosen word\n",
        "            currentword = chosen_word\n",
        "\n",
        "    return newplay\n"
      ],
      "metadata": {
        "id": "mxyGgnILVnlo"
      },
      "execution_count": 14,
      "outputs": []
    },
    {
      "cell_type": "markdown",
      "source": [
        "Now create a 1000 word Shakesperian play by running the following code:"
      ],
      "metadata": {
        "id": "v_uCxqDZtuhP"
      }
    },
    {
      "cell_type": "code",
      "source": [
        "nextwords=createNextwords(shakespeare_words)\n",
        "newplay=makePlay(nextwords,1000)\n",
        "print(newplay)"
      ],
      "metadata": {
        "id": "KVtzPXWWEdDR",
        "colab": {
          "base_uri": "https://localhost:8080/"
        },
        "outputId": "29e27176-3078-49ce-bb8d-f0014ef55864"
      },
      "execution_count": 15,
      "outputs": [
        {
          "output_type": "stream",
          "name": "stdout",
          "text": [
            "Exeunt THE COMPLETE WORKS OF THE COMPLETE WORKS OF THE THIRD WITCH. \n",
            "[Exit Servant.] Lady. \n",
            "Have done Hermione was confederate arms, Both in that the inward quality Of what did never able body, And feel their daughters be in sour annoy! Live, Brutus, is without the town as ever you importun'd her tongue. \n",
            "Sure, When came missives from kind and Trust, his infusion of any of the port. \n",
            "Prince. \n",
            "BELARIUS. \n",
            "Dog! THERSITES. \n",
            "LUCETTA. \n",
            "But then I'll be you with a thousand wooers; Then how long is, Sir M. \n",
            "Rom. \n",
            "HELENA. \n",
            "PRINCESS OF ILLINOIS BENEDICTINE COLLEGE WITH PERMISSION. \n",
            "Exit LUCENTIO. \n",
            "Toward Calais. \n",
            "It hath been as it more of you give way; And that the preparation stands in reputation to lose your lordship be alive Than ever I did prophesy Mischance and my sweet melody. \n",
            "CORIN. \n",
            "The very refuse to be found her women of hospitality. \n",
            "Gon. \n",
            "SCENE V. \n",
            "[Enter Prince, and please you, friend And I would fain would you us'd our purposes; and weep the dungeon of what thou payest; And by his peers, And you begin. \n",
            "IAGO. \n",
            "Brave followers, Plead a tench I will, for sorrow for. \n",
            "It lies the antique pen, Reserve them to my doors, never call'd ransom, ransom! Do not take my promise. \n",
            "HECTOR. \n",
            "If it up. \n",
            "Trust me, Hal, art forced off [within]. \n",
            "Piercing the mere practice, and contemn'dest wretches have reserv'd The fresh-brook mussels, wither'd pears: it be so, my lord, you look'd upon. \n",
            "Fal. \n",
            "Exeunt ANTONIO BASSANIO. \n",
            "BUCKINGHAM. \n",
            "[Aside] And do the honours borne your worthiest of heaven, How now, Master Doctor, in way as pigeons to be ready your quarrel? Speak to blame Light thickens, and mules, silenc'd their high a churchyard- I am not sleep awhile. \n",
            "Then will not kill'd me, As who shall answer it your niece to the wars when thou have forty, fifty, looking on, then; Who doth shadow up, with him tell me your return. \n",
            "By all the melting spirits that doth time I yet made wanton and I hope. \n",
            "LIGARIUS. \n",
            "NERISSA. \n",
            "Go to, go to! You know his parting guest too. \n",
            "FREDERICK. \n",
            "No more in the realm of Caesar? But, O master, read it fare you quiet; if that bear you well.- Beseech your torches and stop the quiet hour bewail the offenders that the sands That thus gives a thunderstroke. \n",
            "O malignant cause had pow'r I'll tell The cognizance of my court. \n",
            "Here in his daughter; But, soft, my books, the bag of loss. \n",
            "KING RICHARD. \n",
            "Ah, my good lads more horses, trapp'd in his own room in the letter to God! How coldly set down feather, That these you deliver a fool will not, he will be least South Sea of ancient stones, you are- the diet. \n",
            "Therefore I'll have too intrinse t' adore a thought it ere I'd give order that sees the tenour of her will, coz, 'tis a lover's ear incline, What's he? PUCK. \n",
            "CAESAR. \n",
            "MOTH. \n",
            "And thus A woman feign a bigger. \n",
            "BRUTUS. \n",
            "But let him and upward, and Demetrius! Keep thou wast here I'll go and good friend, faithful shepherd? CORIN. \n",
            "Therefore the ends of life is all these quick curses! Though you, by nature, That one another MESSENGER MESSENGER. \n",
            "A SENATOR, with forked plague in his word. \n",
            "My fellow-scholars, and the reprobate thought whereof I denying, they themselves did not thy lips. \n",
            "CLOTEN. \n",
            "Sir, she seems you not drunk too; and see how near his conjoins with a month, and failing? O that e'er invention Can he turn'd him to-morrow bid you lay in your country is such a day, I'll ne'er be summer with such a jest unseen, can do no customed event, If you discern at me; and the cup. \n",
            "This act, and cry of his wife. \n",
            "Of double vigour, Bull-bearing Milo his bones and beat my rage and placed under the dead- or I in him 'madam,' do him and being overblown With loyal than I will Seem they come forward horse! What wheels, racks, fires? what are you was delivered over this life, you look you, uncle? EXETER. \n",
            "[A noise is the heart be a purse of blood, That which be brief as much. \n",
            "Your su'd-for tongues? What air's from thence this marriage, tell him. \n",
            "Very like who should take this field of me, and Sir Topas! SIR TOBY. \n",
            "I have broken hilt, and oft'ner, in with the crime Unreconciled as little water once denied that, Master Tapster? POMPEY. \n",
            "MOTH. \n",
            "As I will burn out in single part Pertains to make me vill tell me, and will enforce it shall be propounded him towards thy ransom paid, the tongue that like you, for him; And observation copied there, I must arrest thee well. \n",
            "He rush'd upon his very honest men-pray God help to cut would pardon'd them, and sire! thou hast the Tower. \n",
            "Without impeachment; for, without breach than earth, which burns us to the Dane. \n",
            "For it may embrace my house, and thy cause the glass that the heart. \n",
            "Rude am to death. \n",
            "Lovel and so light of a man can redeem a PAGE PRINCE. \n",
            "Find out water, though 'tis wars. \n",
            "AARON. \n",
            "My tears I dare not, he was a ring. \n",
            "He may go as the better nature, break! Edg. \n",
            "But if you have I did betray our works thou wilt thou, that yet; thou tyrant! Do overpeer the greatest want of honour; And hellish dog, Let there already. \n",
            "It is he did claim by gar, me so, for me, the arras and crooked malice than Octavius Caesar, read you, Or put off from the fox for you. \n",
            "Teach thou speak, sir, stand then, there's the time; And burn bright! It may be suspected of love's sake, will come to Saturnine, Whose compass of my place the Emperor dandle him and take some abram, some music- for my soul answer other will be in the field, And take out of that should be more nearer earth (For now the pulpit, as lying. \n",
            "PISANIO. \n",
            "Let there no man a linstock now let it \n"
          ]
        }
      ]
    },
    {
      "cell_type": "markdown",
      "source": [
        "At this point you might enjoy finding other sources of text on the internet and replacing the url at the top of this notebook. You can use song lyrics, news articles, etc. You just need to find files ending with '.txt'. Alternatively, you can copy and paste any block of text from any file into colab, assign it to the variable `text`, and then use wordlist=text.split() to get a list of words."
      ],
      "metadata": {
        "id": "cHcYHBcNu65y"
      }
    },
    {
      "cell_type": "code",
      "source": [
        "#This is the poem 'The Road Not Taken' by Robert frost\n",
        "text= \"\"\"Two roads diverged in a yellow wood,\n",
        "And sorry I could not travel both\n",
        "And be one traveler, long I stood\n",
        "And looked down one as far as I could\n",
        "To where it bent in the undergrowth;\n",
        "\n",
        "Then took the other, as just as fair,\n",
        "And having perhaps the better claim,\n",
        "Because it was grassy and wanted wear;\n",
        "Though as for that the passing there\n",
        "Had worn them really about the same,\n",
        "\n",
        "And both that morning equally lay\n",
        "In leaves no step had trodden black.\n",
        "Oh, I kept the first for another day!\n",
        "Yet knowing how way leads on to way,\n",
        "I doubted if I should ever come back.\n",
        "\n",
        "I shall be telling this with a sigh\n",
        "Somewhere ages and ages hence:\n",
        "Two roads diverged in a wood, and I—\n",
        "I took the one less traveled by,\n",
        "And that has made all the difference.\"\"\"\n",
        "wordlist= text.split()\n",
        "print(wordlist)\n",
        "\n",
        "#the rest of the steps would continue as followed in the above blocks of code except with this new text chunk"
      ],
      "metadata": {
        "colab": {
          "base_uri": "https://localhost:8080/"
        },
        "id": "Bhu6eXd3WAt1",
        "outputId": "ea6a3403-4069-4a0b-d537-83a1ae82d944"
      },
      "execution_count": 16,
      "outputs": [
        {
          "output_type": "stream",
          "name": "stdout",
          "text": [
            "['Two', 'roads', 'diverged', 'in', 'a', 'yellow', 'wood,', 'And', 'sorry', 'I', 'could', 'not', 'travel', 'both', 'And', 'be', 'one', 'traveler,', 'long', 'I', 'stood', 'And', 'looked', 'down', 'one', 'as', 'far', 'as', 'I', 'could', 'To', 'where', 'it', 'bent', 'in', 'the', 'undergrowth;', 'Then', 'took', 'the', 'other,', 'as', 'just', 'as', 'fair,', 'And', 'having', 'perhaps', 'the', 'better', 'claim,', 'Because', 'it', 'was', 'grassy', 'and', 'wanted', 'wear;', 'Though', 'as', 'for', 'that', 'the', 'passing', 'there', 'Had', 'worn', 'them', 'really', 'about', 'the', 'same,', 'And', 'both', 'that', 'morning', 'equally', 'lay', 'In', 'leaves', 'no', 'step', 'had', 'trodden', 'black.', 'Oh,', 'I', 'kept', 'the', 'first', 'for', 'another', 'day!', 'Yet', 'knowing', 'how', 'way', 'leads', 'on', 'to', 'way,', 'I', 'doubted', 'if', 'I', 'should', 'ever', 'come', 'back.', 'I', 'shall', 'be', 'telling', 'this', 'with', 'a', 'sigh', 'Somewhere', 'ages', 'and', 'ages', 'hence:', 'Two', 'roads', 'diverged', 'in', 'a', 'wood,', 'and', 'I—', 'I', 'took', 'the', 'one', 'less', 'traveled', 'by,', 'And', 'that', 'has', 'made', 'all', 'the', 'difference.']\n"
          ]
        }
      ]
    },
    {
      "cell_type": "markdown",
      "source": [
        "## Bonus:\n",
        "\n",
        "Recall the following recursive function that we used to define the Fibonacci numbers:"
      ],
      "metadata": {
        "id": "SOZ_vzwJoG45"
      }
    },
    {
      "cell_type": "code",
      "source": [
        "'''\n",
        "def fibonacci(n):\n",
        "  # Base cases: F(0) = 0, F(1) = 1\n",
        "  if n == 0:\n",
        "    return 0\n",
        "  elif n == 1:\n",
        "    return 1\n",
        "  else:\n",
        "    # Recursive case: F(n) = F(n-1) + F(n-2)\n",
        "    return fibonacci(n - 1) + fibonacci(n - 2)\n",
        "    '''\n"
      ],
      "metadata": {
        "id": "KTj2L--_oQDu",
        "colab": {
          "base_uri": "https://localhost:8080/",
          "height": 54
        },
        "outputId": "cbe13ee6-386d-4005-d897-692c9adc77a0"
      },
      "execution_count": 17,
      "outputs": [
        {
          "output_type": "execute_result",
          "data": {
            "text/plain": [
              "'\\ndef fibonacci(n):\\n  # Base cases: F(0) = 0, F(1) = 1\\n  if n == 0:\\n    return 0\\n  elif n == 1:\\n    return 1\\n  else:\\n    # Recursive case: F(n) = F(n-1) + F(n-2)\\n    return fibonacci(n - 1) + fibonacci(n - 2)\\n    '"
            ],
            "application/vnd.google.colaboratory.intrinsic+json": {
              "type": "string"
            }
          },
          "metadata": {},
          "execution_count": 17
        }
      ]
    },
    {
      "cell_type": "code",
      "source": [
        "#modifying the fibonacci() function to accept an additional parameter count\n",
        "def fibonacci(n, count=0):\n",
        "    # Incrementing the count by 1 for each function call\n",
        "    count += 1\n",
        "\n",
        "    # Base cases: F(0) = 0, F(1) = 1\n",
        "    #checking if n= 0 and 1 which are the base cases/ starting points of the sequence\n",
        "    if n == 0:\n",
        "        return 0, count\n",
        "    elif n == 1:\n",
        "        return 1, count\n",
        "    else:\n",
        "        # Recursive case: F(n) = F(n-1) + F(n-2)\n",
        "        # If n is not 0 or 1, it recursively calls the fibonacci() function for n-1 and n-2 to calculate the Fibonacci numbers for those positions.\n",
        "        #it then returns the fibonacci numbers along with the count\n",
        "        fib_n_1, count = fibonacci(n - 1, count)\n",
        "        fib_n_2, count = fibonacci(n - 2, count)\n",
        "        return fib_n_1 + fib_n_2, count\n",
        "\n",
        "# Calculate fibonacci(17) and get the count of function calls\n",
        "fib_result, number_of_calls = fibonacci(17)\n",
        "print(\"value returned by the function Fibonacci(17) =\", fib_result)\n",
        "print(\"Number of function calls:\", number_of_calls)\n",
        "\n"
      ],
      "metadata": {
        "colab": {
          "base_uri": "https://localhost:8080/"
        },
        "id": "uyyQEe9KY2fX",
        "outputId": "94bd75a6-e4db-413a-d9d5-9873a2bc39f0"
      },
      "execution_count": 18,
      "outputs": [
        {
          "output_type": "stream",
          "name": "stdout",
          "text": [
            "value returned by the function Fibonacci(17) = 1597\n",
            "Number of function calls: 5167\n"
          ]
        }
      ]
    },
    {
      "cell_type": "markdown",
      "source": [
        "Here is the question.  If you run this line of code:  \n",
        "`fibonacci(17)`  \n",
        "how many times does the function `fibonacci()` get called?  \n",
        "(The answer is not 1597, which is the value returned by the function.)"
      ],
      "metadata": {
        "id": "C-PtiPKwod0m"
      }
    }
  ]
}